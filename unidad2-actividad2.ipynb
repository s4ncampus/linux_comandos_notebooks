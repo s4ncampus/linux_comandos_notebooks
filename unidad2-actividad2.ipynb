{
 "cells": [
  {
   "cell_type": "markdown",
   "metadata": {},
   "source": [
    "# Reconociendo el sistema Linux - Comandos y rutas para el reconocimiento del sistema"
   ]
  },
  {
   "cell_type": "markdown",
   "metadata": {},
   "source": [
    "![title](binder/img/G_Med_Gym.png)"
   ]
  },
  {
   "cell_type": "markdown",
   "metadata": {},
   "source": [
    "Durante esta actividad quisieramos que aprendas algunos comandos para reconocer mejor el sistema que estás utilizando.\n",
    "\n",
    "Aquí pondrémos a continuación algunas ___*cajas de comandos*___ que te permitirán desarrollar la actividad. Una ___*caja de comando*___ es un elemento como el siguiente:\n"
   ]
  },
  {
   "cell_type": "code",
   "execution_count": null,
   "metadata": {},
   "outputs": [],
   "source": [
    "cat README.md"
   ]
  },
  {
   "cell_type": "markdown",
   "metadata": {},
   "source": [
    "Las cajas de comandos son editables, algunas vendrán llenas con comandos u otras vacías para que pongas el comando que quieras, basta con pararte sobre ellas con el cursor, validar el comando que quieres ejecutar y luego presionar el botón ___*\"Run\"*___ que está en la parte superior de la ventana.\n",
    "\n",
    "Pruébalo con la caja de comandos anterior...\n",
    "\n",
    "Como lo podrás ver, esta caja de comandos tiene en su interior el comando `cat README.md` el cual imprime en pantalla el contenido de un archivo. Si ejecutas ___*\"Run\"*___ el comando se inicia y te muestra en la parte inferior el resultado. De esta misma forma ejecutaremos varios comandos durante toda esta actividad. ¿Estás listo?\n",
    "\n",
    "¡Comencemos!"
   ]
  },
  {
   "cell_type": "markdown",
   "metadata": {},
   "source": [
    "![title](binder/img/L_Docker_U1_reto.jpeg)"
   ]
  },
  {
   "cell_type": "markdown",
   "metadata": {},
   "source": [
    "***"
   ]
  },
  {
   "cell_type": "markdown",
   "metadata": {},
   "source": [
    "# <font color='#47bbca'><left>Actividad 1/6</left></font>"
   ]
  },
  {
   "cell_type": "markdown",
   "metadata": {},
   "source": [
    "Ejecuta el siguiente comando:"
   ]
  },
  {
   "cell_type": "code",
   "execution_count": 5,
   "metadata": {},
   "outputs": [],
   "source": [
    "whoami"
   ]
  },
  {
   "cell_type": "markdown",
   "metadata": {},
   "source": [
    "# <font color='#47bbca'><left>¿Qué acabas de hacer?</left></font>\n",
    "<img src=\"binder/img/L_Docker_U1_pensando.gif\" alt=\"Drawing\" style=\"width: 200px;\" align=\"left\"/>"
   ]
  },
  {
   "cell_type": "markdown",
   "metadata": {},
   "source": [
    "__*El comando `whoami`:*__ \n",
    "\n",
    "(\"*¿Quién soy yo?*\") te permite identificar con que usuario estás operando la terminal."
   ]
  },
  {
   "cell_type": "markdown",
   "metadata": {},
   "source": [
    "En el ejemplo de la anterior ejecución la ejecución te retornó el nombre de usuario con el que estás operando la terminal, en este caso es solo un nombre de usuario.\n",
    "\n",
    "Existe un comando llamado `su` que permite hacer cambios entre usuarios, es decir, si actualmente eres el usuario `usuario1` y quieres ser el usuario `usuario2` simplemente ejecutas:\n",
    "\n",
    "- su `usuario2`\n",
    "\n",
    "Y serás ahora el usuario `usuario2`."
   ]
  },
  {
   "cell_type": "markdown",
   "metadata": {},
   "source": [
    "***"
   ]
  },
  {
   "cell_type": "markdown",
   "metadata": {},
   "source": [
    "# <font color='#47bbca'><left>Actividad 2/6</left></font>"
   ]
  },
  {
   "cell_type": "markdown",
   "metadata": {},
   "source": [
    "Ejecuta el siguiente comando:"
   ]
  },
  {
   "cell_type": "code",
   "execution_count": null,
   "metadata": {},
   "outputs": [],
   "source": [
    "id"
   ]
  },
  {
   "cell_type": "markdown",
   "metadata": {},
   "source": [
    "# <font color='#47bbca'><left>¿Qué acabas de hacer?</left></font>\n",
    "<img src=\"binder/img/L_Docker_U1_pensando.gif\" alt=\"Drawing\" style=\"width: 200px;\" align=\"left\"/>"
   ]
  },
  {
   "cell_type": "markdown",
   "metadata": {},
   "source": [
    "__*El comando `id`:*__ \n",
    "\n",
    "Este te permite conocer los identificadores de usuario en el sistema, generalmente los usuarios cuentan con unos identificadores:\n",
    "\n",
    "- ___uid___: Número de identificador de usuario.\n",
    "- ___gid___: Número de identificador de grupo.\n",
    "\n",
    "Para este caso, el identificador de usuario y grupo de el usuario con el que estás desarrollando la ejecución es el número `1000` y casi siempre los identificadores superiores a este son usuarios \"humanos\", es decir, no son usuarios del sistema."
   ]
  },
  {
   "cell_type": "markdown",
   "metadata": {},
   "source": [
    "# <font color=\"#47bbca\">¡Analicemos!</font>\n",
    "<img src=\"binder/img/L_Docker_U1_recuerda.png\" alt=\"Drawing\" style=\"width: 200px;\" align=\"left\"/>"
   ]
  },
  {
   "cell_type": "markdown",
   "metadata": {},
   "source": [
    " Observa la siguiente secuencia de comandos?\n",
    "\n",
    "- whoami\n",
    "- `usuario1`\n",
    "- id\n",
    "- `___`\n",
    "- su usuario2\n",
    "- id\n",
    "- `___`"
   ]
  },
  {
   "cell_type": "markdown",
   "metadata": {},
   "source": [
    "¿Cuantos id diferentes saldrían en las líneas `___` si ejecutamos los comandos anteriormente mostrados?\n",
    "\n",
    "Ejecuta la siguiente caja de comandos para descubrir respuesta:"
   ]
  },
  {
   "cell_type": "code",
   "execution_count": null,
   "metadata": {},
   "outputs": [],
   "source": [
    "sh ./binder/respuestas/actividad2/actividad2-6.sh"
   ]
  },
  {
   "cell_type": "markdown",
   "metadata": {},
   "source": [
    "***"
   ]
  },
  {
   "cell_type": "markdown",
   "metadata": {},
   "source": [
    "# <font color='#47bbca'><left>Actividad 3/6</left></font>"
   ]
  },
  {
   "cell_type": "markdown",
   "metadata": {},
   "source": [
    "Ejecuta el siguiente comando:"
   ]
  },
  {
   "cell_type": "code",
   "execution_count": 5,
   "metadata": {},
   "outputs": [],
   "source": [
    "echo ~"
   ]
  },
  {
   "cell_type": "markdown",
   "metadata": {},
   "source": [
    "# <font color='#47bbca'><left>¿Qué acabas de hacer?</left></font>\n",
    "<img src=\"binder/img/L_Docker_U1_pensando.gif\" alt=\"Drawing\" style=\"width: 200px;\" align=\"left\"/>"
   ]
  },
  {
   "cell_type": "markdown",
   "metadata": {},
   "source": [
    "__*La virgulilla `~`:*__ \n",
    "\n",
    "Con el comando `echo` acabas de imprimir el significado de una virgulilla `~`, este simbolo siempre hará referencia al directorio home del usuario, es decir, podrías ejecutar `cd ~` para moverte al home del usuario o `ls ~` para listarlo, en cualquier caso, si fueras otro usuario por ejemplo el usuario `root`, el directorio home sería diferente."
   ]
  },
  {
   "cell_type": "markdown",
   "metadata": {},
   "source": [
    "# <font color=\"#47bbca\">¡Analicemos!</font>\n",
    "<img src=\"binder/img/L_Docker_U1_recuerda.png\" alt=\"Drawing\" style=\"width: 200px;\" align=\"left\"/>"
   ]
  },
  {
   "cell_type": "markdown",
   "metadata": {},
   "source": [
    " Observa la siguiente secuencia de comandos?\n",
    "\n",
    "- whoami\n",
    "- `usuario1`\n",
    "- echo ~\n",
    "- `___`\n",
    "- su usuario2\n",
    "- echo ~\n",
    "- `___`\n",
    "- su root\n",
    "- echo ~\n",
    "- `___`"
   ]
  },
  {
   "cell_type": "markdown",
   "metadata": {},
   "source": [
    "¿Cuantos directorios de usuario diferentes se imprimirán en las líneas `___` si ejecuto la siguiente secuencia de comandos anteriormente mostrados (partiendo de que se usan los directorios por defecto)?\n",
    "\n",
    "Ejecuta la siguiente caja de comandos para descubrir respuesta:"
   ]
  },
  {
   "cell_type": "code",
   "execution_count": null,
   "metadata": {},
   "outputs": [],
   "source": [
    "sh ./binder/respuestas/actividad2/actividad3-6.sh"
   ]
  },
  {
   "cell_type": "markdown",
   "metadata": {},
   "source": [
    "***"
   ]
  },
  {
   "cell_type": "markdown",
   "metadata": {},
   "source": [
    "# <font color='#47bbca'><left>Actividad 4/6</left></font>"
   ]
  },
  {
   "cell_type": "markdown",
   "metadata": {},
   "source": [
    "Ejecuta el siguiente comando:"
   ]
  },
  {
   "cell_type": "code",
   "execution_count": null,
   "metadata": {},
   "outputs": [],
   "source": [
    "env"
   ]
  },
  {
   "cell_type": "markdown",
   "metadata": {},
   "source": [
    "Ahora ejecuta el siguiente comando:"
   ]
  },
  {
   "cell_type": "code",
   "execution_count": 5,
   "metadata": {},
   "outputs": [],
   "source": [
    "echo $SHELL"
   ]
  },
  {
   "cell_type": "markdown",
   "metadata": {},
   "source": [
    "# <font color='#47bbca'><left>¿Qué acabas de hacer?</left></font>\n",
    "<img src=\"binder/img/L_Docker_U1_pensando.gif\" alt=\"Drawing\" style=\"width: 200px;\" align=\"left\"/>"
   ]
  },
  {
   "cell_type": "markdown",
   "metadata": {},
   "source": [
    "__*El comando `env`:*__ \n",
    "\n",
    "Con el comando `env` acabas de imprimir las variables de entorno configuradas en el sistema, una variable de entorno es básicamente un apuntador lógico a un valor o ruta en el sistema."
   ]
  },
  {
   "cell_type": "markdown",
   "metadata": {},
   "source": [
    "__*El llamado a variables `$SHELL`:*__ \n",
    "\n",
    "Con el comando `echo` acabas de imprimir la variable `$SHELL`, una variable que hace relación al interprete de comandos que utiliza tu sistema para brindar una comunicación entre el usuario y los programas en él. En este caso la shell es una terminal de `bash`."
   ]
  },
  {
   "cell_type": "markdown",
   "metadata": {},
   "source": [
    "Ahora ejecuta un comando que te permita imprimir con echo y una variable, el directorio `/home/` del usuario actual:"
   ]
  },
  {
   "cell_type": "code",
   "execution_count": 5,
   "metadata": {},
   "outputs": [],
   "source": []
  },
  {
   "cell_type": "markdown",
   "metadata": {},
   "source": [
    "Finalmente ejecuta un comando que te permita imprimir con echo y una variable, el idioma del sistema:"
   ]
  },
  {
   "cell_type": "code",
   "execution_count": 5,
   "metadata": {},
   "outputs": [],
   "source": []
  },
  {
   "cell_type": "markdown",
   "metadata": {},
   "source": [
    "# <font color='#47bbca'><left>¿Lo hiciste?</left></font>\n",
    "\n",
    "En caso de que sí, Excelente, este script que se ejecuta cada vez que se inicia una sesión en la terminal del usuario.\n",
    "\n",
    "Si no lo lograste hacer, te invitamos a abrir en una nueva pestaña el siguiente botón de pánico para obtener una solución.\n",
    "\n",
    "\n",
    "<html>\n",
    "   <head>\n",
    "   </head>\n",
    "   <body>\n",
    "      <a href=\"binder/solutions/actividad2/actividad-4-6.html\" target=\"_blank\">\n",
    "      <img src=\"binder/img/panic_button.jpeg\" alt=\"Drawing\" style=\"width: 100px;\" align=\"left\"/> \n",
    "      </a>\n",
    "   </body>\n",
    "</html>"
   ]
  },
  {
   "cell_type": "markdown",
   "metadata": {},
   "source": [
    "***"
   ]
  },
  {
   "cell_type": "markdown",
   "metadata": {},
   "source": [
    "# <font color='#47bbca'><left>Actividad 5/6</left></font>"
   ]
  },
  {
   "cell_type": "markdown",
   "metadata": {},
   "source": [
    "Ejecuta el siguiente comando:"
   ]
  },
  {
   "cell_type": "code",
   "execution_count": null,
   "metadata": {},
   "outputs": [],
   "source": [
    "ip a"
   ]
  },
  {
   "cell_type": "markdown",
   "metadata": {},
   "source": [
    "Ahora ejecuta el siguiente comando:"
   ]
  },
  {
   "cell_type": "code",
   "execution_count": null,
   "metadata": {},
   "outputs": [],
   "source": [
    "ip route"
   ]
  },
  {
   "cell_type": "markdown",
   "metadata": {},
   "source": [
    "Finalmente ejecuta el siguiente comando:"
   ]
  },
  {
   "cell_type": "code",
   "execution_count": null,
   "metadata": {},
   "outputs": [],
   "source": [
    "cat /etc/resolv.conf"
   ]
  },
  {
   "cell_type": "markdown",
   "metadata": {},
   "source": [
    "# <font color='#47bbca'><left>¿Qué acabas de hacer?</left></font>\n",
    "<img src=\"binder/img/L_Docker_U1_pensando.gif\" alt=\"Drawing\" style=\"width: 200px;\" align=\"left\"/>"
   ]
  },
  {
   "cell_type": "markdown",
   "metadata": {},
   "source": [
    "__*El comando `ip`:*__ \n",
    "\n",
    "Con el comando `ip` puedes ver la información relacionada con la configuración de red (direcciones IP, máscaras de subred, interfaz de red).\n",
    "\n",
    "__*El archivo `/etc/resolv.conf`:*__ \n",
    "\n",
    "Este archivo almacena la configuración de los servidores DNS, podrías por ejemplo añadir tantos como sea posible escribiendo en la parte final del archivo cada valor en cada línea, por ejemplo:\n",
    "\n",
    "nameserver 8.8.8.8\n",
    "nameserver 8.8.4.4"
   ]
  },
  {
   "cell_type": "markdown",
   "metadata": {},
   "source": [
    "***"
   ]
  },
  {
   "cell_type": "markdown",
   "metadata": {},
   "source": [
    "# <font color='#47bbca'><left>Actividad 6/6</left></font>"
   ]
  },
  {
   "cell_type": "markdown",
   "metadata": {},
   "source": [
    "¿Te sientes listo para explorar algunos comandos por tu propia cuenta?\n",
    "\n",
    "Ahora que sabes algunas cosas relacionadas con estructura de directorios, te invitamos a desarrollar una actividad en la que tendrás que buscar algunos comandos por ti mismo. Lista a continuación todos los binarios del directorio de binarios del sistema:"
   ]
  },
  {
   "cell_type": "code",
   "execution_count": null,
   "metadata": {},
   "outputs": [],
   "source": [
    "ls /bin/"
   ]
  },
  {
   "cell_type": "markdown",
   "metadata": {},
   "source": [
    "Ahora busca entre estos binarios los siguientes comandos:"
   ]
  },
  {
   "cell_type": "markdown",
   "metadata": {},
   "source": [
    "1. Un comando que te permita ver la hora del sistema:"
   ]
  },
  {
   "cell_type": "code",
   "execution_count": null,
   "metadata": {},
   "outputs": [],
   "source": []
  },
  {
   "cell_type": "markdown",
   "metadata": {},
   "source": [
    "2. Un comando que te permita ver el nombre de host del sistema:"
   ]
  },
  {
   "cell_type": "code",
   "execution_count": null,
   "metadata": {},
   "outputs": [],
   "source": []
  },
  {
   "cell_type": "markdown",
   "metadata": {},
   "source": [
    "3. Un comando que te permita ver los procesos en curso en el sistema:"
   ]
  },
  {
   "cell_type": "code",
   "execution_count": 5,
   "metadata": {},
   "outputs": [],
   "source": []
  },
  {
   "cell_type": "markdown",
   "metadata": {},
   "source": [
    "# <font color='#47bbca'><left>¿Lo hiciste?</left></font>\n",
    "\n",
    "En caso de que sí, Excelente, este script que se ejecuta cada vez que se inicia una sesión en la terminal del usuario.\n",
    "\n",
    "Si no lo lograste hacer, te invitamos a abrir en una nueva pestaña el siguiente botón de pánico para obtener una solución.\n",
    "\n",
    "\n",
    "<html>\n",
    "   <head>\n",
    "   </head>\n",
    "   <body>\n",
    "      <a href=\"binder/solutions/actividad2/actividad-6-6.html\" target=\"_blank\">\n",
    "      <img src=\"binder/img/panic_button.jpeg\" alt=\"Drawing\" style=\"width: 100px;\" align=\"left\"/> \n",
    "      </a>\n",
    "   </body>\n",
    "</html>"
   ]
  },
  {
   "cell_type": "markdown",
   "metadata": {},
   "source": [
    "***"
   ]
  },
  {
   "cell_type": "markdown",
   "metadata": {},
   "source": [
    "# <font color=\"#47bbca\"><left>¿Te gustó la actividad?</left></font>"
   ]
  },
  {
   "cell_type": "markdown",
   "metadata": {},
   "source": [
    "Acabas de aprender algunos comandos nuevos que te serán muy útiles en Linux y Unix, solo para que los recuerdes son:\n",
    "\n",
    "  * ___`whoami`:___ Imprime el usuario que estás utilizando actualmente\n",
    "  * ___`env`:___ Imprime las variables de entorno del sistema\n",
    "  * ___`ip`:___ Imprime datos relacionados con la red\n",
    "  \n",
    "También aprendiste conceptos como:\n",
    "\n",
    "  * ___`uid`:___ Identificador único del usuario\n",
    "  * ___`gid`:___ Identificador único del grupo\n",
    "\n",
    "Finalmente algunas rutas y archivos importantes:\n",
    "\n",
    "  * ___`/etc/resolv.conf`:___ Esta ruta contiene los servidores DNS del sistema\n",
    "  \n",
    "Ahora volvamos a campus donde podremos ver un video de algunos de estos comandos en acción, [presiona click en este enlace para continuar con la siguiente actividad](https://campus.s4n.co/courses/course-v1:S4N+LIN02+2020_01/course/)"
   ]
  }
 ],
 "metadata": {
  "hide_input": false,
  "kernelspec": {
   "display_name": "Calysto Bash",
   "language": "bash",
   "name": "calysto_bash"
  },
  "language_info": {
   "file_extension": ".sh",
   "help_links": [
    {
     "text": "MetaKernel Magics",
     "url": "https://metakernel.readthedocs.io/en/latest/source/README.html"
    }
   ],
   "mimetype": "text/x-sh",
   "name": "bash",
   "version": "0.2.2"
  }
 },
 "nbformat": 4,
 "nbformat_minor": 2
}
