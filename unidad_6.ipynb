{
 "cells": [
  {
   "cell_type": "markdown",
   "metadata": {},
   "source": [
    "# Análisis de logs"
   ]
  },
  {
   "cell_type": "markdown",
   "metadata": {},
   "source": [
    "En esta actividad exploraremos las herramientas que tenemos en Linux para rastrear los eventos del sistema."
   ]
  },
  {
   "cell_type": "markdown",
   "metadata": {},
   "source": [
    "# Logs"
   ]
  },
  {
   "cell_type": "markdown",
   "metadata": {},
   "source": [
    "Un log es un archivo de registro en el que se organizan cronológicamente los eventos que sudecen en el sistema, generalmente se componen de una fecha y hora, seguidos de un nombre o descripción del evento. Generalmente existen logs para eventos y logs para erroes, imaginemonos que pudieramos registrar cada evento de nuestras vidas en un archivo de logs, por ejemplo:\n",
    "\n",
    "Así se vería un archivo de logs de los eventos usuales alojado en la carpeta `/var/log/`:\n",
    "\n",
    "`/var/log/oscar.log`\n",
    "2020-08-14T17:26:40-0500 (Oscar) Fue a la nevera\n",
    "2020-08-14T17:27:10-0500 (Oscar) Sacó la leche\n",
    "2020-08-14T17:27:46-0500 (Oscar) La puso en la cocina\n",
    "2020-08-14T17:28:10-0500 (Oscar) Tomó un vaso\n",
    "2020-08-14T17:28:50-0500 (Oscar) Limpió\n",
    "2020-08-14T17:35:30-0500 (Oscar) Se sirvió un poco de leche\n",
    "\n",
    "Así se vería un evento de errores.\n",
    "`/var/log/oscar-error.log`\n",
    "2020-08-14T17:28:11-0500 (Oscar) (ERROR) Regó leche en el suelo\n",
    "\n",
    "Cómo pudimos ver en el ejemplo anterior hay un archivo en el que se produjo un error y un archivo en el que se ven los eventos normales, así funciona en Linux.\n",
    "\n",
    "En Linux, los logs registran:\n",
    "\n",
    "* Instalación de paquetes\n",
    "* Accesos al equipo\n",
    "* Intentos fallidos de autenticación\n",
    "* Eventos o errores en programas o servicios\n",
    "* Eventos de seguridad como bloqueos de firewall\n",
    "* Eventos en el proceso de inicialización del sistema\n",
    "* Etc.\n",
    "\n",
    "Generalmente los logs en Linux los encuentras en la carpeta `/var/log/` algunos de los logs más importantes son:\n",
    "\n",
    "* `/var/log/auth.log` Registra información sobre autenticaciones en el sistema\n",
    "* `/var/log/syslog` Contiene la totalidad de logs capturados por rsyslogd\n",
    "* `/var/log/dmesg` Contiene la información relacionada con el hardware de nuestro equipo\n",
    "* `/var/log/messages` Contiene mensajes informativos y no críticos de la actividad del sistema operativo\n",
    "* `/var/log/faillog` Registra los intentos fallidos de autenticación de cada usuario\n",
    "* `/var/log/lastlog` Registra la fecha y la hora en que cada usuario se ha conectado por última vez\n",
    "* `/var/log/wtmp` En todo momento contiene los usuarios que están logueados al sistema operativo\n",
    "* `/var/log/boot.log` Contiene información relacionada con el arranque del sistema\n",
    "* `/var/log/cron` Registra la totalidad de información de las tareas realizadas por cron\n",
    "* `/var/log/dpkg.log` Contiene información sobre la totalidad de paquetes instalados y desinstalados mediante el comando dpkg\n",
    "* `/var/log/mail.log` Contiene información relacionada con el servidor de email que tengamos instalado en el equipo\n",
    "* `/var/log/alternatives.log` Registra todas las operaciones relacionadas con el sistema de alternativas (editor de texto predeterminado, el entorno de escritorio predeterminado, la versión de java que queremos usar por defecto, etc)\n",
    "* `/var/log/Xorg.0.log` Registra la totalidad de eventos relacionados con nuestra tarjeta gráfica desde que arrancamos el ordenador hasta que lo apagamos"
   ]
  },
  {
   "cell_type": "markdown",
   "metadata": {},
   "source": [
    "La siguiente ejecución permitirá listar los logs contenidos en la carpeta `/var/log/`"
   ]
  },
  {
   "cell_type": "code",
   "execution_count": 5,
   "metadata": {},
   "outputs": [],
   "source": [
    "ls /var/log/"
   ]
  },
  {
   "cell_type": "markdown",
   "metadata": {},
   "source": [
    "Vamos a observar entonces el contenido del log de `dpkg.log` con la siguiente ejecución del comando `cat`"
   ]
  },
  {
   "cell_type": "code",
   "execution_count": 5,
   "metadata": {},
   "outputs": [],
   "source": [
    "cat /var/log/dpkg.log"
   ]
  },
  {
   "cell_type": "markdown",
   "metadata": {},
   "source": [
    "Cómo podemos ver es un log bastante completo, haremos a continuación un par de ejercicios para poder leerlo mejor"
   ]
  },
  {
   "cell_type": "markdown",
   "metadata": {},
   "source": [
    "# Tail"
   ]
  },
  {
   "cell_type": "markdown",
   "metadata": {},
   "source": [
    "El comando `tail` muestra la última parte, o \"cola\", de los archivos. Es decir, que en lugar de ejecutar `cat` podemos ejecutar `tail` para ver solo las últimas líneas de un archivo y así ver los últimos eventos de un log sin necesidad de abrir el archivo completo.\n",
    "\n",
    "Además es importante saber que los logs se están escribiendo todo el tiempo por parte de los programas, entonces tail permite ver en tiempo real esas ejecuciones, es decir, que si dejamos una ventana del comando `tail` leyendo un archivo en tiempo real, y en otra ventana le inyectamos una nueva línea a dicho archivo, podremos ver de manera inmediata dicha línea.\n",
    "\n",
    "Uso:\n",
    "\n",
    "`tail -f ó --follow (archivo de log)` Permite ver las ejecuciones en tiempo real\n",
    "`tail -n (número de líneas) (archivo de log)` Permite imprimir en pantalla un número de últimas líneas específico"
   ]
  },
  {
   "cell_type": "markdown",
   "metadata": {},
   "source": [
    "Con Binder no debemos ejecutar la opción -f para ver ejecuciones en tiempo real ya que no es posible separar la terminal para ver dicha ejecución, pero con la siguiente ejecución veremos las últimas 2 líneas del archivo `/var/log/alternatives.log` "
   ]
  },
  {
   "cell_type": "code",
   "execution_count": 5,
   "metadata": {},
   "outputs": [],
   "source": [
    "tail -n 2 /var/log/alternatives.log"
   ]
  },
  {
   "cell_type": "markdown",
   "metadata": {},
   "source": [
    "Ahora veremos las últimas 5 líneas"
   ]
  },
  {
   "cell_type": "code",
   "execution_count": 5,
   "metadata": {},
   "outputs": [],
   "source": [
    "tail -n 5 /var/log/alternatives.log"
   ]
  },
  {
   "cell_type": "markdown",
   "metadata": {},
   "source": [
    "Es importante que sepas que al utilizar la opción de tiempo real `-f` perderás el uso de la terminal, para poder retomarlo debes utilizar las teclas `CTRL + C`"
   ]
  },
  {
   "cell_type": "markdown",
   "metadata": {},
   "source": [
    "# Head"
   ]
  },
  {
   "cell_type": "markdown",
   "metadata": {},
   "source": [
    "El comando `head` muestra la primera parte, o \"cabeza\", de los archivos. Es decir, al igual que con tail pero para ver solo las primeras líneas de un archivo.\n",
    "\n",
    "Uso:\n",
    "\n",
    "`head -c (número de caractéres) (archivo de log)` Permite imprimir en pantalla un número específico de caracteres\n",
    "`tail -n (número de líneas) (archivo de log)` Permite imprimir en pantalla un número de últimas líneas específico"
   ]
  },
  {
   "cell_type": "markdown",
   "metadata": {},
   "source": [
    "La siguiente ejecución permitirá ver en pantalla los primeros 10 caracteres del archivo `/var/log/alternatives.log` "
   ]
  },
  {
   "cell_type": "code",
   "execution_count": 5,
   "metadata": {},
   "outputs": [],
   "source": [
    "head -c 10 /var/log/alternatives.log"
   ]
  },
  {
   "cell_type": "markdown",
   "metadata": {},
   "source": [
    "Ahora la siguinte ejecución permitirá ver las primeras 3 líneas de dicho archivo"
   ]
  },
  {
   "cell_type": "code",
   "execution_count": 5,
   "metadata": {},
   "outputs": [],
   "source": [
    "head -n 3 /var/log/alternatives.log"
   ]
  },
  {
   "cell_type": "markdown",
   "metadata": {},
   "source": [
    "# dmesg"
   ]
  },
  {
   "cell_type": "markdown",
   "metadata": {},
   "source": [
    "El comando dmesg imprime toda la lista el buffer del kernel. Permite utilizar filtros específicos para obtener mejor información, ellos son:\n",
    "\n",
    "* emerg – el sistema no se puede usar\n",
    "* alert – se deben tomar medidas de inmediato\n",
    "* crit – condiciones críticas\n",
    "* err – condiciones de error\n",
    "* warn – condiciones de advertencia\n",
    "* notice – condición normal pero significativa\n",
    "* info – informativo\n",
    "* debug – mensajes a nivel de depuración\n",
    "\n",
    "Su uso es:\n",
    "`dmesg` Solo para ver toda la lista\n",
    "`dmesg --level=(Filtro a usar)` Permite utilizar un filtro específico."
   ]
  },
  {
   "cell_type": "markdown",
   "metadata": {},
   "source": [
    "La siguiente ejecución permitirá filtrar todos los mensajes del kernel en condición de error"
   ]
  },
  {
   "cell_type": "code",
   "execution_count": 5,
   "metadata": {},
   "outputs": [],
   "source": [
    "dmesg --level=err"
   ]
  },
  {
   "cell_type": "markdown",
   "metadata": {},
   "source": [
    "La siguiente ejecución permitirá filtrar todos los mensajes del kernel en condición de advertencia"
   ]
  },
  {
   "cell_type": "code",
   "execution_count": 5,
   "metadata": {},
   "outputs": [],
   "source": [
    "dmesg --level=warn"
   ]
  },
  {
   "cell_type": "markdown",
   "metadata": {},
   "source": [
    "Ahora, en la siguiente ejecución listaremos la condición de error y además la de warning juntas"
   ]
  },
  {
   "cell_type": "code",
   "execution_count": 5,
   "metadata": {},
   "outputs": [],
   "source": [
    "dmesg --level=warn,err"
   ]
  },
  {
   "cell_type": "markdown",
   "metadata": {},
   "source": [
    "# Filtro de logs"
   ]
  },
  {
   "cell_type": "markdown",
   "metadata": {},
   "source": [
    "Cómo aprendimos anteriormente, es posible enviar la salida de un comando a otro comando, haremos algunas prácticas:"
   ]
  },
  {
   "cell_type": "markdown",
   "metadata": {},
   "source": [
    "La siguiente ejecución listará las condiciones de error y warning de dmesg, pero solo mostrará las últimas 5 líneas de dicha salida redirigiendola a `tail`:"
   ]
  },
  {
   "cell_type": "code",
   "execution_count": 5,
   "metadata": {},
   "outputs": [],
   "source": [
    "dmesg --level=warn,err | tail -n5"
   ]
  },
  {
   "cell_type": "markdown",
   "metadata": {},
   "source": [
    "La siguiente ejecución listará las condiciones de error y warning de dmesg, pero solo mostrará las primeras 2 líneas de dicha salida redirigiendola a `head`:"
   ]
  },
  {
   "cell_type": "code",
   "execution_count": 5,
   "metadata": {},
   "outputs": [],
   "source": [
    "dmesg --level=warn,err | head -n2"
   ]
  },
  {
   "cell_type": "markdown",
   "metadata": {},
   "source": [
    "Sabemos entonces que el log `/var/log/dpkg.log` contiene los eventos de paquetes instalados, existe un paquete llamado `gzip`, del cual no estamos seguros si se registró el evento de su instalación en el sistema, lo comprobaremos abriendo dicho log con `cat` y filtrando en la salida con `grep`"
   ]
  },
  {
   "cell_type": "code",
   "execution_count": 5,
   "metadata": {},
   "outputs": [],
   "source": [
    "cat /var/log/dpkg.log | grep \"gzip\""
   ]
  },
  {
   "cell_type": "markdown",
   "metadata": {},
   "source": [
    "Cómo puedes ver, los filtros son súmamente útiles para encontrar mayor información relacionada con los logs del sistema"
   ]
  },
  {
   "cell_type": "markdown",
   "metadata": {},
   "source": [
    "# Less o More (tip final)"
   ]
  },
  {
   "cell_type": "markdown",
   "metadata": {},
   "source": [
    "Los comandos `less` y `more` permiten paginar grandes archivos de texto, es decir que en lugar de ver en una terminal una infinidad de texto, podrás ir viendo página por página del mismo, pueden utilizarse de dos formas.\n",
    "\n",
    "`less ó more (archivo a paginar)`\n",
    "`cat (archivo a paginar) | less ó more`\n",
    "`dmesg (filtro a aplicar) (archivo a paginar) | less o more`\n",
    "\n",
    "Por ejemplo:\n",
    "\n",
    "`cat /var/log/dpkg.log | less`\n",
    "\n",
    "O por ejemplo:\n",
    "\n",
    "`less /var/log/dpkg.log`\n",
    "\n",
    "En el uso de estos comandos es importante que sepas que para salir de su ejecución puedes utilizar la tecla `ESC`, para pasar de páginas puedes utilizar las teclas `av pag` y `re pag` y para bajar lentamente puedes utilizar la tecla `Space`."
   ]
  }
 ],
 "metadata": {
  "kernelspec": {
   "display_name": "Bash",
   "language": "bash",
   "name": "bash"
  },
  "language_info": {
   "codemirror_mode": "shell",
   "file_extension": ".sh",
   "mimetype": "text/x-sh",
   "name": "bash"
  }
 },
 "nbformat": 4,
 "nbformat_minor": 2
}
