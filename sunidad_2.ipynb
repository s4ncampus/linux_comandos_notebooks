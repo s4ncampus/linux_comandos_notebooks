{
 "cells": [
  {
   "cell_type": "markdown",
   "metadata": {},
   "source": [
    "# Gestión de contraseñas"
   ]
  },
  {
   "cell_type": "markdown",
   "metadata": {},
   "source": [
    "En la siguiente actividad podrás entender mejor algunas herramientas que puedes usar para gestionar correctamente tus contraseñas."
   ]
  },
  {
   "cell_type": "markdown",
   "metadata": {},
   "source": [
    "# Gestores de contraseñas (KeepassXC keepassxc-cli)"
   ]
  },
  {
   "cell_type": "markdown",
   "metadata": {},
   "source": [
    "`KeepassXC` es un gestor de contraseñas ampliamente utilizado por personas en todo el mundo, permite almacenar contraseñas de una forma segura en un archivo de base de datos de contraseñas que generalmente se encuentra cifrado y protegido por contraseña y/o un archivo de llaves.\n",
    "\n",
    "Es posible instalar un cliente gráfico en Linux, Windows o Mac, sin embargo para este ejercicio utilizaremos su paquete de línea de comandos llamado `keepassxc-cli`\n",
    "\n",
    "La siguiente ejecución nos mostrará las opciones del comando `keepassxc-cli`"
   ]
  },
  {
   "cell_type": "code",
   "execution_count": null,
   "metadata": {},
   "outputs": [],
   "source": [
    "keepassxc-cli"
   ]
  },
  {
   "cell_type": "markdown",
   "metadata": {},
   "source": [
    "En las nuevas versiones de `keepassxc-cli` es posible crear bases de datos, sin embargo en la que nos provee Binder no es posible. Para crear una nueva base de datos de contraseñas desde la línea de comandos necesitamos 2 componentes, una base de datos y un par de llaves. Si fueras a generar el par de llaves debes ejecutar:\n",
    "\n",
    "* ssh-keygen -N \"PASSPHRASE\" -C \"MI PAR DE LLAVES\" -f \"MISLLAVES\"\n",
    "Allí debes reemplazar `PASSPHRASE` por tus propia frase de paso, `MI PAR DE LLAVES` por el comentario que quieres que tenga tu par de llaves y `MISLLAVES` por el nombre que le quieres dar a tus llaves.\n",
    "\n",
    "* keepassxc-cli create \"MIBASEDEDATOS.KDBX\" --key-file \"MISLLAVES\"\n",
    "Allí debes reemplazar `MIBASEDEDATOS.KDBX` por el nombre que le darás a tu base de datos y `MISLLAVES` por la llave privada que acabas de crear.\n",
    "\n",
    "Además solicitará una contraseña adicional de base de datos a la cual en mi caso le puse `L1nuxRul3s*`\n",
    "\n",
    "Estos pasos te crearían una base de datos con sus llaves, para este ejercicio yo les proveeré ambos elementos, los podemos ver en el siguiente comando:"
   ]
  },
  {
   "cell_type": "code",
   "execution_count": null,
   "metadata": {},
   "outputs": [],
   "source": [
    "ls $HOME/binder/resources/opt/U2/"
   ]
  },
  {
   "cell_type": "markdown",
   "metadata": {},
   "source": [
    "Ya sabiendo donde está nuestra base de datos y sus llaves, vamos a ver el contenido en ella, primero iremos al directorio donde tenemos lo que necesitamos con el comando cd:"
   ]
  },
  {
   "cell_type": "code",
   "execution_count": null,
   "metadata": {},
   "outputs": [],
   "source": [
    "cd $HOME/binder/resources/opt/U2/"
   ]
  },
  {
   "cell_type": "markdown",
   "metadata": {},
   "source": [
    "Ahora listaremos el contenido de la base de datos:"
   ]
  },
  {
   "cell_type": "code",
   "execution_count": null,
   "metadata": {},
   "outputs": [],
   "source": [
    "echo \"L1nuxRul3s*\" | keepassxc-cli ls MIBASEDEDATOS.KDBX -k MISLLAVES"
   ]
  },
  {
   "cell_type": "markdown",
   "metadata": {},
   "source": [
    "Este envía la contraseña y posteriormente solicita la apertura del archivo de base de datos de contraseñas con la respectiva llave.\n",
    "\n",
    "Nuestro siguiente paso será añadir un nuevo registro a la base de datos con el comando `keepassxc-cli add` , para ver todas las opciones que nos da el comando `keepassxc-cli add`:"
   ]
  },
  {
   "cell_type": "code",
   "execution_count": null,
   "metadata": {},
   "outputs": [],
   "source": [
    "keepassxc-cli add"
   ]
  },
  {
   "cell_type": "markdown",
   "metadata": {},
   "source": [
    "Añadiremos entonces una entrada a la base de datos con el siguiente comando:"
   ]
  },
  {
   "cell_type": "code",
   "execution_count": null,
   "metadata": {},
   "outputs": [],
   "source": [
    "echo \"L1nuxRul3s*\" | keepassxc-cli add MIBASEDEDATOS.KDBX --username \"usuario@email.com\" --url \"https://www.email.com\" \"Email\" --generate --password-length 12 -k MISLLAVES"
   ]
  },
  {
   "cell_type": "markdown",
   "metadata": {},
   "source": [
    "Este comando acaba de añadir una entrada con las siguientes características:\n",
    "\n",
    "* Base de datos: MIBASEDEDATOS.KDBX\n",
    "* Usuario (a guardar en la entrada): usuario@email.com\n",
    "* URL (a guardar en la entrada): https://www.email.com\n",
    "* Nombre del registro: Email\n",
    "* Contraseña: Autogenerada de 12 caracteres (si queremos añadirla debemos \n",
    "\n",
    "Cómo pueden ver, se generó una contraseña pero aún no podemos verla. Para ver el contenido de una entrada utilizamos `keepassxc-cli show`"
   ]
  },
  {
   "cell_type": "code",
   "execution_count": null,
   "metadata": {},
   "outputs": [],
   "source": [
    "echo \"L1nuxRul3s*\" | keepassxc-cli show MIBASEDEDATOS.KDBX Email -k MISLLAVES -s"
   ]
  },
  {
   "cell_type": "markdown",
   "metadata": {},
   "source": [
    "Ese comando nos mostrará el contenido del registro solicitado en la base de datos actual `MIBASEDEDATOS.KDBX`"
   ]
  },
  {
   "cell_type": "markdown",
   "metadata": {},
   "source": [
    "# Validando la eficiencia de una contraseña"
   ]
  },
  {
   "cell_type": "markdown",
   "metadata": {},
   "source": [
    "La eficiencia de una contraseña se puede medir por su entropía que hace referencia a la cantidad de aleatoriedad para hacer a la misma difícil de adivinar. Existen herramientas en línea que permiten calcularla, incluso permiten analizar cuantos días se demoraría un ataque de fuerza bruta en adivinarla, para este ejercicio usaremos tres herramientas. La primera será la misma `keepassxc-cli generate` para generar una contraseña aleatoria, la segunda y la tercera serán `keepassxc-cli estimate` y `cracklib-check` que nos permitirán analizar la complejidad y eficiencia de una contraseña.\n",
    "\n",
    "Comenzaremos analizando una contraseña insegura con `keepassxc-cli estimate` y luego con `cracklib-check`"
   ]
  },
  {
   "cell_type": "code",
   "execution_count": null,
   "metadata": {},
   "outputs": [],
   "source": [
    "echo \"password\" | cracklib-check"
   ]
  },
  {
   "cell_type": "code",
   "execution_count": null,
   "metadata": {},
   "outputs": [],
   "source": [
    "keepassxc-cli estimate password"
   ]
  },
  {
   "cell_type": "markdown",
   "metadata": {},
   "source": [
    "Cómo podemos ver la palabra \"password\" es una pésima contraseña, ahora tratemos de generar una contraseña realmente compleja."
   ]
  },
  {
   "cell_type": "code",
   "execution_count": 5,
   "metadata": {},
   "outputs": [],
   "source": [
    "keepassxc-cli generate --length 16 --lower --upper --numeric --special --extended --exclude \"|>)/\""
   ]
  },
  {
   "cell_type": "markdown",
   "metadata": {},
   "source": [
    "La anterior ejecución genera una contraseña que tiene:\n",
    "\n",
    "* 16 caracteres\n",
    "* Letras minúsculas\n",
    "* Letras mayúsculas\n",
    "* Caractéres numéricos\n",
    "* Carácteres especiales\n",
    "* Valores extendidos ASCII\n",
    "* Exclusión de los caracteres |>)/\n",
    "\n",
    "Copiemos la contraseña y ejecutemos de nuevo los comandos `keepassxc-cli estimate` y `cracklib-check` para ver que opinan estos comandos sobre nuestra nueva contraseña."
   ]
  },
  {
   "cell_type": "code",
   "execution_count": null,
   "metadata": {},
   "outputs": [],
   "source": [
    "echo \"INTRODUCE_EL_PASSWORD\" | cracklib-check"
   ]
  },
  {
   "cell_type": "code",
   "execution_count": null,
   "metadata": {},
   "outputs": [],
   "source": [
    "keepassxc-cli estimate INTRODUCE_EL_PASSWORD"
   ]
  },
  {
   "cell_type": "markdown",
   "metadata": {},
   "source": [
    "Si no cuentas con `keepassxc-cli generate`, siempre es posible utilizar diferentes comandos de Linux para crear contraseñas aleatorias, a continuación algunos ejemplos:"
   ]
  },
  {
   "cell_type": "code",
   "execution_count": null,
   "metadata": {},
   "outputs": [],
   "source": [
    "openssl rand -hex 12"
   ]
  },
  {
   "cell_type": "code",
   "execution_count": null,
   "metadata": {},
   "outputs": [],
   "source": [
    "date | md5sum"
   ]
  },
  {
   "cell_type": "code",
   "execution_count": null,
   "metadata": {},
   "outputs": [],
   "source": [
    "tr -cd \"[:graph:]\" < /dev/urandom | head -c 18"
   ]
  },
  {
   "cell_type": "markdown",
   "metadata": {},
   "source": [
    "# Ataque de fuerza bruta"
   ]
  },
  {
   "cell_type": "markdown",
   "metadata": {},
   "source": [
    "`hydra` es una herramienta en linux que permite realizar ataques de fuerza bruta utilizando diccionarios."
   ]
  },
  {
   "cell_type": "code",
   "execution_count": 9,
   "metadata": {},
   "outputs": [],
   "source": [
    "hydra -t 1 -L users.lst -P ./passwd.lst -vV 127.0.0.1 ftp"
   ]
  }
 ],
 "metadata": {
  "kernelspec": {
   "display_name": "Bash",
   "language": "bash",
   "name": "bash"
  },
  "language_info": {
   "codemirror_mode": "shell",
   "file_extension": ".sh",
   "mimetype": "text/x-sh",
   "name": "bash"
  }
 },
 "nbformat": 4,
 "nbformat_minor": 2
}
