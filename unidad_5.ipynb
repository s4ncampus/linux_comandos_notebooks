{
 "cells": [
  {
   "cell_type": "markdown",
   "metadata": {},
   "source": [
    "# Stdin, stdout y stderr"
   ]
  },
  {
   "cell_type": "markdown",
   "metadata": {},
   "source": [
    "En la anterior actividad pudimos ver las redirecciones más comunes en Linux, ahora quisiera que pudieramos practicar las salidas y entradas estandar en dichos sistemas."
   ]
  },
  {
   "cell_type": "markdown",
   "metadata": {},
   "source": [
    "# Stdin `<`"
   ]
  },
  {
   "cell_type": "markdown",
   "metadata": {},
   "source": [
    "* `0` La entrada estándar (stdin, de Standard Input) son los datos enviados al programa. generalmente a través del teclado o como resultado de la ejecución de un comando anterior. El descriptor de archivo asociado a stdin es el 0"
   ]
  },
  {
   "cell_type": "markdown",
   "metadata": {},
   "source": [
    "Cualquier comando introducido en la terminal de Linux es un Stdin, algunos ejemplos particulares también pueden recibir entradas estándar , por ejemplo si quisieramos enviar un correo a un usuario con el comando `mail`, y el contenido de un archivo desde la terminal podríamos usar algo así:\n",
    "\n",
    "`mail usuario@email.com < adjunto.txt`\n",
    "\n",
    "Allí el stdin sería el archivo `adjunto.txt`"
   ]
  },
  {
   "cell_type": "markdown",
   "metadata": {},
   "source": [
    "# Stdout "
   ]
  },
  {
   "cell_type": "markdown",
   "metadata": {},
   "source": [
    "* `1` La salida estándar es hacia donde el comando envía su salida, generalmente es la pantalla o la terminal, sin embargo hay momentos en los que podemos enviar la salida estándar a un archivo que nos puede ser útil o a la nada, es decir a una ruta donde morirá. El descriptor de archivo asociado a stout es el 1"
   ]
  },
  {
   "cell_type": "markdown",
   "metadata": {},
   "source": [
    "La siguiente ejecución ya es bien conocida, imprimirá en pantalla el comando `date` y la Stdout será la pantalla."
   ]
  },
  {
   "cell_type": "code",
   "execution_count": 5,
   "metadata": {},
   "outputs": [],
   "source": [
    "date"
   ]
  },
  {
   "cell_type": "markdown",
   "metadata": {},
   "source": [
    "La siguiente ejecución también es bien conocida, enviará la Stdout del comando `date` al archivo `date1.txt`"
   ]
  },
  {
   "cell_type": "code",
   "execution_count": 5,
   "metadata": {},
   "outputs": [],
   "source": [
    "date > date1.txt"
   ]
  },
  {
   "cell_type": "markdown",
   "metadata": {},
   "source": [
    "Imprimiremos el archivo en pantalla para validar su contenido:"
   ]
  },
  {
   "cell_type": "code",
   "execution_count": 5,
   "metadata": {},
   "outputs": [],
   "source": [
    "cat date1.txt"
   ]
  },
  {
   "cell_type": "markdown",
   "metadata": {},
   "source": [
    "La siguiente ejecución no es tan conocida y también enviará la Stdout del comando `date` al archivo `date2.txt`, pero añadiendole el valor del descriptor asociado a Stdout."
   ]
  },
  {
   "cell_type": "code",
   "execution_count": 5,
   "metadata": {},
   "outputs": [],
   "source": [
    "date 1> date2.txt"
   ]
  },
  {
   "cell_type": "markdown",
   "metadata": {},
   "source": [
    "Imprimiremos el archivo en pantalla para validar su contenido:"
   ]
  },
  {
   "cell_type": "code",
   "execution_count": 5,
   "metadata": {},
   "outputs": [],
   "source": [
    "cat date2.txt"
   ]
  },
  {
   "cell_type": "markdown",
   "metadata": {},
   "source": [
    "La siguiente ejecución enviará la Stdout del comando `date` a un archivo que se encargará de enviarla a la ruta `/dev/null` donde quedará eliminada para siempre"
   ]
  },
  {
   "cell_type": "code",
   "execution_count": 5,
   "metadata": {},
   "outputs": [],
   "source": [
    "date 1> /dev/null"
   ]
  },
  {
   "cell_type": "markdown",
   "metadata": {},
   "source": [
    "# Stderr"
   ]
  },
  {
   "cell_type": "markdown",
   "metadata": {},
   "source": [
    "* `2` La salida estándar de error es hacia donde el comando envía su salida de error, generalmente es la pantalla o la terminal, sin embargo hay momentos en los que podemos enviar la salida estándar de error a un archivo que nos puede ser útil por ejemplo como archivo de logs o podemos enviarlos a la nada, es decir a una ruta donde morirá. El descriptor de archivo asociado a stderr es el 2"
   ]
  },
  {
   "cell_type": "markdown",
   "metadata": {},
   "source": [
    "La siguiente ejecución enviará los errores de ejecución del comando `date` al archivo `date3.txt`"
   ]
  },
  {
   "cell_type": "code",
   "execution_count": 5,
   "metadata": {},
   "outputs": [],
   "source": [
    "date 2> date3.txt"
   ]
  },
  {
   "cell_type": "markdown",
   "metadata": {},
   "source": [
    "Imprimiremos el archivo en pantalla para validar su contenido:"
   ]
  },
  {
   "cell_type": "code",
   "execution_count": 5,
   "metadata": {},
   "outputs": [],
   "source": [
    "cat date3.txt"
   ]
  },
  {
   "cell_type": "markdown",
   "metadata": {},
   "source": [
    "Cómo podemos ver, el archivo está vacío ya que en dicha ejecución no hubo errores, generaremos una ejecución errática con el comando `date`, modificandolo para que sea `dated` (un comando que no existe)"
   ]
  },
  {
   "cell_type": "code",
   "execution_count": 5,
   "metadata": {},
   "outputs": [],
   "source": [
    "dated 2> date3.txt"
   ]
  },
  {
   "cell_type": "markdown",
   "metadata": {},
   "source": [
    "Imprimiremos de nuevo el archivo en pantalla para validar su contenido:"
   ]
  },
  {
   "cell_type": "code",
   "execution_count": 5,
   "metadata": {},
   "outputs": [],
   "source": [
    "cat date3.txt"
   ]
  },
  {
   "cell_type": "markdown",
   "metadata": {},
   "source": [
    "Cómo puedes ver, en el archivo quedó la salida de error del comando."
   ]
  },
  {
   "cell_type": "markdown",
   "metadata": {},
   "source": [
    "# Ejemplo práctico de todo lo aprendido"
   ]
  },
  {
   "cell_type": "markdown",
   "metadata": {},
   "source": [
    "La siguiente ejecución creará cinco archivos\n"
   ]
  },
  {
   "cell_type": "code",
   "execution_count": null,
   "metadata": {},
   "outputs": [],
   "source": [
    "touch archivo1.txt archivo3.txt archivo5.txt archivo7.txt archivo9.txt"
   ]
  },
  {
   "cell_type": "markdown",
   "metadata": {},
   "source": [
    "Ahora crearemos dos archivos, uno de logs y uno de error logs, en uno almacenaremos información de ejecuciones existosas y el otro de errores."
   ]
  },
  {
   "cell_type": "code",
   "execution_count": null,
   "metadata": {},
   "outputs": [],
   "source": [
    "touch logs.log error-logs.log"
   ]
  },
  {
   "cell_type": "markdown",
   "metadata": {},
   "source": [
    "Ahora con las siguientes ejecuciónes enviaremos un registro con las salidas exitosas al archivo `logs.log` y las fallidas al archivo `error-logs.log`."
   ]
  },
  {
   "cell_type": "code",
   "execution_count": null,
   "metadata": {},
   "outputs": [],
   "source": [
    "ls archivo1.txt 1>> logs.log 2>> error-logs.log"
   ]
  },
  {
   "cell_type": "code",
   "execution_count": null,
   "metadata": {},
   "outputs": [],
   "source": [
    "ls archivo2.txt 1>> logs.log 2>> error-logs.log"
   ]
  },
  {
   "cell_type": "code",
   "execution_count": null,
   "metadata": {},
   "outputs": [],
   "source": [
    "ls archivo3.txt 1>> logs.log 2>> error-logs.log"
   ]
  },
  {
   "cell_type": "code",
   "execution_count": null,
   "metadata": {},
   "outputs": [],
   "source": [
    "ls archivo4.txt 1>> logs.log 2>> error-logs.log"
   ]
  },
  {
   "cell_type": "code",
   "execution_count": null,
   "metadata": {},
   "outputs": [],
   "source": [
    "ls archivo5.txt 1>> logs.log 2>> error-logs.log"
   ]
  },
  {
   "cell_type": "code",
   "execution_count": null,
   "metadata": {},
   "outputs": [],
   "source": [
    "ls archivo6.txt 1>> logs.log 2>> error-logs.log"
   ]
  },
  {
   "cell_type": "code",
   "execution_count": null,
   "metadata": {},
   "outputs": [],
   "source": [
    "ls archivo7.txt 1>> logs.log 2>> error-logs.log"
   ]
  },
  {
   "cell_type": "code",
   "execution_count": null,
   "metadata": {},
   "outputs": [],
   "source": [
    "ls archivo8.txt 1>> logs.log 2>> error-logs.log"
   ]
  },
  {
   "cell_type": "code",
   "execution_count": null,
   "metadata": {},
   "outputs": [],
   "source": [
    "ls archivo9.txt 1>> logs.log 2>> error-logs.log"
   ]
  },
  {
   "cell_type": "code",
   "execution_count": null,
   "metadata": {},
   "outputs": [],
   "source": [
    "ls archivo10.txt 1>> logs.log 2>> error-logs.log"
   ]
  },
  {
   "cell_type": "markdown",
   "metadata": {},
   "source": [
    "Si pudieron ver, solo los archivos impares existen, en los pares esto debería enviar un error al log, validemos el contenido de los archivos de log."
   ]
  },
  {
   "cell_type": "code",
   "execution_count": null,
   "metadata": {},
   "outputs": [],
   "source": [
    "cat logs.log"
   ]
  },
  {
   "cell_type": "code",
   "execution_count": null,
   "metadata": {},
   "outputs": [],
   "source": [
    "cat error-logs.log"
   ]
  },
  {
   "cell_type": "markdown",
   "metadata": {},
   "source": [
    "De esa forma podemos enviar salidas estandar y salidas de error a dos archivos independientes en Linux"
   ]
  },
  {
   "cell_type": "markdown",
   "metadata": {},
   "source": [
    "# Tip final"
   ]
  },
  {
   "cell_type": "markdown",
   "metadata": {},
   "source": [
    "Es posible enviar un stderr a un stdout `1>&2` o visceversa `2>&1`, para por ejemplo enviar ambas salidas a un mismo archivo."
   ]
  }
 ],
 "metadata": {
  "kernelspec": {
   "display_name": "Bash",
   "language": "bash",
   "name": "bash"
  },
  "language_info": {
   "codemirror_mode": "shell",
   "file_extension": ".sh",
   "mimetype": "text/x-sh",
   "name": "bash"
  }
 },
 "nbformat": 4,
 "nbformat_minor": 2
}
