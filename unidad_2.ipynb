{
 "cells": [
  {
   "cell_type": "markdown",
   "metadata": {},
   "source": [
    "# Los comandos básicos de Linux (Parte 2)"
   ]
  },
  {
   "cell_type": "markdown",
   "metadata": {},
   "source": [
    "Durante esta actividad practicaremos algunos de los comandos básicos de Linux que nos permiten gestionar un sistema, actividades como cambiar permisos y atributos a archivos y directorios, hacer búsquedas avanzadas y uso de wildcards harán parte de esta práctica."
   ]
  },
  {
   "cell_type": "markdown",
   "metadata": {},
   "source": [
    "# El comando useradd"
   ]
  },
  {
   "cell_type": "markdown",
   "metadata": {},
   "source": [
    "`useradd` es un comando que permite agregar usuarios en el sistema.\n",
    "\n",
    "Uso:\n",
    "\n",
    "`useradd opciones usuario` \n",
    "\n",
    "Ejemplo:\n",
    "\n",
    "`useradd --create-home --home-dir /home/homepersonalizado usuario1` \n",
    "\n",
    "En el ejemplo anterior se crea un usuario llamado `usuario1` con un directorio home personalizado en la ruta `\n",
    "/home/homepersonalizado`"
   ]
  },
  {
   "cell_type": "markdown",
   "metadata": {},
   "source": [
    "# El comando usermod"
   ]
  },
  {
   "cell_type": "markdown",
   "metadata": {},
   "source": [
    "`usermod` es un comando que permite modificar usuarios en el sistema.\n",
    "\n",
    "Uso:\n",
    "\n",
    "`usermod opciones usuario` \n",
    "\n",
    "Ejemplo 1:\n",
    "\n",
    "`usermod -l usuario1 usuarionuevo1` \n",
    "\n",
    "En el ejemplo anterior se cambia el nombre del usuario `usuario1` por `usuarionuevo1`\n",
    "\n",
    "\n",
    "Ejemplo 2:\n",
    "\n",
    "`usermod -d /home/homenuevopersonalizado -m usuarionuevo1` \n",
    "\n",
    "En el ejemplo anterior se cambia directrorio home del usuario `usuarionuevo1` por `/home/homenuevopersonalizado`"
   ]
  },
  {
   "cell_type": "markdown",
   "metadata": {},
   "source": [
    "# El comando userdel"
   ]
  },
  {
   "cell_type": "markdown",
   "metadata": {},
   "source": [
    "`userdel opciones usuario` \n",
    "\n",
    "Ejemplo:\n",
    "\n",
    "`userdel --force usuario1` \n",
    "\n",
    "En el ejemplo anterior se borra de manera forzada el usuario `usuario1` \n",
    "\n",
    "`usermod` es un comando que permite modificar usuarios en el sistema."
   ]
  },
  {
   "cell_type": "markdown",
   "metadata": {},
   "source": [
    "# El Comando chmod"
   ]
  },
  {
   "cell_type": "markdown",
   "metadata": {},
   "source": [
    "`chmod` es un comando sumamente importante en Linux ya que permite gestionar los permisos de archivos y directorios utilizando códigos y/o caracteres que hacen referencia a los mismos.\n",
    "\n",
    "Su estructura permite dar permisos `R` (Read o Lectura), `W` (Write o Escritura y `X` (Execution o Ejecución) a los recursos.\n",
    "\n",
    "Para dar estos permisos se utiliza la siguiente convención:\n",
    "\n",
    "\n",
    "* 0 = Sin permisos, no se puede leer, escribir o ejecutar sobre este recurso\n",
    "* 1 = Solo ejecución = (x)\n",
    "* 2 = Solo escritura = (w)\n",
    "* 3 = Escribir y ejecutar (1+2)\n",
    "* 4 = Solo lectura = (r)\n",
    "* 5 = Leer y ejecutar (4+1)\n",
    "* 6 = Leer y escribir (4+2)\n",
    "* 7 = Leer, escribir y ejecutar (4+2+1)\n",
    "\n",
    "Además de contar con la anterior convención, debemos saber a quien le daremos dichos permisos, los cuales pueden ser:\n",
    "\n",
    "u = Usuario\n",
    "g = Grupo\n",
    "o = Otros\n",
    "\n",
    "En ese caso por ejemplo si tenemos un archivo llamado `archivo1.txt` y queremos darle todos los permisos a todos en el sistema haríamos algo así:\n",
    "\n",
    "`chmod 777 archivo1.txt`\n",
    "\n",
    "Donde:\n",
    "\n",
    "*El primer 7 corresponde a los permisos leer, escribir y ejecutar para el usuario.\n",
    "*El segundo 7 corresponde a los permisos leer, escribir y ejecutar para el grupo.\n",
    "*El tercer 7 corresponde a los permisos leer, escribir y ejecutar para otros.\n",
    "\n",
    "De la misma forma podríamos hacer algo así:\n",
    "\n",
    "`chmod ugo+rwx archivo1.txt`\n",
    "\n",
    "Donde:\n",
    "\n",
    "*ugo significa a quien le daremos los permisos (usuario, grupo y otros).\n",
    "*el signo más significa que añadiremos dichos permisos.\n",
    "*rwx es los permisos que les daremos (lectura, escritura y ejecución).\n",
    "\n",
    "\n",
    "  * Se ejecuta simplemente `chmod`, seguido de las opciones, seguido de los permisos y/o a quien se les dará, y finalmente el archivo y/o directorio a quien se les dará.\n",
    "  * Se puede utilizar el modo octal (números) o modo simbólico (letras).\n",
    "  * Se añade el flag `-R` cuando se quiere dar permisos de manera recursiva a un directorio y todo su contenido (archivos y subdirectorios)."
   ]
  },
  {
   "cell_type": "markdown",
   "metadata": {},
   "source": [
    "La siguiente ejecución creará un archivo llamado `pruebapermisos.txt` en el directorio `/home/${USER}/`."
   ]
  },
  {
   "cell_type": "code",
   "execution_count": null,
   "metadata": {},
   "outputs": [],
   "source": [
    "touch /home/${USER}/pruebapermisos.txt"
   ]
  },
  {
   "cell_type": "markdown",
   "metadata": {},
   "source": [
    "Ahora ejecutando el comando `ls -la` podrémos ver los permisos que por defecto tiene dicho archivo."
   ]
  },
  {
   "cell_type": "code",
   "execution_count": null,
   "metadata": {},
   "outputs": [],
   "source": [
    "ls -la /home/${USER}/pruebapermisos.txt"
   ]
  },
  {
   "cell_type": "markdown",
   "metadata": {},
   "source": [
    "Cómo se puede observar la estructura de los permisos del archivo en la salida del comando `ls -la` es:\n",
    "\n",
    "-rw-r--r--\n",
    "\n",
    "Eso corresponde a:\n",
    "rw- = el usuario tiene permisos de lectura y escritura pero no de ejecución.\n",
    "r-- = el grupo tiene permisos de lectura, pero no de escritura ni de ejecución.\n",
    "r-- = otros tienen permisos de lectura, pero no de escritura ni de ejecución."
   ]
  },
  {
   "cell_type": "markdown",
   "metadata": {},
   "source": [
    "La siguiente ejecución le asignará todos los permisos a los otros al archivo `pruebapermisos.txt`con la asignación de permisos simbólica."
   ]
  },
  {
   "cell_type": "code",
   "execution_count": null,
   "metadata": {},
   "outputs": [],
   "source": [
    "chmod o+rwx /home/${USER}/pruebapermisos.txt"
   ]
  },
  {
   "cell_type": "markdown",
   "metadata": {},
   "source": [
    "Ahora ejecutando el comando `ls -la` podrémos ver los permisos que tiene ahora dicho archivo."
   ]
  },
  {
   "cell_type": "code",
   "execution_count": null,
   "metadata": {},
   "outputs": [],
   "source": [
    "ls -la /home/${USER}/pruebapermisos.txt"
   ]
  },
  {
   "cell_type": "markdown",
   "metadata": {},
   "source": [
    "Cómo se puede observar la estructura de los permisos del archivo en la salida del comando `ls -la` es:\n",
    "\n",
    "-rw-r--rwx\n",
    "\n",
    "Es decir que comparado con la anterior ejecución se añadió:\n",
    "rwx = otros tienen permisos de lectura, escritura y ejecución."
   ]
  },
  {
   "cell_type": "markdown",
   "metadata": {},
   "source": [
    "La siguiente ejecución removerá los permisos existentes y solo añadirá permisos de ejecución al grupo con el metodo octal."
   ]
  },
  {
   "cell_type": "code",
   "execution_count": null,
   "metadata": {},
   "outputs": [],
   "source": [
    "chmod 010 /home/${USER}/pruebapermisos.txt"
   ]
  },
  {
   "cell_type": "markdown",
   "metadata": {},
   "source": [
    "Ahora ejecutando el comando `ls -la` podrémos ver los permisos que tiene ahora dicho archivo."
   ]
  },
  {
   "cell_type": "code",
   "execution_count": null,
   "metadata": {},
   "outputs": [],
   "source": [
    "ls -la /home/${USER}/pruebapermisos.txt"
   ]
  },
  {
   "cell_type": "markdown",
   "metadata": {},
   "source": [
    "Cómo se puede observar la estructura de los permisos del archivo en la salida del comando `ls -la` es:\n",
    "\n",
    "-----x---\n",
    "\n",
    "Es decir que comparado con la anterior ejecución se eliminaron todos los permisos y solo se añadió:\n",
    "--x = el grupo tiene permisos de ejecución."
   ]
  },
  {
   "cell_type": "markdown",
   "metadata": {},
   "source": [
    "# El Comando chown"
   ]
  },
  {
   "cell_type": "markdown",
   "metadata": {},
   "source": [
    "`chown` (abreviación de \"change owner\") es un comando que permite cambiar el propietario y grupo propietario de un archivo y/o un directorio. Pudimos ver que con el comando chmod se le daba permisos a el usuario y grupo propietario, este comando además cambia los propietarios del mismo.\n",
    "\n",
    "Su uso es:\n",
    "\n",
    "`chown usuario:grupo archivo1.txt`\n",
    "\n",
    "\n",
    "  * En algunas terminales el delimitador \":\" entre usuario y grupo debe ser cambiado por \".\".\n",
    "  * Se añade el flag `-R` cuando se quiere hacer cambios de manera recursiva a un directorio y todo su contenido (archivos y subdirectorios).\n",
    "  * La mayoría de los casos es recomendable ejecutar este comando cómo root (anteponiendo la palabra `sudo` a la ejecución del comando."
   ]
  },
  {
   "cell_type": "markdown",
   "metadata": {},
   "source": [
    "La siguiente ejecución creará un archivo llamado `pruebapropietarios.txt` en el directorio `/home/${USER}/`."
   ]
  },
  {
   "cell_type": "code",
   "execution_count": 5,
   "metadata": {},
   "outputs": [],
   "source": [
    "touch /home/${USER}/pruebapropietarios.txt"
   ]
  },
  {
   "cell_type": "markdown",
   "metadata": {},
   "source": [
    "Ahora ejecutando el comando `ls -la` podrémos ver el usuario y grupo propietario que por defecto tiene dicho archivo."
   ]
  },
  {
   "cell_type": "code",
   "execution_count": null,
   "metadata": {},
   "outputs": [],
   "source": [
    "ls -la /home/${USER}/pruebapropietarios.txt"
   ]
  },
  {
   "cell_type": "markdown",
   "metadata": {},
   "source": [
    "Cómo se puede observar la salida del comando `ls -la` contiene:\n",
    "\n",
    "${USER} ${USER}\n",
    "\n",
    "Eso corresponde al usuario y grupo propietarios."
   ]
  },
  {
   "cell_type": "markdown",
   "metadata": {},
   "source": [
    "Si quisieramos cambiar el usuario y grupo propietario por ejemplo al usuario `root` utilizando `chown` ejecutaríamos.\n",
    "\n",
    "`sudo chown root:root /home/${USER}/pruebapropietarios.txt`\n",
    "\n",
    "Sin embargo debido a las limitaciones para el uso de `sudo` en binder no nos es posible realizar dicha prueba aquí."
   ]
  },
  {
   "cell_type": "markdown",
   "metadata": {},
   "source": [
    "# El Comando chattr y el comando lsattr"
   ]
  },
  {
   "cell_type": "markdown",
   "metadata": {},
   "source": [
    "`lsattr` (abreviación de \"list attributes\") es un comando que permite listar los atributos de un archivo que se añadieron utilizando el comando `chattr`\n",
    "\n",
    "`chattr` (abreviación de \"change attributes\") es un comando que permite proteger archivos de acciones como borrados o cambios accidentales, su uso es:\n",
    "\n",
    "`chattr (operador (+-=)) (atributo) (archivo)`\n",
    "\n",
    "Algunos atributos son:\n",
    "\n",
    "* a: Permite que el archivo solo pueda abrirse en modo de adjuntar para escritura.\n",
    "* A: Permite que la fecha del último acceso o atime no sea modificada.\n",
    "* c: Permite que el archivo se comprima de forma automática.\n",
    "* d: Permite definir que el archivo seleccionado no sea candidato para el respaldo al usar la herramienta dump.\n",
    "* D: Cuando hace referencia a un directorio permite que los datos sean escritos de forma sincrónica en el disco.\n",
    "* e: hace referencia a que el archivo o carpeta usa extensiones (extents) usadas para la cartografía de bloques.\n",
    "* j: Es usado en los sistemas de archivos ext3 y ext4 y permite establecer que el archivo sea escrito en el registro por diario cuando lo hemos montado con las opciones data=ordered o data=writeback.\n",
    "* i: Permite que el archivo sea inmutable, es decir, que no pueda ser borrado o editado.\n",
    "* S: Indica que los cambios realizados en el archivo serán escritos de forma sincrónica en el disco.\n",
    "* s: Con este atributo los bloques usados en el disco duro serán escritos con ceros (0).\n",
    "* u: Al establecer este atributo cuando un archivo es eliminado su contenido queda almacenado para una posterior recuperación.\n",
    "\n",
    "\n",
    "  * Se añade el flag `-R` cuando se quiere hacer cambios de manera recursiva a un directorio y todo su contenido (archivos y subdirectorios).\n",
    "   * La mayoría de los casos es recomendable ejecutar este comando cómo root (anteponiendo la palabra `sudo` a la ejecución del comando.\n",
    "   \n",
    "NOTA: Dadas las limitantes de binder solo probaremos que los atributos se añadan y remuevan correctamente, para una mejor práctica te recomendamos probarlo en tu máquina local."
   ]
  },
  {
   "cell_type": "markdown",
   "metadata": {},
   "source": [
    "La siguiente ejecución creará un archivo llamado `pruebaatributos.txt` en el directorio `/home/${USER}/`."
   ]
  },
  {
   "cell_type": "code",
   "execution_count": 9,
   "metadata": {},
   "outputs": [],
   "source": [
    "touch /home/${USER}/pruebaatributos.txt"
   ]
  },
  {
   "cell_type": "markdown",
   "metadata": {},
   "source": [
    "Ahora listaremos sus atributos con el comando `lsattr`"
   ]
  },
  {
   "cell_type": "code",
   "execution_count": 7,
   "metadata": {},
   "outputs": [],
   "source": [
    "lsattr /home/${USER}/pruebaatributos.txt"
   ]
  },
  {
   "cell_type": "markdown",
   "metadata": {},
   "source": [
    "Ahora añadiremos `+` el atributo `c` que permitirá que el archivo se comprima de forma automática."
   ]
  },
  {
   "cell_type": "code",
   "execution_count": null,
   "metadata": {},
   "outputs": [],
   "source": [
    "chattr -R +c /home/${USER}/pruebaatributos.txt"
   ]
  },
  {
   "cell_type": "markdown",
   "metadata": {},
   "source": [
    "Listaremos de nuevo sus atributos con el comando `lsattr`"
   ]
  },
  {
   "cell_type": "code",
   "execution_count": 7,
   "metadata": {},
   "outputs": [],
   "source": [
    "lsattr /home/${USER}/pruebaatributos.txt"
   ]
  },
  {
   "cell_type": "markdown",
   "metadata": {},
   "source": [
    "Podemos ver que se añadió el atributo `c` a la lista de atributos."
   ]
  },
  {
   "cell_type": "markdown",
   "metadata": {},
   "source": [
    "Ahora añadiremos `+` el atributo `u` que hace que el archivo sea recuperable después de eliminado."
   ]
  },
  {
   "cell_type": "code",
   "execution_count": null,
   "metadata": {},
   "outputs": [],
   "source": [
    "chattr -R +u /home/${USER}/pruebaatributos.txt"
   ]
  },
  {
   "cell_type": "markdown",
   "metadata": {},
   "source": [
    "Listaremos de nuevo sus atributos con el comando `lsattr`"
   ]
  },
  {
   "cell_type": "code",
   "execution_count": 7,
   "metadata": {},
   "outputs": [],
   "source": [
    "lsattr /home/${USER}/pruebaatributos.txt"
   ]
  },
  {
   "cell_type": "markdown",
   "metadata": {},
   "source": [
    "Ahora quitaremos `-` el atributo `c`."
   ]
  },
  {
   "cell_type": "code",
   "execution_count": null,
   "metadata": {},
   "outputs": [],
   "source": [
    "chattr -R -c /home/${USER}/pruebaatributos.txt"
   ]
  },
  {
   "cell_type": "markdown",
   "metadata": {},
   "source": [
    "Listaremos de nuevo sus atributos con el comando `lsattr`"
   ]
  },
  {
   "cell_type": "code",
   "execution_count": 7,
   "metadata": {},
   "outputs": [],
   "source": [
    "lsattr /home/${USER}/pruebaatributos.txt"
   ]
  },
  {
   "cell_type": "markdown",
   "metadata": {},
   "source": [
    "# El uso de Wildcards"
   ]
  },
  {
   "cell_type": "markdown",
   "metadata": {},
   "source": [
    "Los Wildcards en linux son como los comodines en un juego de cartas, te sirven para reemplazar cosas que no tienes o no conoces, por ejemplo, cuando haces una búsqueda con find de un archivo del que solo sabes su extensión `.flv` y no su nombre usarías el asterisco `*` como wildcard así `*.flv`. Así un comando para buscarlo sería:\n",
    "\n",
    "`find /ruta/ -iname *.flv`\n",
    "\n",
    "Algunos wildcards comunes son:\n",
    "\n",
    "* El asterisco representa cualquier conjunto de caracteres de un nombre de archivo. `*`\n",
    "\n",
    "Por ejemplo: `ls -la *la*` listará todos los archivos que empiecen y terminen con cualquier caracter entre la palabra `la`, es decir, si hay un archivo llamado `palabra` o `la.txt` o `hola` se listará.\n",
    "\n",
    "* La interrogación representa un solo caracter (sea el que sea). `?`\n",
    "\n",
    "Por ejemplo: `rm -rf archivo?.txt` eliminará todos los archivos que tengan un caracter entre la palabra `archivo` y `.txt` es decir que el archivo `archivo1.txt` será borrado pero el archivo `archivo20.txt` no.\n",
    "\n",
    "* Los corchetes representan clases de caracteres. Por ejemplo para buscar cualquier caracter que                 represente un dígito usaríamos `[0-9]`\n",
    "\n",
    "Por ejemplo: `find -iname \"archivo[1-3].mp3\"` buscará todos los archivos que coincidan con el nombre (archivo1.mp3, archivo2.mp3 y archivo3.mp3)\n",
    "\n",
    "* La virguilla representa como el nombre de tu directorio home `~`\n",
    "\n",
    "Por ejemplo: Si tu usuario se llama pepe su home se llama igual que el usuario y ejecutas `cd ~/Documentos/Trabajo` te desplazarás hacia el directorio `/home/pepe/Documentos/Trabajo`"
   ]
  },
  {
   "cell_type": "markdown",
   "metadata": {},
   "source": [
    "La siguiente ejecución creará diez archivos: (archivo1.txt, archivo2.txt... Hasta el archivo10.txt) y los archivos (lista1.csv, lista2.csv... Hasta el archivo lista20.csv)"
   ]
  },
  {
   "cell_type": "code",
   "execution_count": 7,
   "metadata": {},
   "outputs": [],
   "source": [
    "touch /home/${USER}/archivo{1,2,3,4,5,6,7,8,9,10}.txt /home/${USER}/lista{1,2,3,4,5,6,7,8,9,10,11,12,13,14,15,16,17,18,19,20}.csv "
   ]
  },
  {
   "cell_type": "markdown",
   "metadata": {},
   "source": [
    "La siguiente ejecución listará todos los archivos:"
   ]
  },
  {
   "cell_type": "code",
   "execution_count": 7,
   "metadata": {},
   "outputs": [],
   "source": [
    "ls -la /home/${USER}/"
   ]
  },
  {
   "cell_type": "markdown",
   "metadata": {},
   "source": [
    "La siguiente ejecución listará todos los de extensión.csv:"
   ]
  },
  {
   "cell_type": "code",
   "execution_count": 7,
   "metadata": {},
   "outputs": [],
   "source": [
    "find /home/${USER}/ -iname \"*.csv\""
   ]
  },
  {
   "cell_type": "markdown",
   "metadata": {},
   "source": [
    "La siguiente ejecución listará todos los archivos con extensión .csv que tengan dos caracteres después de la palabra `lista` y antes de `.csv`"
   ]
  },
  {
   "cell_type": "code",
   "execution_count": 7,
   "metadata": {},
   "outputs": [],
   "source": [
    "find /home/${USER}/ -iname \"lista??.csv\""
   ]
  },
  {
   "cell_type": "markdown",
   "metadata": {},
   "source": [
    "La siguiente ejecución listará todos los archivos con extensión .txt cuyo nombre de archivo `archivo` esté entre el 1 y el 7."
   ]
  },
  {
   "cell_type": "code",
   "execution_count": 7,
   "metadata": {},
   "outputs": [],
   "source": [
    "find /home/${USER}/ -iname \"archivo[1-7].txt\""
   ]
  },
  {
   "cell_type": "markdown",
   "metadata": {},
   "source": [
    "La siguiente ejecución introducirá un listado de estudiantes (desde Estudiante1 hasta Estudiante10) en el archivo `archivo10.txt` "
   ]
  },
  {
   "cell_type": "code",
   "execution_count": 7,
   "metadata": {},
   "outputs": [],
   "source": [
    "cat <<EOF >  /home/${USER}/archivo10.txt\n",
    "Estudiante1,Grado 10,Juan Perez\n",
    "Estudiante2,Grado 7,Alejandro Zapata\n",
    "Estudiante3,Grado 6,Daniel Benavides\n",
    "Estudiante4,Grado 9,Oscar Pachón\n",
    "Estudiante5,Grado 11,Pedro Gómez\n",
    "Estudiante6,Grado 8,Tatiana Vélez\n",
    "Estudiante7,Grado 6,David Flores\n",
    "Estudiante8,Grado 7,Katherine Mesa\n",
    "Estudiante9,Grado 11,Daniela Lopez\n",
    "Estudiante10,Grado 10,Catalina Román\n",
    "EOF"
   ]
  },
  {
   "cell_type": "markdown",
   "metadata": {},
   "source": [
    "Ahora la siguiente ejecución imprimirá en pantalla con el comando `grep` solo los estudiantes de grados 6, 7 y 8 listados en el archivo `archivo10.txt`."
   ]
  },
  {
   "cell_type": "code",
   "execution_count": 7,
   "metadata": {},
   "outputs": [],
   "source": [
    "cat archivo10.txt | grep \"Grado [6-8]\""
   ]
  }
 ],
 "metadata": {
  "kernelspec": {
   "display_name": "Calysto Bash",
   "language": "bash",
   "name": "calysto_bash"
  },
  "language_info": {
   "file_extension": ".sh",
   "help_links": [
    {
     "text": "MetaKernel Magics",
     "url": "https://metakernel.readthedocs.io/en/latest/source/README.html"
    }
   ],
   "mimetype": "text/x-sh",
   "name": "bash",
   "version": "0.2.2"
  }
 },
 "nbformat": 4,
 "nbformat_minor": 2
}
