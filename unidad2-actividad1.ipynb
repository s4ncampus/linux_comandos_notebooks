{
 "cells": [
  {
   "cell_type": "markdown",
   "metadata": {},
   "source": [
    "# Reconociendo el sistema Linux - La estructura de directorios"
   ]
  },
  {
   "cell_type": "markdown",
   "metadata": {},
   "source": [
    "![title](binder/img/G_Med_Gym.png)"
   ]
  },
  {
   "cell_type": "markdown",
   "metadata": {},
   "source": [
    "Durante esta actividad quisieramos que entiendas muy bien como funcionan las estructuras de directorios en Linux, y que puedas entender con propiedad para que sirven algunas de las rutas más frecuentemente utilizadas en las diferentes distribuciones. \n",
    "\n",
    "Aquí pondrémos a continuación algunas ___*cajas de comandos*___ que te permitirán desarrollar la actividad. Una ___*caja de comando*___ es un elemento como el siguiente:\n"
   ]
  },
  {
   "cell_type": "code",
   "execution_count": null,
   "metadata": {},
   "outputs": [],
   "source": [
    "cat README.md"
   ]
  },
  {
   "cell_type": "markdown",
   "metadata": {},
   "source": [
    "Las cajas de comandos son editables, algunas vendrán llenas con comandos u otras vacías para que pongas el comando que quieras, basta con pararte sobre ellas con el cursor, validar el comando que quieres ejecutar y luego presionar el botón ___*\"Run\"*___ que está en la parte superior de la ventana.\n",
    "\n",
    "Pruébalo con la caja de comandos anterior...\n",
    "\n",
    "Como lo podrás ver, esta caja de comandos tiene en su interior el comando `cat README.md` el cual imprime en pantalla el contenido de un archivo. Si ejecutas ___*\"Run\"*___ el comando se inicia y te muestra en la parte inferior el resultado. De esta misma forma ejecutaremos varios comandos durante toda esta actividad. ¿Estás listo?\n",
    "\n",
    "¡Comencemos!"
   ]
  },
  {
   "cell_type": "markdown",
   "metadata": {},
   "source": [
    "![title](binder/img/L_Docker_U1_reto.jpeg)"
   ]
  },
  {
   "cell_type": "markdown",
   "metadata": {},
   "source": [
    "***"
   ]
  },
  {
   "cell_type": "markdown",
   "metadata": {},
   "source": [
    "# <font color='#47bbca'><left>Actividad 1/2</left></font>"
   ]
  },
  {
   "cell_type": "markdown",
   "metadata": {},
   "source": [
    "Ejecuta el siguiente comando parandote sobre la caja de comandos y luego dando click en el botón \"*Run*\":"
   ]
  },
  {
   "cell_type": "code",
   "execution_count": null,
   "metadata": {},
   "outputs": [],
   "source": [
    "ls /"
   ]
  },
  {
   "cell_type": "markdown",
   "metadata": {},
   "source": [
    "# <font color='#47bbca'><left>¿Qué acabas de hacer?</left></font>\n",
    "<img src=\"binder/img/L_Docker_U1_pensando.gif\" alt=\"Drawing\" style=\"width: 200px;\" align=\"left\"/>"
   ]
  },
  {
   "cell_type": "markdown",
   "metadata": {},
   "source": [
    "__*La raíz del sistema `/`:*__\n",
    "\n",
    "El comando `ls` ya debe ser muy familiar para ti, sin embargo, es probable que nunca hayamos hablado de la raíz del sistema `/` y es que ese simbolo `slash` hace referencia a la parte inicial donde se estructura el sistema de archivos, por ejemplo, lo que en los sistemas Windows sería el disco `C:\\` en Linux es `/` y de allí parte toda una estructura de directorios, en este caso lo que viste al listarla con el comando `ls` son todos los directorios del sistema para este caso la estructura es:\n",
    "\n",
    "`/\n",
    "├── bin \n",
    "├── boot\n",
    "├── dev\n",
    "├── etc\n",
    "├── home\n",
    "├── lib\n",
    "├── lib64\n",
    "├── media\n",
    "├── mnt\n",
    "├── opt\n",
    "├── proc\n",
    "├── root\n",
    "├── run\n",
    "├── sbin\n",
    "├── srv\n",
    "├── sys\n",
    "├── tmp\n",
    "├── usr\n",
    "└── var`\n",
    "\n",
    "Donde cada una de estas carpetas tiene unas subcarpetas y archivos importantes para el sistema, y vamos a ver algunos de ellos:\n",
    "\n",
    "- `/bin/`..........................................(Binaries) Directorio de binarios del sistema (cp, ls, mv y demás comandos están allí).\n",
    "- `/boot/`.........................................Directorio con ficheros de arranque del sistema.\n",
    "- `/dev/`..........................................(Devices) Directorio de configuraciones de dispositivos \"devices\".\n",
    "- `/etc/`..........................................Directorio de archivos de configuración del sistema.\n",
    "- `/home/`.........................................Directorio de carpetas personales de los usuarios.\n",
    "- `/lib/`..........................................(Libraries) Directorio de librerías compartidas del sistema.\n",
    "- `/media/` o `/run/media`.........................Directorio de puntos de montaje de dispositivos removibles.\n",
    "- `/mnt/`..........................................(Mounted) Directorio de sistemas de archivos montados temporalmente, (si hubiesen dos discos duros en la máquina los verías aquí).\n",
    "- `/var/`..........................................(Variable) Directorio con archivos con información acerca del sistema que pueden variar en el próximo inicio del mismo.\n",
    "- `/proc/`..........................................Información del sistema, procesos y aplicaciones que se están ejecutando en un momento determinado."
   ]
  },
  {
   "cell_type": "markdown",
   "metadata": {},
   "source": [
    "# <font color=\"#47bbca\">¡En conclusión!</font>\n",
    "<img src=\"binder/img/L_Docker_U1_recuerda.png\" alt=\"Drawing\" style=\"width: 200px;\" align=\"left\"/>"
   ]
  },
  {
   "cell_type": "markdown",
   "metadata": {},
   "source": [
    "Entender el sistema de archivos Linux es de suma importancia para reconocer en dónde están las cosas que necesitamos"
   ]
  },
  {
   "cell_type": "markdown",
   "metadata": {},
   "source": [
    "Para hacer algunas equivalencias con Windows podríamos decir que:\n",
    "\n",
    "- Lo que en Windows es `C:\\` en Linux es `/`.\n",
    "- Lo que en Windows es `C:\\Users\\myuser` en Linux es `/home/myuser`\n",
    "- Lo que en Windows es `C:\\Program Files` en Linux podría ser `/bin/`\n",
    "- Lo que en Windows es `C:\\Windows` en Linux podría ser `/etc/`\n",
    "- Lo que en Windows es `D:\\` en Linux es `/mnt` (aunque realmente puedes montar un disco o partición en la ruta que quieras como `/home/myuser` si vas a guardar tus datos allí o en `/opt` si vas a guardar cualquier otro tipo de información)."
   ]
  },
  {
   "cell_type": "markdown",
   "metadata": {},
   "source": [
    "***"
   ]
  },
  {
   "cell_type": "markdown",
   "metadata": {},
   "source": [
    "# <font color='#47bbca'><left>Actividad 2/2</left></font>"
   ]
  },
  {
   "cell_type": "markdown",
   "metadata": {},
   "source": [
    "Vamos ahora a probar algunas de las rutas más importantes en el sistema Linux para que puedas tener una mejor comprensión de como está distribuída su estructura de directorios, en esta actividad deberás reemplazar los valores dados por lo aprendido hasta ahora en términos de estructura de directorios del sistema.\n",
    "\n",
    "¿Estás listo?...\n",
    "\n",
    "¡Comencemos!"
   ]
  },
  {
   "cell_type": "markdown",
   "metadata": {},
   "source": [
    "***"
   ]
  },
  {
   "cell_type": "markdown",
   "metadata": {},
   "source": [
    "# <font color='#47bbca'><left>Ruta 1/5</left></font>"
   ]
  },
  {
   "cell_type": "markdown",
   "metadata": {},
   "source": [
    "Ejecuta el siguiente comando reemplazando las líneas `___` por la ruta que contiene todos los archivos de configuración del sistema:"
   ]
  },
  {
   "cell_type": "code",
   "execution_count": 5,
   "metadata": {},
   "outputs": [],
   "source": [
    "cat /___/passwd"
   ]
  },
  {
   "cell_type": "markdown",
   "metadata": {},
   "source": [
    "# <font color='#47bbca'><left>¿Qué acabas de hacer?</left></font>\n",
    "<img src=\"binder/img/L_Docker_U1_pensando.gif\" alt=\"Drawing\" style=\"width: 200px;\" align=\"left\"/>"
   ]
  },
  {
   "cell_type": "markdown",
   "metadata": {},
   "source": [
    "__*El archivo `passwd`:*__ \n",
    "\n",
    "Con el comando `cat` acabas de imprimir el contenido del archivo `passwd` el cual contiene en su interior todos los usuarios del sistema de la siguiente forma:\n",
    "\n",
    "`jovyan:x:1000:1000:Default user:/home/jovyan:/bin/bash`\n",
    "\n",
    "Que quiere decir:\n",
    "\n",
    "`nombre_de_usuario:contraseña:identificador_de_usuario:identificador_de_grupo:descripción:directorio_home:shell_por_defecto`\n",
    "\n",
    "Algunos de los usuarios que siempre verás en cualquier distribución Linux son:\n",
    "\n",
    "- `root`..........................................El superadministrador del sistema, nadie tiene más poderes que él.\n",
    "- `daemon`.........................................Usado por servicios que necesitan escribir en el disco.\n",
    "- `man`..........................................Usado por el programa man.\n",
    "- `nobody`..........................................Usado por servicios que no necesitan ser propietarios de ningún archivo.\n"
   ]
  },
  {
   "cell_type": "markdown",
   "metadata": {},
   "source": [
    "***"
   ]
  },
  {
   "cell_type": "markdown",
   "metadata": {},
   "source": [
    "# <font color='#47bbca'><left>Ruta 2/5</left></font>"
   ]
  },
  {
   "cell_type": "markdown",
   "metadata": {},
   "source": [
    "Ejecuta un comando que te permita conocer tu nombre de usuario:"
   ]
  },
  {
   "cell_type": "code",
   "execution_count": 5,
   "metadata": {},
   "outputs": [],
   "source": []
  },
  {
   "cell_type": "markdown",
   "metadata": {},
   "source": [
    "Ejecuta el siguiente comando reemplazando las líneas `___` por la ruta de la carpeta del sistema que contiene todos los binarios del sistema y reemplazando `${USER}` por el usuario obtenido en el comando anterior:"
   ]
  },
  {
   "cell_type": "code",
   "execution_count": 5,
   "metadata": {},
   "outputs": [],
   "source": [
    "/___/ls /home/${USER}"
   ]
  },
  {
   "cell_type": "markdown",
   "metadata": {},
   "source": [
    "# <font color='#47bbca'><left>¿Qué acabas de hacer?</left></font>\n",
    "<img src=\"binder/img/L_Docker_U1_pensando.gif\" alt=\"Drawing\" style=\"width: 200px;\" align=\"left\"/>"
   ]
  },
  {
   "cell_type": "markdown",
   "metadata": {},
   "source": [
    "Con el comando `ls` y el flag `-la` puedes listar todos los archivos del directorio `/home/${USER}`, pero `ls` es un binario y como viste anteriomente, los binarios están en `/bin` (incluso algunas veces pueden estar en `/sbin`, `/usr/bin` o `/usr/sbin`) por tal motivo es posible ejecutar:\n",
    "\n",
    "- `ls /home/${USER}`\n",
    "- `/bin/ls /home/${USER}`\n",
    "- `/usr/bin/ls /home/${USER}`\n",
    "- `/usr/sbin/ls /home/${USER}`"
   ]
  },
  {
   "cell_type": "markdown",
   "metadata": {},
   "source": [
    "***"
   ]
  },
  {
   "cell_type": "markdown",
   "metadata": {},
   "source": [
    "# <font color='#47bbca'><left>Ruta 3/5</left></font>"
   ]
  },
  {
   "cell_type": "markdown",
   "metadata": {},
   "source": [
    "Ejecuta el siguiente comando reemplazando las líneas `___` por la ruta de la carpeta del sistema los archivos que pueden variar en el próximo inicio del sistema:"
   ]
  },
  {
   "cell_type": "code",
   "execution_count": 5,
   "metadata": {},
   "outputs": [],
   "source": [
    "tail -20 /___/log/dpkg.log"
   ]
  },
  {
   "cell_type": "markdown",
   "metadata": {},
   "source": [
    "# <font color='#47bbca'><left>¿Qué acabas de hacer?</left></font>\n",
    "<img src=\"binder/img/L_Docker_U1_pensando.gif\" alt=\"Drawing\" style=\"width: 200px;\" align=\"left\"/>"
   ]
  },
  {
   "cell_type": "markdown",
   "metadata": {},
   "source": [
    "__*El comando`tail`:*__ \n",
    "\n",
    "Con el comando `tail -20` acabas de imprimir las últimas `20` líneas del archivo `dpkg.log` el cual contiene un registro de la administración de paquetes (que paquetes se instalaron y/o desinstalaron en el sistema). La ruta `/var/log/` contiene muchos otros archivos de log, por ejemplo, si tienes un servidor web apache en Linux podrás visitar `/var/log/apache2/error.log`. Quizá cuando tengas un problema en Linux sea bueno ir a revisar que todo esté bien allí."
   ]
  },
  {
   "cell_type": "markdown",
   "metadata": {},
   "source": [
    "Ejecuta a continuación un comando que te permita listar todos los archivos de logs en dicha ruta:"
   ]
  },
  {
   "cell_type": "code",
   "execution_count": 5,
   "metadata": {},
   "outputs": [],
   "source": []
  },
  {
   "cell_type": "markdown",
   "metadata": {},
   "source": [
    "Ahora ejecuta un comando para ver las últimas 5 líneas de uno de estos archivos de logs:"
   ]
  },
  {
   "cell_type": "code",
   "execution_count": 5,
   "metadata": {},
   "outputs": [],
   "source": []
  },
  {
   "cell_type": "markdown",
   "metadata": {},
   "source": [
    "# <font color='#47bbca'><left>¿Lo hiciste?</left></font>\n",
    "En caso de que sí, Excelente, podemos continuar con la siguiente actividad.\n",
    "\n",
    "Si no lo lograste hacer, puedes presionar el siguiente botón de pánico para obtener una solución\n",
    "\n",
    "\n",
    "<html>\n",
    "   <head>\n",
    "   </head>\n",
    "   <body>\n",
    "      <a href=\"binder/solutions/actividad1/ruta-3-5.html\" target=\"_blank\">\n",
    "      <img src=\"binder/img/panic_button.png\" alt=\"Drawing\" style=\"width: 200px;\" align=\"left\"/> \n",
    "      </a>\n",
    "   </body>\n",
    "</html>"
   ]
  },
  {
   "cell_type": "markdown",
   "metadata": {},
   "source": [
    "***"
   ]
  },
  {
   "cell_type": "markdown",
   "metadata": {},
   "source": [
    "# <font color='#47bbca'><left>Ruta 4/5</left></font>"
   ]
  },
  {
   "cell_type": "markdown",
   "metadata": {},
   "source": [
    "Ejecuta el siguiente comando reemplazando las líneas `___` por la ruta del directorio que contiene la información del sistema, procesos y aplicaciones que se están ejecutando en un momento determinado:"
   ]
  },
  {
   "cell_type": "code",
   "execution_count": 5,
   "metadata": {},
   "outputs": [],
   "source": [
    "head -10 /___/meminfo"
   ]
  },
  {
   "cell_type": "markdown",
   "metadata": {},
   "source": [
    "# <font color='#47bbca'><left>¿Qué acabas de hacer?</left></font>\n",
    "<img src=\"binder/img/L_Docker_U1_pensando.gif\" alt=\"Drawing\" style=\"width: 200px;\" align=\"left\"/>"
   ]
  },
  {
   "cell_type": "markdown",
   "metadata": {},
   "source": [
    "__*El comando`head`:*__ \n",
    "\n",
    "Con el comando `head -10` acabas de imprimir las primeras `10` líneas del archivo `meminfo` el cual proporciona información importante sobre el uso actual de RAM en el sistema, dentro de esta ruta también es posible encontrar archivos similares como `cpuinfo` para ver la CPU y `devices` para ver los módulos del sistema."
   ]
  },
  {
   "cell_type": "markdown",
   "metadata": {},
   "source": [
    "Ejecuta a continuación un comando que te permita listar todos los archivos en dicha ruta:"
   ]
  },
  {
   "cell_type": "code",
   "execution_count": 5,
   "metadata": {},
   "outputs": [],
   "source": []
  },
  {
   "cell_type": "markdown",
   "metadata": {},
   "source": [
    "Ahora ejecuta un comando para ver las primeras 5 líneas de uno de estos archivos:"
   ]
  },
  {
   "cell_type": "code",
   "execution_count": 5,
   "metadata": {},
   "outputs": [],
   "source": []
  },
  {
   "cell_type": "markdown",
   "metadata": {},
   "source": [
    "# <font color='#47bbca'><left>¿Lo hiciste?</left></font>\n",
    "\n",
    "En caso de que sí, Excelente, podemos continuar con la siguiente actividad.\n",
    "\n",
    "\n",
    "Si no lo lograste hacer, puedes presionar el siguiente botón de pánico para obtener una solución\n",
    "\n",
    "\n",
    "<html>\n",
    "   <head>\n",
    "   </head>\n",
    "   <body>\n",
    "      <a href=\"binder/solutions/actividad1/ruta-4-5.html\" target=\"_blank\">\n",
    "      <img src=\"binder/img/panic_button.png\" alt=\"Drawing\" style=\"width: 200px;\" align=\"left\"/> \n",
    "      </a>\n",
    "   </body>\n",
    "</html>"
   ]
  },
  {
   "cell_type": "markdown",
   "metadata": {},
   "source": [
    "***"
   ]
  },
  {
   "cell_type": "markdown",
   "metadata": {},
   "source": [
    "# <font color='#47bbca'><left>Ruta 5/5</left></font>"
   ]
  },
  {
   "cell_type": "markdown",
   "metadata": {},
   "source": [
    "Ejecuta el siguiente comando reemplazando las líneas `___` por la ruta de la carpeta personal del usuario root (obtendrás un error):"
   ]
  },
  {
   "cell_type": "code",
   "execution_count": 5,
   "metadata": {},
   "outputs": [],
   "source": [
    "cat /___/.bashrc"
   ]
  },
  {
   "cell_type": "markdown",
   "metadata": {},
   "source": [
    "El error que acabas de obtener es por permisos, debido a que un usuario sin permisos no puede ver el contenido del directorio personal de otro usuario. Para este ejemplo entonces vamos a reemplazar el comando pero por el directorio personal de nuestro usuario:"
   ]
  },
  {
   "cell_type": "code",
   "execution_count": null,
   "metadata": {},
   "outputs": [],
   "source": [
    "cat /___/.bashrc"
   ]
  },
  {
   "cell_type": "markdown",
   "metadata": {},
   "source": [
    "# <font color='#47bbca'><left>¿Qué acabas de hacer?</left></font>\n",
    "<img src=\"binder/img/L_Docker_U1_pensando.gif\" alt=\"Drawing\" style=\"width: 200px;\" align=\"left\"/>"
   ]
  },
  {
   "cell_type": "markdown",
   "metadata": {},
   "source": [
    "Con el comando `cat` acabas de imprimir un archivo oculto (sabemos que es oculto porque su nombre está antecedido por un punto `.`), este archivo llamado `.bashrc` contiene toda la configuración inicial de la cuenta de usuario."
   ]
  },
  {
   "cell_type": "markdown",
   "metadata": {},
   "source": [
    "Ejecuta a continuación un comando que te permita imprimir el contenido del archivo oculto `bashrc` que está en el directorio personal del usuario actual."
   ]
  },
  {
   "cell_type": "code",
   "execution_count": 5,
   "metadata": {},
   "outputs": [],
   "source": []
  },
  {
   "cell_type": "markdown",
   "metadata": {},
   "source": [
    "# <font color='#47bbca'><left>¿Lo hiciste?</left></font>\n",
    "\n",
    "En caso de que sí, Excelente, este script que se ejecuta cada vez que se inicia una sesión en la terminal del usuario.\n",
    "\n",
    "Si no lo lograste hacer, puedes presionar el siguiente botón de pánico para obtener una solución\n",
    "\n",
    "\n",
    "<html>\n",
    "   <head>\n",
    "   </head>\n",
    "   <body>\n",
    "      <a href=\"binder/solutions/actividad1/ruta-5-5.html\" target=\"_blank\">\n",
    "      <img src=\"binder/img/panic_button.png\" alt=\"Drawing\" style=\"width: 200px;\" align=\"left\"/> \n",
    "      </a>\n",
    "   </body>\n",
    "</html>"
   ]
  },
  {
   "cell_type": "markdown",
   "metadata": {},
   "source": [
    "# <font color=\"#47bbca\"><left>¿Te gustó la actividad?</left></font>"
   ]
  },
  {
   "cell_type": "markdown",
   "metadata": {},
   "source": [
    "Acabas de aprender algunos comandos nuevos que te serán muy útiles en Linux y Unix, solo para que los recuerdes son:\n",
    "\n",
    "  * ___`head`:___ Imprime las primeras líneas de un archivo\n",
    "  * ___`tail`:___ Imprime las últimas líneas de un archivo\n",
    "\n",
    "\n",
    "Finalmente algunas rutas y archivos importantes:\n",
    "\n",
    "  * ___`/etc/passwd`:___ La ruta /etc almacena archivos de configuración del sistema y passwd contiene los usuarios del sistema.\n",
    "  * ___`/bin/`:___ Similar a /sbin, /usr/bin o /usr/sbin contiene binarios del sistema\n",
    "  * ___`/var/log/`:___ Contiene archivos de logs\n",
    "  * ___`/proc/meminfo`:___ La ruta /proc contiene información del sistema, el archivo meminfo particularmente sobre la memoria ram\n",
    "  * ___`/root`:___ La ruta /root es el directorio personal del superadministrador\n",
    "  * ___`/home/${USUARIO}.bashrc`:___ La ruta /home/${USUARIO} hace referencia al directorio personal del usuario, los arhivos antecedidos por un . están ocultos, en este caso el archivo .bashrc contiene toda la configuración inicial de la cuenta de usuario.\n",
    "  \n",
    "  \n",
    "Ahora volvamos a campus donde podremos ver un video de algunos de estos comandos en acción, [presiona click en este enlace para continuar con la siguiente actividad](https://campus.s4n.co/courses/course-v1:S4N+LIN02+2020_01/course/)"
   ]
  }
 ],
 "metadata": {
  "hide_input": false,
  "kernelspec": {
   "display_name": "Calysto Bash",
   "language": "bash",
   "name": "calysto_bash"
  },
  "language_info": {
   "file_extension": ".sh",
   "help_links": [
    {
     "text": "MetaKernel Magics",
     "url": "https://metakernel.readthedocs.io/en/latest/source/README.html"
    }
   ],
   "mimetype": "text/x-sh",
   "name": "bash",
   "version": "0.2.2"
  }
 },
 "nbformat": 4,
 "nbformat_minor": 2
}
