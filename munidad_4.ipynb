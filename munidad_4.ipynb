{
 "cells": [
  {
   "cell_type": "markdown",
   "metadata": {},
   "source": [
    "# Mantenimiento del SO"
   ]
  },
  {
   "cell_type": "markdown",
   "metadata": {},
   "source": [
    "En esta actividad exploraremos las herramientas que tenemos en Linux para realizar un mantenimiento general de nuestro sistema operativo."
   ]
  },
  {
   "cell_type": "markdown",
   "metadata": {},
   "source": [
    "# Análisis de virus (Clamav)"
   ]
  },
  {
   "cell_type": "markdown",
   "metadata": {},
   "source": [
    "Aunque te hayan dicho lo contrario y aunque no es tan comunmente atacado como otros sistemas, sí es posible que Linux contenga malware y para ello existe un antivirus llamado ClamAV, uno de los más completos en sistemas basados en Linux, incluso utilizado en muchas infraestructuras de red para analizar archivos peligrosos. Es importante también saber que existen muchos virus para Windows u otros sistemas de los cuales Linux puede ser portador y transmisor aunque no sea afectado.\n",
    "\n",
    "Para instalar Clamav:\n",
    "\n",
    "* Debian,Ubuntu y derivados\n",
    "\n",
    "`sudo apt-get install clamav`\n",
    "\n",
    "* Arch Linux y derivados\n",
    "\n",
    "`sudo pacman-S clamav`\n",
    "\n",
    "* Fedora y derivados\n",
    "\n",
    "`sudo dnf install clamav`\n",
    "\n",
    "* OpenSUSE\n",
    "\n",
    "`sudo zypper install clamav`\n",
    "\n",
    "Una vez instalado, si quieres actualizar la base de firmas de virus puedes ejecutar:\n",
    "\n",
    "`sudo freshclam`\n",
    "\n",
    "Para analizar una carpeta en particular:\n",
    "\n",
    "`clamscan /ruta/a/examinar/`\n",
    "\n",
    "Para analizarla recursivamente:\n",
    "\n",
    "`clamscan -r /ruta/a/examinar/`\n",
    "\n",
    "Para borrar el malware encontrado:\n",
    "\n",
    "`clamscan --remove /ruta/a/examinar/`"
   ]
  },
  {
   "cell_type": "markdown",
   "metadata": {},
   "source": [
    "A continuación realizaremos un análisis recursivo de todo nuestro directorio `home`, es importante que observen la opción `--database` la cual permite utilizar un archivo de firmas de virus particular, esto se hace para evitarles la ejecución del comando `freshclam` el cual actualizando las firmas de virus puede tardar hasta 30 minutos. (Esta ejecución puede tardar unos segundos, te recomendamos que la lances una sola vez y esperes)."
   ]
  },
  {
   "cell_type": "code",
   "execution_count": 5,
   "metadata": {},
   "outputs": [],
   "source": [
    "clamscan --database=$HOME/Resources/Linux_Terminal_Master/U4/firmasdevirus.cvd -r --remove ."
   ]
  },
  {
   "cell_type": "markdown",
   "metadata": {},
   "source": [
    "Seguramente no se encontraron virus y todo aparece `OK` ya que este contenedor es nuevo."
   ]
  },
  {
   "cell_type": "markdown",
   "metadata": {},
   "source": [
    "Ahora en la siguiente ejecución se utilizará el comando wget para descargar un archivo de virus de ejemplo de internet."
   ]
  },
  {
   "cell_type": "code",
   "execution_count": 5,
   "metadata": {},
   "outputs": [],
   "source": [
    "wget https://secure.eicar.org/eicar.com.txt"
   ]
  },
  {
   "cell_type": "markdown",
   "metadata": {},
   "source": [
    "Verifiquemos que el archivo `eicar.com.txt` quedó correctamente descargado con `ls`"
   ]
  },
  {
   "cell_type": "code",
   "execution_count": 5,
   "metadata": {},
   "outputs": [],
   "source": [
    "ls "
   ]
  },
  {
   "cell_type": "markdown",
   "metadata": {},
   "source": [
    "Realizaremos de nuevo el análisis de virus."
   ]
  },
  {
   "cell_type": "code",
   "execution_count": 5,
   "metadata": {},
   "outputs": [],
   "source": [
    "clamscan --database=$HOME/Resources/Linux_Terminal_Master/U4/firmasdevirus.cvd -r --remove ."
   ]
  },
  {
   "cell_type": "markdown",
   "metadata": {},
   "source": [
    "En esta ejecución podrán ver que aparece `FOUND` y posteriormente `removed` en el archivo eicar.com.txt, lo que significa que el virus fue encontrado y eliminado correctamente."
   ]
  },
  {
   "cell_type": "markdown",
   "metadata": {},
   "source": [
    "# du"
   ]
  },
  {
   "cell_type": "markdown",
   "metadata": {},
   "source": [
    "El comando `du` (disk usage) nos permite analizar el uso de disco de un archivo o directorio,\n",
    "Uso:\n",
    "\n",
    "`du -h` Permite ver la salida en `human readable`, es decir kb, mb, gb, etc.\n",
    "`du -s` Permite ver la salida resumida `summarize`.\n",
    "`du -c` Produce un gran total\n",
    "`du -a` Incluye todos los archivos y directorios"
   ]
  },
  {
   "cell_type": "markdown",
   "metadata": {},
   "source": [
    "La siguiente salida permitirá ver el tamaño del directorio `/etc`"
   ]
  },
  {
   "cell_type": "code",
   "execution_count": null,
   "metadata": {},
   "outputs": [],
   "source": [
    "du -ahc /etc"
   ]
  },
  {
   "cell_type": "markdown",
   "metadata": {},
   "source": [
    "Cómo pueden ver es una salida larga y desordenada, para resolver el orden, el comando `sort` nos permite organizar la salida de un comando, si le aplicamos el flag `-n` (number) y `-r` (reverse), podremos ver los archivos y directorios más pesados primero y los más livianos después, veamosló en acción."
   ]
  },
  {
   "cell_type": "code",
   "execution_count": 5,
   "metadata": {},
   "outputs": [],
   "source": [
    "du -ahc /etc | sort -n -r"
   ]
  },
  {
   "cell_type": "markdown",
   "metadata": {},
   "source": [
    "Ahora la salida está ordenada, sin embargo sigue siendo larga, para ello el comando `head` nos permite obtener la \"cabeza\" de la salida de un archivo, en este caso si solo queremos las 10 primeras líneas de una salida ejecutamos lo siguiente `head -n 10`, así obtendremos los archivos y/o directorios más pesados."
   ]
  },
  {
   "cell_type": "code",
   "execution_count": 5,
   "metadata": {},
   "outputs": [],
   "source": [
    "du -ahc /etc | sort -n -r | head -n 10"
   ]
  },
  {
   "cell_type": "markdown",
   "metadata": {},
   "source": [
    "La siguiente línea ejecutará un script que generará unos directorios aleatorios en la carpeta `/tmp/U4` y en uno de ellos creará un archivo muy pesado."
   ]
  },
  {
   "cell_type": "code",
   "execution_count": 5,
   "metadata": {},
   "outputs": [],
   "source": [
    "sh $HOME/Scripts/Linux_Terminal_Master/U4/CF_genera_archivo_pesado.sh"
   ]
  },
  {
   "cell_type": "markdown",
   "metadata": {},
   "source": [
    "La siguiente ejecución está vacía para que crees un comando que identifique dicho archivo."
   ]
  },
  {
   "cell_type": "code",
   "execution_count": null,
   "metadata": {},
   "outputs": [],
   "source": []
  },
  {
   "cell_type": "markdown",
   "metadata": {},
   "source": [
    "# Head"
   ]
  },
  {
   "cell_type": "markdown",
   "metadata": {},
   "source": [
    "El comando `head` muestra la primera parte, o \"cabeza\", de los archivos. Es decir, al igual que con tail pero para ver solo las primeras líneas de un archivo.\n",
    "\n",
    "Uso:\n",
    "\n",
    "`head -c (número de caractéres) (archivo de log)` Permite imprimir en pantalla un número específico de caracteres\n",
    "`tail -n (número de líneas) (archivo de log)` Permite imprimir en pantalla un número de últimas líneas específico"
   ]
  },
  {
   "cell_type": "markdown",
   "metadata": {},
   "source": [
    "La siguiente ejecución permitirá ver en pantalla los primeros 10 caracteres del archivo `/var/log/alternatives.log` "
   ]
  },
  {
   "cell_type": "code",
   "execution_count": 5,
   "metadata": {},
   "outputs": [],
   "source": [
    "head -c 10 /var/log/alternatives.log"
   ]
  },
  {
   "cell_type": "markdown",
   "metadata": {},
   "source": [
    "Ahora la siguinte ejecución permitirá ver las primeras 3 líneas de dicho archivo"
   ]
  },
  {
   "cell_type": "code",
   "execution_count": 5,
   "metadata": {},
   "outputs": [],
   "source": [
    "head -n 3 /var/log/alternatives.log"
   ]
  },
  {
   "cell_type": "markdown",
   "metadata": {},
   "source": [
    "# dmesg"
   ]
  },
  {
   "cell_type": "markdown",
   "metadata": {},
   "source": [
    "El comando dmesg imprime toda la lista el buffer del kernel. Permite utilizar filtros específicos para obtener mejor información, ellos son:\n",
    "\n",
    "* emerg – el sistema no se puede usar\n",
    "* alert – se deben tomar medidas de inmediato\n",
    "* crit – condiciones críticas\n",
    "* err – condiciones de error\n",
    "* warn – condiciones de advertencia\n",
    "* notice – condición normal pero significativa\n",
    "* info – informativo\n",
    "* debug – mensajes a nivel de depuración\n",
    "\n",
    "Su uso es:\n",
    "`dmesg` Solo para ver toda la lista\n",
    "`dmesg --level=(Filtro a usar)` Permite utilizar un filtro específico."
   ]
  },
  {
   "cell_type": "markdown",
   "metadata": {},
   "source": [
    "La siguiente ejecución permitirá filtrar todos los mensajes del kernel en condición de error"
   ]
  },
  {
   "cell_type": "code",
   "execution_count": 5,
   "metadata": {},
   "outputs": [],
   "source": [
    "dmesg --level=err"
   ]
  },
  {
   "cell_type": "markdown",
   "metadata": {},
   "source": [
    "La siguiente ejecución permitirá filtrar todos los mensajes del kernel en condición de advertencia"
   ]
  },
  {
   "cell_type": "code",
   "execution_count": 5,
   "metadata": {},
   "outputs": [],
   "source": [
    "dmesg --level=warn"
   ]
  },
  {
   "cell_type": "markdown",
   "metadata": {},
   "source": [
    "Ahora, en la siguiente ejecución listaremos la condición de error y además la de warning juntas"
   ]
  },
  {
   "cell_type": "code",
   "execution_count": 5,
   "metadata": {},
   "outputs": [],
   "source": [
    "dmesg --level=warn,error"
   ]
  },
  {
   "cell_type": "markdown",
   "metadata": {},
   "source": [
    "# Filtro de logs"
   ]
  },
  {
   "cell_type": "markdown",
   "metadata": {},
   "source": [
    "Cómo aprendimos anteriormente, es posible enviar la salida de un comando a otro comando, haremos algunas prácticas:"
   ]
  },
  {
   "cell_type": "markdown",
   "metadata": {},
   "source": [
    "La siguiente ejecución listará las condiciones de error y warning de dmesg, pero solo mostrará las últimas 5 líneas de dicha salida redirigiendola a `tail`:"
   ]
  },
  {
   "cell_type": "code",
   "execution_count": 5,
   "metadata": {},
   "outputs": [],
   "source": [
    "dmesg --level=warn,error | tail -n5"
   ]
  },
  {
   "cell_type": "markdown",
   "metadata": {},
   "source": [
    "La siguiente ejecución listará las condiciones de error y warning de dmesg, pero solo mostrará las primeras 2 líneas de dicha salida redirigiendola a `head`:"
   ]
  },
  {
   "cell_type": "code",
   "execution_count": 5,
   "metadata": {},
   "outputs": [],
   "source": [
    "dmesg --level=warn,error | head -n2"
   ]
  },
  {
   "cell_type": "markdown",
   "metadata": {},
   "source": [
    "Sabemos entonces que el log `/var/log/dpkg.log` contiene los eventos de paquetes instalados, existe un paquete llamado `gzip`, del cual no estamos seguros si se registró el evento de su instalación en el sistema, lo comprobaremos abriendo dicho log con `cat` y filtrando en la salida con `grep`"
   ]
  },
  {
   "cell_type": "code",
   "execution_count": 5,
   "metadata": {},
   "outputs": [],
   "source": [
    "cat /var/log/dpkg.log | grep \"gzip\""
   ]
  },
  {
   "cell_type": "markdown",
   "metadata": {},
   "source": [
    "Cómo puedes ver, los filtros son súmamente útiles para encontrar mayor información relacionada con los logs del sistema"
   ]
  },
  {
   "cell_type": "markdown",
   "metadata": {},
   "source": [
    "# Less o More (tip final)"
   ]
  },
  {
   "cell_type": "markdown",
   "metadata": {},
   "source": [
    "Los comandos `less` y `more` permiten paginar grandes archivos de texto, es decir que en lugar de ver en una terminal una infinidad de texto, podrás ir viendo página por página del mismo, pueden utilizarse de dos formas.\n",
    "\n",
    "`less ó more (archivo a paginar)`\n",
    "`cat (archivo a paginar) | less ó more`\n",
    "`dmesg (filtro a aplicar) (archivo a paginar) | less o more`\n",
    "\n",
    "Por ejemplo:\n",
    "\n",
    "`cat /var/log/dpkg.log | less`\n",
    "\n",
    "O por ejemplo:\n",
    "\n",
    "`less /var/log/dpkg.log`\n",
    "\n",
    "En el uso de estos comandos es importante que sepas que para salir de su ejecución puedes utilizar la tecla `ESC`, para pasar de páginas puedes utilizar las teclas `av pag` y `re pag` y para bajar lentamente puedes utilizar la tecla `Space`."
   ]
  }
 ],
 "metadata": {
  "kernelspec": {
   "display_name": "Bash",
   "language": "bash",
   "name": "bash"
  },
  "language_info": {
   "codemirror_mode": "shell",
   "file_extension": ".sh",
   "mimetype": "text/x-sh",
   "name": "bash"
  }
 },
 "nbformat": 4,
 "nbformat_minor": 2
}
