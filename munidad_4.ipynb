{
 "cells": [
  {
   "cell_type": "markdown",
   "metadata": {},
   "source": [
    "# Mantenimiento del SO"
   ]
  },
  {
   "cell_type": "markdown",
   "metadata": {},
   "source": [
    "En esta actividad exploraremos las herramientas que tenemos en Linux para realizar un mantenimiento general de nuestro sistema operativo."
   ]
  },
  {
   "cell_type": "markdown",
   "metadata": {},
   "source": [
    "# Análisis de virus (Clamav)"
   ]
  },
  {
   "cell_type": "markdown",
   "metadata": {},
   "source": [
    "Aunque te hayan dicho lo contrario y aunque no es tan comunmente atacado como otros sistemas, sí es posible que Linux contenga malware y para ello existe un antivirus llamado ClamAV, uno de los más completos en sistemas basados en Linux, incluso utilizado en muchas infraestructuras de red para analizar archivos peligrosos. Es importante también saber que existen muchos virus para Windows u otros sistemas de los cuales Linux puede ser portador y transmisor aunque no sea afectado.\n",
    "\n",
    "Para instalar Clamav:\n",
    "\n",
    "* Debian,Ubuntu y derivados\n",
    "\n",
    "`sudo apt-get install clamav`\n",
    "\n",
    "* Arch Linux y derivados\n",
    "\n",
    "`sudo pacman-S clamav`\n",
    "\n",
    "* Fedora y derivados\n",
    "\n",
    "`sudo dnf install clamav`\n",
    "\n",
    "* OpenSUSE\n",
    "\n",
    "`sudo zypper install clamav`\n",
    "\n",
    "Una vez instalado, si quieres actualizar la base de firmas de virus puedes ejecutar:\n",
    "\n",
    "`sudo freshclam`\n",
    "\n",
    "Para analizar una carpeta en particular:\n",
    "\n",
    "`clamscan /ruta/a/examinar/`\n",
    "\n",
    "Para analizarla recursivamente:\n",
    "\n",
    "`clamscan -r /ruta/a/examinar/`\n",
    "\n",
    "Para borrar el malware encontrado:\n",
    "\n",
    "`clamscan --remove /ruta/a/examinar/`"
   ]
  },
  {
   "cell_type": "markdown",
   "metadata": {},
   "source": [
    "A continuación realizaremos un análisis recursivo de todo nuestro directorio `home`, es importante que observen la opción `--database` la cual permite utilizar un archivo de firmas de virus particular, esto se hace para evitarles la ejecución del comando `freshclam` el cual actualizando las firmas de virus puede tardar hasta 30 minutos. (Esta ejecución puede tardar unos segundos, te recomendamos que la lances una sola vez y esperes)."
   ]
  },
  {
   "cell_type": "code",
   "execution_count": 5,
   "metadata": {},
   "outputs": [],
   "source": [
    "clamscan --database=$HOME/Resources/Linux_Terminal_Master/U4/firmasdevirus.cvd -r --remove ."
   ]
  },
  {
   "cell_type": "markdown",
   "metadata": {},
   "source": [
    "Seguramente no se encontraron virus y todo aparece `OK` ya que este contenedor es nuevo."
   ]
  },
  {
   "cell_type": "markdown",
   "metadata": {},
   "source": [
    "Ahora en la siguiente ejecución se utilizará el comando wget para descargar un archivo de virus de ejemplo de internet."
   ]
  },
  {
   "cell_type": "code",
   "execution_count": 5,
   "metadata": {},
   "outputs": [],
   "source": [
    "wget https://secure.eicar.org/eicar.com.txt"
   ]
  },
  {
   "cell_type": "markdown",
   "metadata": {},
   "source": [
    "Verifiquemos que el archivo `eicar.com.txt` quedó correctamente descargado con `ls`"
   ]
  },
  {
   "cell_type": "code",
   "execution_count": 5,
   "metadata": {},
   "outputs": [],
   "source": [
    "ls "
   ]
  },
  {
   "cell_type": "markdown",
   "metadata": {},
   "source": [
    "Realizaremos de nuevo el análisis de virus."
   ]
  },
  {
   "cell_type": "code",
   "execution_count": 5,
   "metadata": {},
   "outputs": [],
   "source": [
    "clamscan --database=$HOME/Resources/Linux_Terminal_Master/U4/firmasdevirus.cvd -r --remove ."
   ]
  },
  {
   "cell_type": "markdown",
   "metadata": {},
   "source": [
    "En esta ejecución podrán ver que aparece `FOUND` y posteriormente `removed` en el archivo eicar.com.txt, lo que significa que el virus fue encontrado y eliminado correctamente."
   ]
  },
  {
   "cell_type": "markdown",
   "metadata": {},
   "source": [
    "# df"
   ]
  },
  {
   "cell_type": "markdown",
   "metadata": {},
   "source": [
    "El comando `df` (disk file system) nos permite analizar el uso de disco en el sistema de archivos\n",
    "\n",
    "Uso:\n",
    "\n",
    "`df -h` Permite ver la salida en `human readable`, es decir kb, mb, gb, etc."
   ]
  },
  {
   "cell_type": "markdown",
   "metadata": {},
   "source": [
    "La siguiente salida permitirá ver las particiones, sus puntos de montaje, además de su espacio usado, total y disponible."
   ]
  },
  {
   "cell_type": "code",
   "execution_count": 5,
   "metadata": {},
   "outputs": [],
   "source": [
    "df -h"
   ]
  },
  {
   "cell_type": "markdown",
   "metadata": {},
   "source": [
    "# du"
   ]
  },
  {
   "cell_type": "markdown",
   "metadata": {},
   "source": [
    "El comando `du` (disk usage) nos permite analizar el uso de disco de un archivo o directorio,\n",
    "\n",
    "Uso:\n",
    "\n",
    "`du -h` Permite ver la salida en `human readable`, es decir kb, mb, gb, etc.\n",
    "`du -s` Permite ver la salida resumida `summarize`.\n",
    "`du -c` Produce un gran total\n",
    "`du -a` Incluye todos los archivos y directorios"
   ]
  },
  {
   "cell_type": "markdown",
   "metadata": {},
   "source": [
    "La siguiente salida permitirá ver el tamaño del directorio `/etc`"
   ]
  },
  {
   "cell_type": "code",
   "execution_count": null,
   "metadata": {},
   "outputs": [],
   "source": [
    "du -a /etc"
   ]
  },
  {
   "cell_type": "markdown",
   "metadata": {},
   "source": [
    "Cómo pueden ver es una salida larga y desordenada, para resolver el orden, el comando `sort` nos permite organizar la salida de un comando, si le aplicamos el flag `-n` (number) y `-r` (reverse), podremos ver los archivos y directorios más pesados primero y los más livianos después, veamosló en acción."
   ]
  },
  {
   "cell_type": "code",
   "execution_count": 5,
   "metadata": {},
   "outputs": [],
   "source": [
    "du -a /etc | sort -n -r"
   ]
  },
  {
   "cell_type": "markdown",
   "metadata": {},
   "source": [
    "Ahora la salida está ordenada, sin embargo sigue siendo larga, para ello el comando `head` nos permite obtener la \"cabeza\" de la salida de un archivo, en este caso si solo queremos las 10 primeras líneas de una salida ejecutamos lo siguiente `head -n 10`, así obtendremos los archivos y/o directorios más pesados."
   ]
  },
  {
   "cell_type": "code",
   "execution_count": 5,
   "metadata": {},
   "outputs": [],
   "source": [
    "du -a /etc | sort -n -r | head -n 10"
   ]
  },
  {
   "cell_type": "markdown",
   "metadata": {},
   "source": [
    "La siguiente línea ejecutará un script que generará unos directorios aleatorios en la carpeta `/tmp/U4` y en uno de ellos creará un archivo muy pesado."
   ]
  },
  {
   "cell_type": "code",
   "execution_count": 5,
   "metadata": {},
   "outputs": [],
   "source": [
    "sh $HOME/Scripts/Linux_Terminal_Master/U4/CF_genera_archivo_pesado.sh"
   ]
  },
  {
   "cell_type": "markdown",
   "metadata": {},
   "source": [
    "La siguiente ejecución está vacía para que crees un comando que identifique ese archivo pesado creado a partir del script."
   ]
  },
  {
   "cell_type": "code",
   "execution_count": null,
   "metadata": {},
   "outputs": [],
   "source": []
  },
  {
   "cell_type": "markdown",
   "metadata": {},
   "source": [
    "La siguiente ejecución está vacía para que crees un comando que te permita con du, identificar el tamaño en GB de dicho archivo."
   ]
  },
  {
   "cell_type": "code",
   "execution_count": null,
   "metadata": {},
   "outputs": [],
   "source": []
  },
  {
   "cell_type": "markdown",
   "metadata": {},
   "source": [
    "# ps"
   ]
  },
  {
   "cell_type": "markdown",
   "metadata": {},
   "source": [
    "El comando `ps` (process state) permite ver toda la información de los procesos del sistema. La información puede incluir el ID del proceso o PID (el cual es un identificador único del proceso), el usuario y el grupo al que pertenece, el estado de ejecución y si se inició desde un terminal.\n",
    "\n",
    "Uso:\n",
    "\n",
    "`ps -e` Permite ver todos los procesos utilizando la sintaxis estandar\n",
    "`ps -a` Permite ver todos los procesos utilizando la sintaxis de BSD\n",
    "`ps -u` Permite ver los usuarios que están utilizando cada proceso\n",
    "`ps -x` Imprime dichos procesos en formato de registro"
   ]
  },
  {
   "cell_type": "markdown",
   "metadata": {},
   "source": [
    "La siguiente ejecución permitirá listar los procesos del sistema en pantalla por usuario y en formato de registro"
   ]
  },
  {
   "cell_type": "code",
   "execution_count": null,
   "metadata": {},
   "outputs": [],
   "source": [
    "ps aux"
   ]
  },
  {
   "cell_type": "markdown",
   "metadata": {},
   "source": [
    "Recuerda que puedes utilizar el comando `grep` para filtrar por nombres de proceso o PID."
   ]
  },
  {
   "cell_type": "markdown",
   "metadata": {},
   "source": [
    "# top"
   ]
  },
  {
   "cell_type": "markdown",
   "metadata": {},
   "source": [
    "Similar al comando ps, sin embargo imprime de una forma más cómoda en pantalla dicha información además de ser en tiempo real. (Por limitantes de Jupyter y Binder no es posible mostrarles su funcionamiento)\n",
    "\n",
    "Uso:\n",
    "\n",
    "`top` ejecuta el programa.\n",
    "`q` permite salir de su ejecución."
   ]
  },
  {
   "cell_type": "markdown",
   "metadata": {},
   "source": [
    "# kill y killall"
   ]
  },
  {
   "cell_type": "markdown",
   "metadata": {},
   "source": [
    "El comando `kill` permite matar un proceso utilizando el PID del proceso, el comando `killall` por su parte, permite matar un proceso por su nombre. Con kill es posible determinar el tipo de \"muerte\" o `SIGNAL` que se le quiere dar al programa:\n",
    "\n",
    "SIGNAL\n",
    "\n",
    "Nombre de señal: SIGHUP\n",
    "Valor: 1\n",
    "Efecto: Cuelga el proceso\n",
    "\n",
    "Nombre de señal: SIGINT\n",
    "Valor: 2\n",
    "Efecto: Interrupción del teclado\n",
    "\n",
    "Nombre de señal: SIGKILL\n",
    "Valor: 9\n",
    "Efecto: Matado definitivo\n",
    "\n",
    "Nombre de señal: SIGTERM\n",
    "Valor: 15 \n",
    "Efecto: Envío de señal de terminado\n",
    "\n",
    "Nombre de señal: SIGSTOP\n",
    "Valor: 17, 19, 23\n",
    "Efecto: Detiene el proceso\n",
    "\n",
    "Uso de kill:\n",
    "\n",
    "`kill -SIGNAL PID` \n",
    "\n",
    "El signal más comúnmente utilizado es el 9 debido a que envía la orden de detención inmediata sin condiciones al programa."
   ]
  },
  {
   "cell_type": "markdown",
   "metadata": {},
   "source": [
    "La siguiente ejecución lanzará un programa llamado `stress` el cual consumirá un alto número de memoria RAM en el sistema:"
   ]
  },
  {
   "cell_type": "code",
   "execution_count": null,
   "metadata": {},
   "outputs": [],
   "source": [
    "sh $HOME/Scripts/Linux_Terminal_Master/U4/CF_consume_50%_de_RAM.sh"
   ]
  },
  {
   "cell_type": "markdown",
   "metadata": {},
   "source": [
    "En el siguiente espacio en blanco deberás validar el PID de dicho proceso con `ps aux` y matarlo ejecutando los comandos `kill` y `killall` (repite las ejecuciones anteriores las veces que sea necesarias para poder validar cuando matas el proceso y para que valides los PID). "
   ]
  },
  {
   "cell_type": "code",
   "execution_count": null,
   "metadata": {},
   "outputs": [],
   "source": []
  },
  {
   "cell_type": "markdown",
   "metadata": {},
   "source": [
    "# netstat"
   ]
  },
  {
   "cell_type": "markdown",
   "metadata": {},
   "source": [
    "El comando `netstat` permite conocer información relacionada con nuestra red, las conexiones activas tanto de salida como de entrada, el protocolo que utilizan, las tablas de ruteo, estadísticas de interfaces, estado de conexión y demás. \n",
    "\n",
    "Su uso es:\n",
    "`netstat -a` Muestra todas las conexiones\n",
    "`netstat -t` Muestra todas las conexiones TCP\n",
    "`netstat -u` Muestra todas las conexiones UDP\n",
    "`netstat -n` Muestra todas las direcciones numéricas\n",
    "`netstat -p` Muestra los PID del programa que está usando el puerto"
   ]
  },
  {
   "cell_type": "markdown",
   "metadata": {},
   "source": [
    "La siguiente ejecución de netstat permitirá ver los programas que usan protocolo TCP y demás información relacionada."
   ]
  },
  {
   "cell_type": "code",
   "execution_count": 5,
   "metadata": {},
   "outputs": [],
   "source": [
    "netstat -tanp"
   ]
  },
  {
   "cell_type": "markdown",
   "metadata": {},
   "source": [
    "Recuerda que puedes aplicar filtros de `grep` como por ejemplo `grep LISTEN` para identificar solo los puertos que están escuchando."
   ]
  },
  {
   "cell_type": "code",
   "execution_count": 5,
   "metadata": {},
   "outputs": [],
   "source": [
    "netstat -tanp | grep LISTEN"
   ]
  },
  {
   "cell_type": "markdown",
   "metadata": {},
   "source": [
    "La siguiente ejecución lanzará un servidor http en un puerto aleatorio deberás identificar el puerto."
   ]
  },
  {
   "cell_type": "code",
   "execution_count": null,
   "metadata": {},
   "outputs": [],
   "source": [
    "sh $HOME/Scripts/Linux_Terminal_Master/U4/CF_ejecuta_http_aleatorio.sh"
   ]
  },
  {
   "cell_type": "markdown",
   "metadata": {},
   "source": [
    "Una vez lo identifiques recuerda que puedes utilizar el comando `kill` para detener su ejecución."
   ]
  },
  {
   "cell_type": "markdown",
   "metadata": {},
   "source": [
    "# Otros comandos útiles (free, lsof y last)"
   ]
  },
  {
   "cell_type": "markdown",
   "metadata": {},
   "source": [
    "El comando `free` nos permitirá entender mejor el uso de RAM"
   ]
  },
  {
   "cell_type": "markdown",
   "metadata": {},
   "source": [
    "Ejemplo:"
   ]
  },
  {
   "cell_type": "code",
   "execution_count": 5,
   "metadata": {},
   "outputs": [],
   "source": [
    "free"
   ]
  },
  {
   "cell_type": "markdown",
   "metadata": {},
   "source": [
    "El comando `lsof` lista los ficheros abiertos en el sistema, por ejemplo, que ficheros mantiene abiertos un determinado proceso (PID) o usuario e información adicional como el puerto utilizado por dichos servicios/ficheros, sockets en uso, etc.\n",
    "\n",
    "\n",
    "comando `free` nos permitirá entender mejor el uso de RAM"
   ]
  },
  {
   "cell_type": "markdown",
   "metadata": {},
   "source": [
    "La siguiente ejecución listará las condiciones de error y warning de dmesg, pero solo mostrará las primeras 2 líneas de dicha salida redirigiendola a `head`:"
   ]
  },
  {
   "cell_type": "code",
   "execution_count": 5,
   "metadata": {},
   "outputs": [],
   "source": [
    "dmesg --level=warn,error | head -n2"
   ]
  }
 ],
 "metadata": {
  "kernelspec": {
   "display_name": "Bash",
   "language": "bash",
   "name": "bash"
  },
  "language_info": {
   "codemirror_mode": "shell",
   "file_extension": ".sh",
   "mimetype": "text/x-sh",
   "name": "bash"
  }
 },
 "nbformat": 4,
 "nbformat_minor": 2
}
