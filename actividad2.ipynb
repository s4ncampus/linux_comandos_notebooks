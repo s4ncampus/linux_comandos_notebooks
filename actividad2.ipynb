{
 "cells": [
  {
   "cell_type": "markdown",
   "metadata": {},
   "source": [
    "# Los comandos básicos de Linux - Manipulación de archivos y carpetas II"
   ]
  },
  {
   "cell_type": "markdown",
   "metadata": {},
   "source": [
    "![title](binder/img/G_Med_Gym.png)"
   ]
  },
  {
   "cell_type": "markdown",
   "metadata": {},
   "source": [
    "Vamos a practicar nuevos comandos utilizando la misma dinámica de la actividad anterior. Seguiremos haciendo uso de las ___*cajas de comanos*___.\n",
    "\n",
    "Recuerda!\n",
    "\n",
    "Algunas vendrán llenas con comandos u otras vacías para que pongas el comando que quieras.\n",
    "\n",
    "¡Comencemos!"
   ]
  },
  {
   "cell_type": "markdown",
   "metadata": {},
   "source": [
    "![title](binder/img/L_Docker_U1_reto.jpeg)"
   ]
  },
  {
   "cell_type": "markdown",
   "metadata": {},
   "source": [
    "***"
   ]
  },
  {
   "cell_type": "markdown",
   "metadata": {},
   "source": [
    "# <font color='#47bbca'><left>Preparemos el escenario:</left></font>"
   ]
  },
  {
   "cell_type": "markdown",
   "metadata": {},
   "source": [
    "En las siguientes cajas de texto deberás introducir algunos de los comandos aprendidos anteriormente."
   ]
  },
  {
   "cell_type": "markdown",
   "metadata": {},
   "source": [
    "1. Ejecuta un comando para validar en que carpeta estás:"
   ]
  },
  {
   "cell_type": "code",
   "execution_count": null,
   "metadata": {},
   "outputs": [],
   "source": []
  },
  {
   "cell_type": "markdown",
   "metadata": {},
   "source": [
    "2. Ahora ejecuta un comando para listar lo que hay en dicha carpeta:"
   ]
  },
  {
   "cell_type": "code",
   "execution_count": null,
   "metadata": {},
   "outputs": [],
   "source": []
  },
  {
   "cell_type": "markdown",
   "metadata": {},
   "source": [
    "3. Luego ejecuta un comando para crear un directorio llamado `directorio3` y otro llamado `directorio4`:"
   ]
  },
  {
   "cell_type": "code",
   "execution_count": null,
   "metadata": {},
   "outputs": [],
   "source": []
  },
  {
   "cell_type": "markdown",
   "metadata": {},
   "source": [
    "4. Finalmente ejecuta un comando para validar que los directorios `directorio3` y `directorio4` se crearon correctamente:"
   ]
  },
  {
   "cell_type": "code",
   "execution_count": null,
   "metadata": {},
   "outputs": [],
   "source": []
  },
  {
   "cell_type": "markdown",
   "metadata": {},
   "source": [
    "Para concluir deberías entonces tener dos directorios creados `directorio3` y `directorio4`. Si no lo pudiste hacer puedes ver la actividad anterior para poder entender que comandos te serían de utilidad."
   ]
  },
  {
   "cell_type": "markdown",
   "metadata": {},
   "source": [
    "# <font color='#47bbca'><left>Actividad 1/5</left></font>"
   ]
  },
  {
   "cell_type": "markdown",
   "metadata": {},
   "source": [
    "Ejecuta el siguiente comando pero reemplazando los valores que tienen `${USER}`, por el nombre del directorio de usuario que viste en la ejecución anterior para que quede algo como `/home/NOMBREDEUSUARIO/dir...`"
   ]
  },
  {
   "cell_type": "code",
   "execution_count": null,
   "metadata": {},
   "outputs": [],
   "source": [
    "cd /home/${USER}/directorio3/"
   ]
  },
  {
   "cell_type": "markdown",
   "metadata": {},
   "source": [
    "# <font color='#47bbca'><left>¿Qué acabas de hacer?</left></font>\n",
    "<img src=\"binder/img/L_Docker_U1_pensando.gif\" alt=\"Drawing\" style=\"width: 200px;\" align=\"left\"/>"
   ]
  },
  {
   "cell_type": "markdown",
   "metadata": {},
   "source": [
    "__*El comando `cd`:*__\n",
    "\n",
    "(abreviación de \"change directory\") este comando sirve para moverte entre directorios"
   ]
  },
  {
   "cell_type": "markdown",
   "metadata": {},
   "source": [
    "La anterior ejecución de el comando `cd` te permitió moverte hacia el directorio `/home/${USER}/directorio3/`, valida a continuación con el comando `pwd` que estás en una nueva ruta."
   ]
  },
  {
   "cell_type": "code",
   "execution_count": null,
   "metadata": {},
   "outputs": [],
   "source": [
    "pwd"
   ]
  },
  {
   "cell_type": "markdown",
   "metadata": {},
   "source": [
    "Como puedes ver, ahora estás en el directorio `directorio3/`, con el comando `cd` puedes:\n",
    "\n",
    "  * Moverte utilizando rutas absolutas o relativas por ejemplo si estás en `/home/${USER}/` y quieres moverte a `directorio1` puedes utilizar:"
   ]
  },
  {
   "cell_type": "markdown",
   "metadata": {},
   "source": [
    "    * Rutas absolutas: `cd /home/${USER}/directorio3/` (importante que siempre que uses rutas absolutas antepongas la raíz`/`).\n",
    "    * Rutas relativas: `cd directorio3` (esto debido a que ya estás dentro de `/home/${USER}/` asi que solo te moverás un espacio hacia adelante.\n",
    "    * Utilizar atajos, por ejemplo:\n",
    "    * Moverte un directorio hacia atras: `cd ..`\n",
    "    * Moverte dos o más directorios hacia atrás: `cd ../../` (tantos ../ como directorios desees moverte)."
   ]
  },
  {
   "cell_type": "markdown",
   "metadata": {},
   "source": [
    "***"
   ]
  },
  {
   "cell_type": "markdown",
   "metadata": {},
   "source": [
    "# <font color='#47bbca'><left>Actividad 2/5</left></font>"
   ]
  },
  {
   "cell_type": "markdown",
   "metadata": {},
   "source": [
    "Ejecuta el siguiente comando pero reemplazando los valores que tienen `${USER}`, por el nombre del directorio de usuario, (en este caso la respuesta será especial, no te asustes):"
   ]
  },
  {
   "cell_type": "code",
   "execution_count": null,
   "metadata": {},
   "outputs": [],
   "source": [
    "rmdir /home/${USER}/directorio2/"
   ]
  },
  {
   "cell_type": "markdown",
   "metadata": {},
   "source": [
    "# <font color='#47bbca'><left>¿Qué acabas de hacer?</left></font>\n",
    "<img src=\"binder/img/L_Docker_U1_pensando.gif\" alt=\"Drawing\" style=\"width: 200px;\" align=\"left\"/>"
   ]
  },
  {
   "cell_type": "markdown",
   "metadata": {},
   "source": [
    "La anterior ejecución de `rmdir` intentará eliminar el contenido del directorio `directorio2` sin embargo fallará debido a que ese directorio no está vacío. Por ello ejecuta el siguiente comando:"
   ]
  },
  {
   "cell_type": "code",
   "execution_count": null,
   "metadata": {},
   "outputs": [],
   "source": [
    "rm -rf /home/${USER}/directorio2/"
   ]
  },
  {
   "cell_type": "markdown",
   "metadata": {},
   "source": [
    "Esta ejecución en cambio, con el comando `rm` y el flag `-rf` sí te permitirá eliminar el `directorio2` y todo su contenido."
   ]
  },
  {
   "cell_type": "markdown",
   "metadata": {},
   "source": [
    "Puedes validar que el directorio fue borrado con el comando `ls`."
   ]
  },
  {
   "cell_type": "code",
   "execution_count": null,
   "metadata": {},
   "outputs": [],
   "source": [
    "ls /home/${USER}/"
   ]
  },
  {
   "cell_type": "markdown",
   "metadata": {},
   "source": [
    "__*El comando `rm`*__ (abreviación de \"remove\"), y el comando __*`rmdir`*__(abreviación de \"remove directory\"  menos utilizado) __*:*__ \n",
    "\n",
    "Son comandos eliminar archivos o directorios:\n",
    "\n",
    "  * Se ejecuta simplemente `rm` borrar un solo archivo `rm /ruta/al/archivo/a/borrar/`\n",
    "  * Se ejecuta `rmdir` para borrar directorios vacíos `rmdir /ruta/al/directorio/vacio/`\n",
    "  * Con `rm` se ejecuta la flag `-f` que permite omitir la confirmación (forzar el borrado)\n",
    "  * Con `rm` se ejecuta la flag `-r` para poder borrar directorios con contenido en su interior (recursivamente)\n",
    "  * Dados los ejemplos anteriores con `rm` podríamos borrar un directorio con contenido de manera recursiva y forzada así `rm -rf /ruta/al/directorio/con/contenido/a/borrar/`"
   ]
  },
  {
   "cell_type": "markdown",
   "metadata": {},
   "source": [
    "***"
   ]
  },
  {
   "cell_type": "markdown",
   "metadata": {},
   "source": [
    "# <font color='#47bbca'><left>Actividad 3/5</left></font>"
   ]
  },
  {
   "cell_type": "markdown",
   "metadata": {},
   "source": [
    "Los siguientes dos comandos son bastante largos, ejecutalos uno a uno y recuerda reemplazar `${USER}` donde sea necesario:"
   ]
  },
  {
   "cell_type": "markdown",
   "metadata": {},
   "source": [
    "Comando 1:"
   ]
  },
  {
   "cell_type": "code",
   "execution_count": null,
   "metadata": {},
   "outputs": [],
   "source": [
    "wget https://file-examples.com/wp-content/uploads/2017/11/file_example_MP3_700KB.mp3 -O /home/${USER}/directorio1/archivodeaudio.mp3"
   ]
  },
  {
   "cell_type": "markdown",
   "metadata": {},
   "source": [
    "Comando 2:"
   ]
  },
  {
   "cell_type": "code",
   "execution_count": null,
   "metadata": {},
   "outputs": [],
   "source": [
    "curl https://raw.githubusercontent.com/s4ncampus/linux_comandos_notebooks/8a95cfebec8f064951ad04d59f8e6b31b699fd89/README.md"
   ]
  },
  {
   "cell_type": "markdown",
   "metadata": {},
   "source": [
    "# <font color='#47bbca'><left>¿Qué acabas de hacer?</left></font>\n",
    "<img src=\"binder/img/L_Docker_U1_pensando.gif\" alt=\"Drawing\" style=\"width: 200px;\" align=\"left\"/>"
   ]
  },
  {
   "cell_type": "markdown",
   "metadata": {},
   "source": [
    "__*El comando `wget`*__ (abreviación de \"world wide web get\")\n",
    "\n",
    "Es una herramienta que permite obtener recursos de internet.\n",
    "\n",
    "__*El comando `curl`*__ (abreviación de \"client for URL's\")\n",
    "\n",
    "Es una poderosa herramienta que te permite transferir datos utilizando diferentes protocolos. "
   ]
  },
  {
   "cell_type": "markdown",
   "metadata": {},
   "source": [
    "La anterior ejecución de `wget` te permitió descargar un archivo de mp3 de ejemplo de un sitio web (`https://file-examples.com/...`), y guardarlo en la ruta `/home/${USER}/directorio1/` con el nombre `archivodeaudio.mp3`.\n",
    "\n",
    "El comando `curl` por su parte te permitió mostrar en pantalla un query al sitio web  (`https://raw.githubusercontent.com/s4ncampus/...`)"
   ]
  },
  {
   "cell_type": "markdown",
   "metadata": {},
   "source": [
    "Como pudiste ver ambos hacen consultas a internet, simplemente ten en cuenta que:\n",
    "\n",
    "  * Se ejecuta `curl` y el sitio web objetivo para hacer consultas como GET o POST (es una completísima herramienta) `curl https://google.com/`\n",
    "  * Se ejecuta `wget` y el recurso en línea objetivo para hacer una descarga de archivo `wget https://sitio.web/archivoadescargar.txt`\n",
    "  * Se puede añadir el flag `-O` a `wget` para definir en donde se almacenará el recurso descargado."
   ]
  },
  {
   "cell_type": "markdown",
   "metadata": {},
   "source": [
    "Puedes validar que el archivo fue creado con el comando `ls`."
   ]
  },
  {
   "cell_type": "code",
   "execution_count": null,
   "metadata": {},
   "outputs": [],
   "source": [
    "ls /home/${USER}/directorio1/"
   ]
  },
  {
   "cell_type": "markdown",
   "metadata": {},
   "source": [
    "***"
   ]
  },
  {
   "cell_type": "markdown",
   "metadata": {},
   "source": [
    "# <font color='#47bbca'><left>Actividad 4/5</left></font>"
   ]
  },
  {
   "cell_type": "markdown",
   "metadata": {},
   "source": [
    "Ejecuta el siguiente comando, no olvides reemplazar `${USER}`:"
   ]
  },
  {
   "cell_type": "code",
   "execution_count": null,
   "metadata": {},
   "outputs": [],
   "source": [
    "ln /home/${USER}/directorio1/archivodeaudio.mp3 /home/${USER}/archivodeaudio.mp3"
   ]
  },
  {
   "cell_type": "markdown",
   "metadata": {},
   "source": [
    "# <font color='#47bbca'><left>¿Qué acabas de hacer?</left></font>\n",
    "<img src=\"binder/img/L_Docker_U1_pensando.gif\" alt=\"Drawing\" style=\"width: 200px;\" align=\"left\"/>"
   ]
  },
  {
   "cell_type": "markdown",
   "metadata": {},
   "source": [
    "__*El comando `ln`*__ (abreviación de \"link\")\n",
    "\n",
    "Crea enlaces simbólicos de archivos en Linux, los enlaces simbólicos son una especie de \"accesos directos\" (aunque no es la definición más acertada ya que son realmente apuntadores lógicos) de recursos en Linux, por ejemplo, binarios.\n",
    "\n",
    " "
   ]
  },
  {
   "cell_type": "markdown",
   "metadata": {},
   "source": [
    "La anterior ejecución te permitió crear un enlace simbólico del archivo de audio `archivodeaudio` ubicado en `/home/${USER}/directorio1/` en el directorio `/home/${USER}/`."
   ]
  },
  {
   "cell_type": "markdown",
   "metadata": {},
   "source": [
    "Puedes validar que el enlace simbólico fue creado con el comando `ls`."
   ]
  },
  {
   "cell_type": "code",
   "execution_count": null,
   "metadata": {},
   "outputs": [],
   "source": [
    "ls /home/${USER}"
   ]
  },
  {
   "cell_type": "markdown",
   "metadata": {},
   "source": [
    "Ahora ejecuta el siguiente comando, no olvides reemplazar `${USER}`:"
   ]
  },
  {
   "cell_type": "code",
   "execution_count": null,
   "metadata": {},
   "outputs": [],
   "source": [
    "ln /home/${USER}/directorio1/archivodeaudio.mp3 /home/${USER}/archivodeaudio-nuevo.mp3"
   ]
  },
  {
   "cell_type": "markdown",
   "metadata": {},
   "source": [
    "Validamos el nuevo enlace simbólico."
   ]
  },
  {
   "cell_type": "code",
   "execution_count": null,
   "metadata": {},
   "outputs": [],
   "source": [
    "ls /home/${USER}"
   ]
  },
  {
   "cell_type": "markdown",
   "metadata": {},
   "source": [
    "# <font color='#47bbca'><left>¿Qué acabas de hacer?</left></font>\n",
    "<img src=\"binder/img/L_Docker_U1_pensando.gif\" alt=\"Drawing\" style=\"width: 200px;\" align=\"left\"/>"
   ]
  },
  {
   "cell_type": "markdown",
   "metadata": {},
   "source": [
    "Vamos ahora a ejecutar de nuevo el comando anterior para tratar de sobreescribir el enlace simbolico, (en este caso la respuesta será especial, no te asustes):"
   ]
  },
  {
   "cell_type": "code",
   "execution_count": null,
   "metadata": {},
   "outputs": [],
   "source": [
    "ln /home/${USER}/directorio1/archivodeaudio.mp3 /home/${USER}/archivodeaudio-nuevo.mp3"
   ]
  },
  {
   "cell_type": "markdown",
   "metadata": {},
   "source": [
    "# <font color='#47bbca'><left>¿Qué acabas de hacer?</left></font>\n",
    "<img src=\"binder/img/L_Docker_U1_pensando.gif\" alt=\"Drawing\" style=\"width: 200px;\" align=\"left\"/>"
   ]
  },
  {
   "cell_type": "markdown",
   "metadata": {},
   "source": [
    "Como viste ha fallado debido a que no es posible sobreescribirlo, ahora ejecutemoslo de nuevo pero con un flag especial:"
   ]
  },
  {
   "cell_type": "code",
   "execution_count": null,
   "metadata": {},
   "outputs": [],
   "source": [
    "ln -f /home/${USER}/directorio1/archivodeaudio.mp3 /home/${USER}/archivodeaudio-nuevo.mp3"
   ]
  },
  {
   "cell_type": "markdown",
   "metadata": {},
   "source": [
    "# <font color='#47bbca'><left>¿Qué acabas de hacer?</left></font>\n",
    "<img src=\"binder/img/L_Docker_U1_pensando.gif\" alt=\"Drawing\" style=\"width: 200px;\" align=\"left\"/>"
   ]
  },
  {
   "cell_type": "markdown",
   "metadata": {},
   "source": [
    "Como puedes ver el flag `-f` fuerza su ejecución, es decir, sobreescribe el archivo."
   ]
  },
  {
   "cell_type": "markdown",
   "metadata": {},
   "source": [
    "# <font color=\"#47bbca\">¡Recuerda!</font>\n",
    "<img src=\"binder/img/L_Docker_U1_recuerda.png\" alt=\"Drawing\" style=\"width: 200px;\" align=\"left\"/>"
   ]
  },
  {
   "cell_type": "markdown",
   "metadata": {},
   "source": [
    "Como puedes ver, es posible ejecutar el comando para un enlace simbólico con un nombre diferente, el comando `ln` entonces: \n",
    "\n",
    "* Se utiliza `ln origen destino`\n",
    "* Se utilizan diferentes flags como `-f` para forzar en caso de falla o `-b` para conservar el nombre original.\n",
    "\n",
    " "
   ]
  },
  {
   "cell_type": "markdown",
   "metadata": {},
   "source": [
    "***"
   ]
  },
  {
   "cell_type": "markdown",
   "metadata": {},
   "source": [
    "# <font color='#47bbca'><left>Actividad 5/5</left></font>"
   ]
  },
  {
   "cell_type": "markdown",
   "metadata": {},
   "source": [
    "Ejecuta el siguiente comando, no olvides reemplazar `${USER}`:"
   ]
  },
  {
   "cell_type": "code",
   "execution_count": null,
   "metadata": {},
   "outputs": [],
   "source": [
    "find /home/${USER}/ --iname \"*.mp3\""
   ]
  },
  {
   "cell_type": "markdown",
   "metadata": {},
   "source": [
    "# <font color='#47bbca'><left>¿Qué acabas de hacer?</left></font>\n",
    "<img src=\"binder/img/L_Docker_U1_pensando.gif\" alt=\"Drawing\" style=\"width: 200px;\" align=\"left\"/>"
   ]
  },
  {
   "cell_type": "markdown",
   "metadata": {},
   "source": [
    "__*El comando `find`*__ te permite buscar archivos y/o directorios.\n"
   ]
  },
  {
   "cell_type": "markdown",
   "metadata": {},
   "source": [
    "La anterior ejecución te permite buscar todos los archivos `.mp3` del directorio `/home/${USER}/`, en este caso deberías poder ver la ubicación de `archivodeaudio.mp3` el cual descargamos en con `wget`"
   ]
  },
  {
   "cell_type": "markdown",
   "metadata": {},
   "source": [
    "El comando find:\n",
    "\n",
    "* Se utiliza `find ruta opciones patron`.\n",
    "* Se pueden utilizar wildcards por ejemplo *.txt permitirá buscar todos los archivos.txt\n",
    "* Se pueden utilizar flags como `--name` para buscar el nombre exacto o `-iname` para buscar el nombre exacto sin importar si son mayúsculas o minúsculas."
   ]
  },
  {
   "cell_type": "markdown",
   "metadata": {},
   "source": [
    "# <font color=\"#47bbca\"><left>¿Te gustó la actividad?</left></font>"
   ]
  },
  {
   "cell_type": "markdown",
   "metadata": {},
   "source": [
    "Acabas de aprender algunos de los comandos más importantes para iniciar en el mundo de Linux y Unix, solo para que los recuerdes son:\n",
    "\n",
    "  * ___`cd`:___ Cambia entre directorios\n",
    "  * ___`rm`:___ Borra archivos o directorios, incluso de manera recursiva\n",
    "  * ___`rmdir`:___ Borra directorios vacíos\n",
    "  * ___`wget`:___ Descarga archivos de internet\n",
    "  * ___`curl`:___ Permite hacer queries a sitios web\n",
    "  * ___`ln`:___ Crea enlaces simbólicos\n",
    "  * ___`find`:___ Permite buscar archivos en el sistema\n",
    "\n",
    "\n",
    "Ahora volvamos a campus donde podremos ver un video de algunos de estos comandos en acción, [presiona click en este enlace para continuar con la siguiente actividad](https://campus.s4n.co/courses/course-v1:S4N+LIN02+2020_01/course/)"
   ]
  }
 ],
 "metadata": {
  "kernelspec": {
   "display_name": "Calysto Bash",
   "language": "bash",
   "name": "calysto_bash"
  },
  "language_info": {
   "file_extension": ".sh",
   "help_links": [
    {
     "text": "MetaKernel Magics",
     "url": "https://metakernel.readthedocs.io/en/latest/source/README.html"
    }
   ],
   "mimetype": "text/x-sh",
   "name": "bash",
   "version": "0.2.2"
  }
 },
 "nbformat": 4,
 "nbformat_minor": 2
}
