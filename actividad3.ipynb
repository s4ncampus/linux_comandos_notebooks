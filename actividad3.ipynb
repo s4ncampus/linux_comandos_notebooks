{
 "cells": [
  {
   "cell_type": "markdown",
   "metadata": {},
   "source": [
    "# Los comandos básicos de Linux - Manipulación de archivos y carpetas III"
   ]
  },
  {
   "cell_type": "markdown",
   "metadata": {},
   "source": [
    "![title](binder/img/G_Med_Gym.png)"
   ]
  },
  {
   "cell_type": "markdown",
   "metadata": {},
   "source": [
    "Vamos a practicar nuevos comandos utilizando la misma dinámica de la actividad anterior. Seguiremos haciendo uso de las ___*cajas de comanos*___.\n",
    "\n",
    "Recuerda!\n",
    "\n",
    "Algunas vendrán llenas con comandos u otras vacías para que pongas el comando que quieras.\n",
    "\n",
    "¡Comencemos!"
   ]
  },
  {
   "cell_type": "markdown",
   "metadata": {},
   "source": [
    "![title](binder/img/L_Docker_U1_reto.jpeg)"
   ]
  },
  {
   "cell_type": "markdown",
   "metadata": {},
   "source": [
    "***"
   ]
  },
  {
   "cell_type": "markdown",
   "metadata": {},
   "source": [
    "# <font color='#47bbca'><left>Preparemos el escenario:</left></font>"
   ]
  },
  {
   "cell_type": "markdown",
   "metadata": {},
   "source": [
    "En las siguientes cajas de texto deberás introducir algunos de los comandos aprendidos anteriormente."
   ]
  },
  {
   "cell_type": "markdown",
   "metadata": {},
   "source": [
    "1. Ejecuta un comando para validar en que carpeta estás:"
   ]
  },
  {
   "cell_type": "code",
   "execution_count": null,
   "metadata": {},
   "outputs": [],
   "source": []
  },
  {
   "cell_type": "markdown",
   "metadata": {},
   "source": [
    "2. Ahora ejecuta un comando para listar lo que hay en dicha carpeta:"
   ]
  },
  {
   "cell_type": "code",
   "execution_count": null,
   "metadata": {},
   "outputs": [],
   "source": []
  },
  {
   "cell_type": "markdown",
   "metadata": {},
   "source": [
    "3. Luego ejecuta un comando para crear un directorio llamado `logs`:"
   ]
  },
  {
   "cell_type": "code",
   "execution_count": null,
   "metadata": {},
   "outputs": [],
   "source": []
  },
  {
   "cell_type": "markdown",
   "metadata": {},
   "source": [
    "4. Ahora ejecuta un comando para moverte al directorio `logs`:"
   ]
  },
  {
   "cell_type": "code",
   "execution_count": null,
   "metadata": {},
   "outputs": [],
   "source": []
  },
  {
   "cell_type": "markdown",
   "metadata": {},
   "source": [
    "5. Finalmente valida que estás en el directorio `logs`:"
   ]
  },
  {
   "cell_type": "code",
   "execution_count": null,
   "metadata": {},
   "outputs": [],
   "source": []
  },
  {
   "cell_type": "markdown",
   "metadata": {},
   "source": [
    "***"
   ]
  },
  {
   "cell_type": "markdown",
   "metadata": {},
   "source": [
    "# <font color='#47bbca'><left>Actividad 1/5</left></font>"
   ]
  },
  {
   "cell_type": "markdown",
   "metadata": {},
   "source": [
    "Ejecuta el siguiente comando:"
   ]
  },
  {
   "cell_type": "code",
   "execution_count": null,
   "metadata": {},
   "outputs": [],
   "source": [
    "date"
   ]
  },
  {
   "cell_type": "markdown",
   "metadata": {},
   "source": [
    "# <font color='#47bbca'><left>¿Qué acabas de hacer?</left></font>\n",
    "<img src=\"binder/img/L_Docker_U1_pensando.gif\" alt=\"Drawing\" style=\"width: 200px;\" align=\"left\"/>"
   ]
  },
  {
   "cell_type": "markdown",
   "metadata": {},
   "source": [
    "Simplemente imprimiste la fecha y hora del sistema. Ahora prueba este:"
   ]
  },
  {
   "cell_type": "code",
   "execution_count": null,
   "metadata": {},
   "outputs": [],
   "source": [
    "date --date=\"1 month ago\""
   ]
  },
  {
   "cell_type": "markdown",
   "metadata": {},
   "source": [
    "Con este obtuviste el valor de la fecha y hora de hace un mes."
   ]
  },
  {
   "cell_type": "markdown",
   "metadata": {},
   "source": [
    "__*El comando `date`:*__\n",
    "\n",
    "Te dará entonces la hora y fecha del sistema, con este entonces puedes:\n",
    "\n",
    "\n",
    "  * Puedes utilizar cientos de formatos diferentes algunos ejemplos son:\n",
    "  ** `date +%Y-%m-%d` Te dará la fecha en este formato: 2020-08-02\n",
    "  ** `date +%D` Te dará la fecha en este formato:  08/02/20\n",
    "  ** `date --date=\"1 day ago\"` Te dará la fecha y hora de un día atrás. "
   ]
  },
  {
   "cell_type": "markdown",
   "metadata": {},
   "source": [
    "***"
   ]
  },
  {
   "cell_type": "markdown",
   "metadata": {},
   "source": [
    "# <font color='#47bbca'><left>Actividad 2/5</left></font>"
   ]
  },
  {
   "cell_type": "markdown",
   "metadata": {},
   "source": [
    "Ejecuta el siguiente comando reemplazando `${USER}`, por el nombre del directorio de usuario:"
   ]
  },
  {
   "cell_type": "code",
   "execution_count": null,
   "metadata": {},
   "outputs": [],
   "source": [
    "date > /home/${USER}/archivodeprueba.txt"
   ]
  },
  {
   "cell_type": "markdown",
   "metadata": {},
   "source": [
    "# <font color='#47bbca'><left>¿Qué acabas de hacer?</left></font>\n",
    "<img src=\"binder/img/L_Docker_U1_pensando.gif\" alt=\"Drawing\" style=\"width: 200px;\" align=\"left\"/>"
   ]
  },
  {
   "cell_type": "markdown",
   "metadata": {},
   "source": [
    "Ese simbolo especial __*\">\"*__ permite hacer una redirección simple, es decir, escribir la salida de un comando a la primera línea de un archivo, sobreescribiendo todo su contenido, incluso si este archivo no existe lo podrá crear, por ejemplo:\n",
    "\n",
    "`comando > archivo.txt`"
   ]
  },
  {
   "cell_type": "markdown",
   "metadata": {},
   "source": [
    "La anterior ejecución reenvia entonces, la salida del comando `date` a el archivo `archivodeprueba1.txt`, en otras palabras, en el archivo `archivodeprueba1.txt`, se creará con un texto con el contenido del output del comando `date`. Para validar que funcionó ejecuta el siguiente comando (lo veremos a fondo más adelante):"
   ]
  },
  {
   "cell_type": "code",
   "execution_count": null,
   "metadata": {},
   "outputs": [],
   "source": [
    "cat /home/${USER}/archivodeprueba1.txt"
   ]
  },
  {
   "cell_type": "markdown",
   "metadata": {},
   "source": [
    "Si todo sale bien, verás la fecha de hoy."
   ]
  },
  {
   "cell_type": "markdown",
   "metadata": {},
   "source": [
    "Para la siguiente actividad escribe en la siguiente caja de comandos un comando que copie el archvio `archivodeprueba1.txt` a un nuevo archivo llamado `archivodeprueba2.txt`"
   ]
  },
  {
   "cell_type": "code",
   "execution_count": 1,
   "metadata": {},
   "outputs": [],
   "source": [
    "man ls"
   ]
  },
  {
   "cell_type": "markdown",
   "metadata": {},
   "source": [
    "Ejecuta ahora el siguiente comando reemplazando `${USER}`, por el nombre del directorio de usuario:"
   ]
  },
  {
   "cell_type": "code",
   "execution_count": null,
   "metadata": {},
   "outputs": [],
   "source": [
    "date --date=\"1 month ago\" >> /home/${USER}/archivodeprueba2.txt"
   ]
  },
  {
   "cell_type": "markdown",
   "metadata": {},
   "source": [
    "# <font color='#47bbca'><left>¿Qué acabas de hacer?</left></font>\n",
    "<img src=\"binder/img/L_Docker_U1_pensando.gif\" alt=\"Drawing\" style=\"width: 200px;\" align=\"left\"/>"
   ]
  },
  {
   "cell_type": "markdown",
   "metadata": {},
   "source": [
    "Ese simbolo especial __*\">>\"*__ permite hacer una redirección doble, similar a la simple, sin embargo, no sobreescribirán el archivo, sino que enviarán la salida del comando a la última línea del mismo.\n",
    "\n",
    "`comando >> archivo.txt`"
   ]
  },
  {
   "cell_type": "markdown",
   "metadata": {},
   "source": [
    "La anterior ejecución reenvia entonces la salida del comando `date --date=\"1 month ago\"` (la fecha de hace un mes) a el archivo `archivodeprueba2.txt`, pero lo hará en una nueva línea del archivo, sin sobreescribir su contenido. Para validar que funcionó ejecuta el siguiente comando (lo veremos a fondo más adelante):"
   ]
  },
  {
   "cell_type": "code",
   "execution_count": null,
   "metadata": {},
   "outputs": [],
   "source": [
    "cat /home/${USER}/archivodeprueba2.txt"
   ]
  },
  {
   "cell_type": "markdown",
   "metadata": {},
   "source": [
    "Si todo sale bien, verás dos líneas de salida, una con la fecha de hoy y la segunda con la fecha de hace un mes. Ejecuta de nuevo la redirección doble pero con 6 meses atrás:"
   ]
  },
  {
   "cell_type": "code",
   "execution_count": null,
   "metadata": {},
   "outputs": [],
   "source": [
    "date --date=\"6 months ago\" >> /home/${USER}/archivodeprueba2.txt"
   ]
  },
  {
   "cell_type": "markdown",
   "metadata": {},
   "source": [
    "Una tercera línea se debe haber añadido con la fecha de hace 3 meses, validemoslo en la siguiente actividad."
   ]
  },
  {
   "cell_type": "markdown",
   "metadata": {},
   "source": [
    "***"
   ]
  },
  {
   "cell_type": "markdown",
   "metadata": {},
   "source": [
    "# <font color='#47bbca'><left>Actividad 3/5</left></font>"
   ]
  },
  {
   "cell_type": "markdown",
   "metadata": {},
   "source": [
    "De acuerdo a lo aprendido en la actividad anterior ejecuta un comando que te permita ver el contenido del archivo `archivodeprueba2.txt`"
   ]
  },
  {
   "cell_type": "code",
   "execution_count": null,
   "metadata": {},
   "outputs": [],
   "source": []
  },
  {
   "cell_type": "markdown",
   "metadata": {},
   "source": [
    "__*El comando `cat`:*__ En este caso asumimos que utilizaste el comando `cat` el cual como pudiste ver, te permitirá imprimir en pantalla el contenido de un archivo. \n",
    "\n",
    "* Se utiliza `cat archivo.txt`\n"
   ]
  },
  {
   "cell_type": "markdown",
   "metadata": {},
   "source": [
    "***"
   ]
  },
  {
   "cell_type": "markdown",
   "metadata": {},
   "source": [
    "# <font color='#47bbca'><left>Actividad 4/5</left></font>"
   ]
  },
  {
   "cell_type": "markdown",
   "metadata": {},
   "source": [
    "En el anterior comando debiste ver 3 líneas con fechas diferentes, elige uno de los 3 meses y en el siguiente comando reemplaza `${MES}` por cualquiera de esos 3, además reemplaza `${USER}`, por el nombre del directorio de usuario:"
   ]
  },
  {
   "cell_type": "code",
   "execution_count": null,
   "metadata": {},
   "outputs": [],
   "source": [
    "cat /home/${USER}/archivodeprueba2.txt | grep \"${MES}\""
   ]
  },
  {
   "cell_type": "markdown",
   "metadata": {},
   "source": [
    "# <font color='#47bbca'><left>¿Qué acabas de hacer?</left></font>\n",
    "<img src=\"binder/img/L_Docker_U1_pensando.gif\" alt=\"Drawing\" style=\"width: 200px;\" align=\"left\"/>"
   ]
  },
  {
   "cell_type": "markdown",
   "metadata": {},
   "source": [
    "Acabas de ver la ejecución de dos comandos al tiempo, el primero es `cat` y el segundo es `grep`. Ambos están separados por un simbolo especial __|__ este permite enviar la salida de un comando a otro por ejemplo, sabemos que con `cat` podemos ver el contenido del archivo `/home/${USER}/archivodeprueba2.txt` que ahora tiene en su interior algo como:\n",
    "\n",
    "`dom 09 ago 2020 12:51:56 -05`\n",
    "`dom 09 jul 2020 12:51:56 -05`\n",
    "`dom 09 feb 2020 12:51:56 -05`\n",
    "\n",
    "\n",
    "El comando `grep` por su parte sirve para hacer filtros, es decir, mostrar en pantalla solo lo que queremos ver, en este caso un mes específico supongamos `jul`.\n",
    "\n",
    "La tubería `|` envía las 3 líneas del comando `cat` a el comando `grep`, este segundo imprimirá entonces solo el mes elegido, así si queremos filtrar `jul` ejecutamos:\n",
    "\n",
    "`cat /home/${USER}/archivodeprueba.txt | grep \"jul\"\n"
   ]
  },
  {
   "cell_type": "markdown",
   "metadata": {},
   "source": [
    "***"
   ]
  },
  {
   "cell_type": "markdown",
   "metadata": {},
   "source": [
    "# <font color='#47bbca'><left>Actividad 5/5</left></font>"
   ]
  },
  {
   "cell_type": "markdown",
   "metadata": {},
   "source": [
    "Ejecuta el siguiente comando reemplazando `${USER}`, por el nombre del directorio de usuario:"
   ]
  },
  {
   "cell_type": "code",
   "execution_count": null,
   "metadata": {},
   "outputs": [],
   "source": [
    "ls -la /home/${USER}/directorio1 & ls -la /home/${USER}/"
   ]
  },
  {
   "cell_type": "markdown",
   "metadata": {},
   "source": [
    "# <font color='#47bbca'><left>¿Qué acabas de hacer?</left></font>\n",
    "<img src=\"binder/img/L_Docker_U1_pensando.gif\" alt=\"Drawing\" style=\"width: 200px;\" align=\"left\"/>"
   ]
  },
  {
   "cell_type": "markdown",
   "metadata": {},
   "source": [
    "Ese simbolo especial __*&*__ (ampersand), permite ejecutar múltiples comandos en una sola línea, para el anterior ejemplo primero ejecutaste el comando `ls -la /home/${USER}/directorio1` y posteriormente ejecutaste el comando `ls -la /home/${USER}/`"
   ]
  },
  {
   "cell_type": "markdown",
   "metadata": {},
   "source": [
    "* Los ampersand simples en Linux sirven para ejecutar multiples comandos en una única línea sin importar si alguno de los comandos falla o no.\n",
    "\n",
    "`commando1 & commando2 & commando3`\n",
    "\n",
    "* Los ampersand dobles no permiten continuar la secuencia de ejecución de los comandos, hasta que se ejecuten (uno por uno), de manera correcta.\n",
    "\n",
    "`commando1 && commando2 && commando3`"
   ]
  },
  {
   "cell_type": "markdown",
   "metadata": {},
   "source": [
    "# <font color=\"#47bbca\"><left>¿Te gustó la actividad?</left></font>"
   ]
  },
  {
   "cell_type": "markdown",
   "metadata": {},
   "source": [
    "Acabas de aprender algunos de los comandos más importantes para iniciar en el mundo de Linux y Unix, solo para que los recuerdes son:\n",
    "\n",
    "  * ___`date`:___ Permite obtener la fecha\n",
    "  * ___`cat`:___ Imprime en pantalla el contenido de un archivo de texto\n",
    "  * ___`grep`:___ Permite filtrar el contenido de un archivo\n",
    "  \n",
    "Además aprendiste el uso de algunos carácteres importantes como lo son:\n",
    "\n",
    "  * ___`>`:___ Redirige la salida de un comando a un archivo sobreescribiendo desde la primera línea\n",
    "  * ___`>>`:___ Redirige la salida de un comando al final de un archivo\n",
    "  * ___`|`:___ Redirige la salida de un comando a otro comando\n",
    "  * ___`&`:___ Permite ejecutar múltiples comandos en una única línea\n",
    "  \n",
    "Ahora volvamos a campus donde podremos ver un video de algunos de estos comandos en acción, [presiona click en este enlace para continuar con la siguiente actividad](https://campus.s4n.co/courses/course-v1:S4N+LIN02+2020_01/course/)"
   ]
  }
 ],
 "metadata": {
  "kernelspec": {
   "display_name": "Calysto Bash",
   "language": "bash",
   "name": "calysto_bash"
  },
  "language_info": {
   "file_extension": ".sh",
   "help_links": [
    {
     "text": "MetaKernel Magics",
     "url": "https://metakernel.readthedocs.io/en/latest/source/README.html"
    }
   ],
   "mimetype": "text/x-sh",
   "name": "bash",
   "version": "0.2.2"
  }
 },
 "nbformat": 4,
 "nbformat_minor": 2
}
