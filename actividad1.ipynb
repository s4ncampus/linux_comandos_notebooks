{
 "cells": [
  {
   "cell_type": "markdown",
   "metadata": {},
   "source": [
    "# Los comandos básicos de Linux - Manipulación de archivos y carpetas I"
   ]
  },
  {
   "cell_type": "markdown",
   "metadata": {},
   "source": [
    "![title](binder/img/G_Med_Gym.png)"
   ]
  },
  {
   "cell_type": "markdown",
   "metadata": {},
   "source": [
    "Durante esta actividad practicaremos algunos de los comandos básicos de Linux que nos permiten gestionar un sistema, actividades como listar, copiar, mover, crear directorios y archivos harán parte de esta práctica. \n",
    "\n",
    "Aquí pondrémos a continuación algunas ___*cajas de comandos*___ que te permitirán practicar los comandos. Una ___*cajas de comandos*___ es un elemento como el siguiente:\n"
   ]
  },
  {
   "cell_type": "code",
   "execution_count": null,
   "metadata": {},
   "outputs": [],
   "source": [
    "cat README.md"
   ]
  },
  {
   "cell_type": "markdown",
   "metadata": {},
   "source": [
    "Las cajas de comandos son editables, algunas vendrán llenas con comandos u otras vacías para que pongas el comando que quieras, basta con pararte sobre ellas con el cursor, validar el comando que quieres ejecutar y luego presionar el botón ___*\"Run\"*___ que está en la parte superior de la ventana.\n",
    "\n",
    "Pruébalo con la caja de comandos anterior...\n",
    "\n",
    "Como lo podrás ver, esta caja de comandos tiene en su interior el comando `cat README.md` el cual imprime en pantalla el contenido de un archivo. Si ejecutas ___*\"Run\"*___ el comando se inicia y te muestra en la parte inferior el resultado. De esta misma forma ejecutaremos varios comandos durante toda esta actividad. ¿Estás listo?\n",
    "\n",
    "¡Comencemos!"
   ]
  },
  {
   "cell_type": "markdown",
   "metadata": {},
   "source": [
    "![title](binder/img/L_Docker_U1_reto.jpeg)"
   ]
  },
  {
   "cell_type": "markdown",
   "metadata": {},
   "source": [
    "***"
   ]
  },
  {
   "cell_type": "markdown",
   "metadata": {},
   "source": [
    "# <font color='#47bbca'><left>Actividad 1/6</left></font>"
   ]
  },
  {
   "cell_type": "markdown",
   "metadata": {},
   "source": [
    "Ejecuta el siguiente comando parandote sobre la caja de comandos y luego dando click en el botón \"*Run*\":"
   ]
  },
  {
   "cell_type": "code",
   "execution_count": 19,
   "metadata": {},
   "outputs": [],
   "source": [
    "pwd"
   ]
  },
  {
   "cell_type": "markdown",
   "metadata": {},
   "source": [
    "# <font color='#47bbca'><left>¿Qué acabas de hacer?</left></font>\n",
    "<img src=\"binder/img/L_Docker_U1_pensando.gif\" alt=\"Drawing\" style=\"width: 200px;\" align=\"left\"/>"
   ]
  },
  {
   "cell_type": "markdown",
   "metadata": {},
   "source": [
    "__*El comando `pwd`:*__\n",
    "\n",
    "Con la ejecución de este comando pudiste identificar en que lugar del sistema te encuentras ubicado, es decir, en que carpeta estás actualmente. Para utilizarlo simplemente ejecutas `pwd` y este te imprimirá en pantalla la ruta de donde te encuentras, su salída será por ejemplo: `/home/${USER}/directorio1/`."
   ]
  },
  {
   "cell_type": "markdown",
   "metadata": {},
   "source": [
    "La anterior ejecución de el comando `pwd` te muestra que estás en el directorio `/home/${USER}/`, dónde `${USER}` realmente es una carpeta, desde este directorio comenzaremos nuestra práctica."
   ]
  },
  {
   "cell_type": "markdown",
   "metadata": {},
   "source": [
    "***"
   ]
  },
  {
   "cell_type": "markdown",
   "metadata": {},
   "source": [
    "# <font color='#47bbca'><left>Actividad 2/6</left></font>"
   ]
  },
  {
   "cell_type": "markdown",
   "metadata": {},
   "source": [
    "Ejecuta el siguiente comando pero reemplazando los valores que tienen `${USER}`, por el nombre del directorio de usuario que viste en la ejecución anterior, así deberá quedar algo como:\n",
    "\n",
    "`/home/NOMBREDEUSUARIO/dir...`\n",
    "\n",
    "Probemos..."
   ]
  },
  {
   "cell_type": "code",
   "execution_count": 5,
   "metadata": {},
   "outputs": [],
   "source": [
    "mkdir -p /home/${USER}/directorio1 ./directorio2"
   ]
  },
  {
   "cell_type": "markdown",
   "metadata": {},
   "source": [
    "# <font color='#47bbca'><left>¿Qué acabas de hacer?</left></font>\n",
    "<img src=\"binder/img/L_Docker_U1_pensando.gif\" alt=\"Drawing\" style=\"width: 200px;\" align=\"left\"/>"
   ]
  },
  {
   "cell_type": "markdown",
   "metadata": {},
   "source": [
    "__*El comando `mkdir`:*__ \n",
    "\n",
    "(Abreviación de \"*make directory*\") te ayuda a crear directorios en Linux, para utilizarlo simplemente debes hacerlo de la siguiente forma:\n",
    "\n",
    "  * `mkdir /ruta/al/directorio/directorioacrear`."
   ]
  },
  {
   "cell_type": "markdown",
   "metadata": {},
   "source": [
    "En el ejemplo de la anterior ejecución creaste dos carpetas al tiempo gracias a la flag `-p`, en este caso fueron `directorio1` y `directorio2` en la ruta `/home/${USER}/`. Para este ejemplo utilizaste una ruta absoluta para `directorio1` y una ruta relativa (es decir, a partir del directorio en donde estás ubicado) para el `directorio2`. \n",
    "\n",
    "Es posible que no veas nada en pantalla pero no te preocupes, valida que todo se ha creado bien ejecutando el siguiente comando."
   ]
  },
  {
   "cell_type": "code",
   "execution_count": null,
   "metadata": {},
   "outputs": [],
   "source": [
    "ls"
   ]
  },
  {
   "cell_type": "markdown",
   "metadata": {},
   "source": [
    "No profundizaremos por ahora en el comando `ls`, por lo pronto simplemente verás una *lista* con los directorios creados."
   ]
  },
  {
   "cell_type": "markdown",
   "metadata": {},
   "source": [
    "Validemos que te quedó claro el uso del comando `mkdir`, ejecutando el siguiente comando:"
   ]
  },
  {
   "cell_type": "code",
   "execution_count": null,
   "metadata": {},
   "outputs": [],
   "source": [
    "mkdir -p documentos/{trabajo,personales,universidad/{SEM1,SEM2}}"
   ]
  },
  {
   "cell_type": "markdown",
   "metadata": {},
   "source": [
    "# <font color='#47bbca'><left>¿Qué acabas de hacer?</left></font>\n",
    "<img src=\"binder/img/L_Docker_U1_pensando.gif\" alt=\"Drawing\" style=\"width: 200px;\" align=\"left\"/>"
   ]
  },
  {
   "cell_type": "markdown",
   "metadata": {},
   "source": [
    "La anterior ejecución creó el directorio `documentos` y dentro de él los subdirectorios `universidad`, `trabajo` y `personales`, además dentro del directorio `universidad` hemos creado los directorios `SEM1` y `SEM2`. En este caso puedes ver que no utilizamos una ruta absoluta `/home/${USER}/directorio1` sino una ruta relativa al directorio dónde estamos que es `/home/${USER}/`, es decir, partiendo de que estamos en `/home/${USER}/` pudimos haber ejecutado:\n",
    "\n",
    "  * `mkdir -p documentos/{trabajo,personales,universidad/{SEM1,SEM2}}`\n",
    "  * `mkdir -p /home/${USER}/documentos/{trabajo,personales,universidad/{SEM1,SEM2}}`\n",
    "  \n",
    "Obteniendo el mismo resultado."
   ]
  },
  {
   "cell_type": "markdown",
   "metadata": {},
   "source": [
    "# <font color=\"#47bbca\">¡Recuerda!</font>\n",
    "<img src=\"binder/img/L_Docker_U1_recuerda.png\" alt=\"Drawing\" style=\"width: 200px;\" align=\"left\"/>"
   ]
  },
  {
   "cell_type": "markdown",
   "metadata": {},
   "source": [
    "Con el comando `mkdir` puedes:\n",
    "\n",
    "  * Crear directorios en la ruta actual con `mkdir directorioacrear` o en otras rutas `mkdir /ruta/al/directorio/directorioacrear`\n",
    "  * Añadir flags como `-p` para crear varios directorios al tiempo `mkdir -p directorio1 directorio2 directorio3`\n",
    "  * Anidar directorios utilizando corchetes `mkdir -p directorio1/{subdirectorio1,subdirectorio2}`"
   ]
  },
  {
   "cell_type": "markdown",
   "metadata": {},
   "source": [
    "***"
   ]
  },
  {
   "cell_type": "markdown",
   "metadata": {},
   "source": [
    "# <font color='#47bbca'><left>Actividad 3/6</left></font>"
   ]
  },
  {
   "cell_type": "markdown",
   "metadata": {},
   "source": [
    "Validemos que los directorios anteriores se crearon correctamente con el siguiente comando:"
   ]
  },
  {
   "cell_type": "code",
   "execution_count": 9,
   "metadata": {},
   "outputs": [],
   "source": [
    "ls"
   ]
  },
  {
   "cell_type": "markdown",
   "metadata": {},
   "source": [
    "# <font color='#47bbca'><left>¿Qué acabas de hacer?</left></font>\n",
    "<img src=\"binder/img/L_Docker_U1_pensando.gif\" alt=\"Drawing\" style=\"width: 200px;\" align=\"left\"/>"
   ]
  },
  {
   "cell_type": "markdown",
   "metadata": {},
   "source": [
    "__*El comando `ls`:*__\n",
    "\n",
    "(Abreviación de \"*list*\") te permite listar elementos en una carpeta, en este caso, los directorios `directorio1` y `directorio2` se crearon en la ruta donde te encuentras así que podrás verlos en la salida del comando `ls`, en caso de que no sea así, valida de nuevo ejecutando el comando `mkdir` mostrado en la actividad anterior."
   ]
  },
  {
   "cell_type": "markdown",
   "metadata": {},
   "source": [
    "Ejecuta ahora el siguiente comando reemplazando `${USER}`, por el nombre del directorio de usuario que hemos estado utilizando en anteriores ejecuciones para que quede algo como `/home/NOMBREDEUSUARIO/...)`.:"
   ]
  },
  {
   "cell_type": "code",
   "execution_count": null,
   "metadata": {},
   "outputs": [],
   "source": [
    "ls -la /home/${USER}/documentos/"
   ]
  },
  {
   "cell_type": "markdown",
   "metadata": {},
   "source": [
    "# <font color='#47bbca'><left>¿Qué acabas de hacer?</left></font>\n",
    "<img src=\"binder/img/L_Docker_U1_pensando.gif\" alt=\"Drawing\" style=\"width: 200px;\" align=\"left\"/>"
   ]
  },
  {
   "cell_type": "markdown",
   "metadata": {},
   "source": [
    "En la anterior ejecución pudiste listar el contenido del directorio `documentos` dentro de `/home/${USER}` en este caso utilizando una ruta absoluta y el flag `-la` para ver más información como permisos y propietarios, allí puedes ver los directorios `trabajo`, `personales` y `universidad` creados en la anterior ejecución."
   ]
  },
  {
   "cell_type": "markdown",
   "metadata": {},
   "source": [
    "# <font color=\"#47bbca\">¡Recuerda!</font>\n",
    "<img src=\"binder/img/L_Docker_U1_recuerda.png\" alt=\"Drawing\" style=\"width: 200px;\" align=\"left\"/>"
   ]
  },
  {
   "cell_type": "markdown",
   "metadata": {},
   "source": [
    "Con el comando `ls` puedes:\n",
    "\n",
    "  * Añadir flags como `-la` para ver más información de los archvios por ejemplo `ls -la directorio`.\n",
    "  * Añadir rutas como por ejemplo `ls /directorio/subdirectorio` para ver el contenido de otro directorio diferente al que estás usando actualmente.\n",
    "  * Utilizar rutas absolutas o relativas."
   ]
  },
  {
   "cell_type": "markdown",
   "metadata": {},
   "source": [
    "***"
   ]
  },
  {
   "cell_type": "markdown",
   "metadata": {},
   "source": [
    "# <font color='#47bbca'><left>Actividad 4/6</left></font>"
   ]
  },
  {
   "cell_type": "markdown",
   "metadata": {},
   "source": [
    "Ejecuta el siguiente comando reemplazando `${USER}`, por el nombre del directorio de usuario que hemos estado utilizando en anteriores ejecuciones para que quede algo como `/home/NOMBREDEUSUARIO/...)`.:"
   ]
  },
  {
   "cell_type": "code",
   "execution_count": null,
   "metadata": {},
   "outputs": [],
   "source": [
    "touch /home/${USER}/directorio1/archivo1.txt ./directorio2/archivo2.txt"
   ]
  },
  {
   "cell_type": "markdown",
   "metadata": {},
   "source": [
    "# <font color='#47bbca'><left>¿Qué acabas de hacer?</left></font>\n",
    "<img src=\"binder/img/L_Docker_U1_pensando.gif\" alt=\"Drawing\" style=\"width: 200px;\" align=\"left\"/>"
   ]
  },
  {
   "cell_type": "markdown",
   "metadata": {},
   "source": [
    "__*El comando `touch`:*__ \n",
    "\n",
    "Este comando te permite crear archivos vacíos en Linux, con este:\n",
    "\n",
    "  * Puedes crear archivos en la ruta actual con `touch archivoacrear` o en otras rutas `touch /ruta/al/directorio/archivoacrear`\n",
    "  * Puedes crear multiples archivos al tiempo `touch archivoacrear1 archivoacrear2 archivoacrear3`"
   ]
  },
  {
   "cell_type": "markdown",
   "metadata": {},
   "source": [
    "La anterior ejecución crea un archivo llamado `archivo1.txt` en el `directorio1` y el archivo `archivo2.txt` en el `directorio2` en la ruta `/home/${USER}/`."
   ]
  },
  {
   "cell_type": "markdown",
   "metadata": {},
   "source": [
    "Valida que los directorios se crearon correctamente introduciendo a continuación un comando para listarlos (puedes utilizar rutas absolutas o relativas):"
   ]
  },
  {
   "cell_type": "code",
   "execution_count": 7,
   "metadata": {},
   "outputs": [],
   "source": []
  },
  {
   "cell_type": "markdown",
   "metadata": {},
   "source": [
    "¿Lo hiciste?\n",
    "\n",
    "En caso de que no, te invitamos a que confirmes que comando te puede ayudar a listar el contenido de un directorio que vimos en la actividad anterior."
   ]
  },
  {
   "cell_type": "markdown",
   "metadata": {},
   "source": [
    "***"
   ]
  },
  {
   "cell_type": "markdown",
   "metadata": {},
   "source": [
    "# <font color='#47bbca'><left>Actividad 5/6</left></font>"
   ]
  },
  {
   "cell_type": "markdown",
   "metadata": {},
   "source": [
    "Ejecuta el siguiente comando reemplazando `${USER}`, por el nombre del directorio de usuario:"
   ]
  },
  {
   "cell_type": "code",
   "execution_count": 8,
   "metadata": {},
   "outputs": [],
   "source": [
    "mv /home/${USER}/directorio1/archivo1.txt /home/${USER}/directorio2/"
   ]
  },
  {
   "cell_type": "markdown",
   "metadata": {},
   "source": [
    "# <font color='#47bbca'><left>¿Qué acabas de hacer?</left></font>\n",
    "<img src=\"binder/img/L_Docker_U1_pensando.gif\" alt=\"Drawing\" style=\"width: 200px;\" align=\"left\"/>"
   ]
  },
  {
   "cell_type": "markdown",
   "metadata": {},
   "source": [
    "__*El comando `mv`:*__ \n",
    "\n",
    "(abreviación de \"*move*\") es un comando que sirve para mover archivos y/o directorios de un lugar a otro."
   ]
  },
  {
   "cell_type": "markdown",
   "metadata": {},
   "source": [
    "La anterior ejecución mueve el archivo `archivo1.txt` desde el directorio `directorio1` al directorio `directorio2`."
   ]
  },
  {
   "cell_type": "markdown",
   "metadata": {},
   "source": [
    "Los siguientes dos comandos están errados, arreglalos para validar que los archivos se movieron correctamente:"
   ]
  },
  {
   "cell_type": "code",
   "execution_count": 8,
   "metadata": {},
   "outputs": [],
   "source": [
    "ls /home/kjkjk/directorio1/"
   ]
  },
  {
   "cell_type": "code",
   "execution_count": 8,
   "metadata": {},
   "outputs": [],
   "source": [
    "ls direcorio2/"
   ]
  },
  {
   "cell_type": "markdown",
   "metadata": {},
   "source": [
    "# <font color=\"#47bbca\">Un tip</font>"
   ]
  },
  {
   "cell_type": "markdown",
   "metadata": {},
   "source": [
    "Puedes ver los comandos `ls` vistos anteriormente para poder arreglarlos."
   ]
  },
  {
   "cell_type": "markdown",
   "metadata": {},
   "source": [
    "Ahora probemos de nuevo el comando `mv` ejecutando el siguiente comando, no olvides reemplazar `${USER}`:"
   ]
  },
  {
   "cell_type": "code",
   "execution_count": 8,
   "metadata": {},
   "outputs": [],
   "source": [
    "mv /home/${USER}/documentos /home/${USER}/directorios-importantes"
   ]
  },
  {
   "cell_type": "markdown",
   "metadata": {},
   "source": [
    "# <font color='#47bbca'><left>¿Qué acabas de hacer?</left></font>\n",
    "<img src=\"binder/img/L_Docker_U1_pensando.gif\" alt=\"Drawing\" style=\"width: 200px;\" align=\"left\"/>"
   ]
  },
  {
   "cell_type": "markdown",
   "metadata": {},
   "source": [
    "Con `mv` no solo mueves archivos, también mueves directorios y subdirectorios, la anterior ejecución ha movido el directorio `documentos` y todos sus subdirectorios cambiando el nombre además a `directorios-importantes`."
   ]
  },
  {
   "cell_type": "markdown",
   "metadata": {},
   "source": [
    "Puedes validar que el directorio se movió correctamente utilizando el comando `ls`."
   ]
  },
  {
   "cell_type": "code",
   "execution_count": 7,
   "metadata": {},
   "outputs": [],
   "source": [
    "ls /home/${USER}/"
   ]
  },
  {
   "cell_type": "markdown",
   "metadata": {},
   "source": [
    "# <font color=\"#47bbca\">¡Recuerda!</font>\n",
    "<img src=\"binder/img/L_Docker_U1_recuerda.png\" alt=\"Drawing\" style=\"width: 200px;\" align=\"left\"/>"
   ]
  },
  {
   "cell_type": "markdown",
   "metadata": {},
   "source": [
    "Con el comando `mv` puedes:\n",
    "\n",
    "  * Mover directorios de forma recursiva.\n",
    "  * Usarlo de la siguiente forma `mv /recurso/de/origen /directorio/de/destino`\n",
    "  * Utilizarlo no solo para mover sino también para reemplazar el nombhre de un archivo o carpeta, utilizando `mv nombreoriginal nombrenuevo`"
   ]
  },
  {
   "cell_type": "markdown",
   "metadata": {},
   "source": [
    "***"
   ]
  },
  {
   "cell_type": "markdown",
   "metadata": {},
   "source": [
    "# <font color='#47bbca'><left>Actividad 6/6</left></font>"
   ]
  },
  {
   "cell_type": "markdown",
   "metadata": {},
   "source": [
    "Ejecuta el siguiente comando reemplazando `${USER}`, por el nombre del directorio de usuario:"
   ]
  },
  {
   "cell_type": "code",
   "execution_count": null,
   "metadata": {},
   "outputs": [],
   "source": [
    "cp /home/${USER}/directorio2/archivo1.txt /home/${USER}/directorio1/"
   ]
  },
  {
   "cell_type": "markdown",
   "metadata": {},
   "source": [
    "# <font color='#47bbca'><left>¿Qué acabas de hacer?</left></font>\n",
    "<img src=\"binder/img/L_Docker_U1_pensando.gif\" alt=\"Drawing\" style=\"width: 200px;\" align=\"left\"/>"
   ]
  },
  {
   "cell_type": "markdown",
   "metadata": {},
   "source": [
    "__*El comando `cp`:*__\n",
    "\n",
    "(abreviación de \"copy\") es un comando que sirve para copiar archivos y/o directorios de un lugar a otro:\n",
    "\n",
    "  * Permite archivos simples o múltiples archivos.\n",
    "  * Para copiar directorios enteros de forma recursiva se debe utilizar la flag `-R` así `cp -R /directorio/de/origen/con/muchosarchivos/ /directorio/de/destino/`."
   ]
  },
  {
   "cell_type": "markdown",
   "metadata": {},
   "source": [
    "La anterior ejecución copió el archivo `archivo1.txt` desde el directorio `directorio2` de vuelta al directorio `directorio1`."
   ]
  },
  {
   "cell_type": "markdown",
   "metadata": {},
   "source": [
    "Te dejaremos una caja de texto a continuación para que ejecutes un comando para listarlos las veces que sea necesario, si no lo recuerdas la clave es la palabra *Listar*."
   ]
  },
  {
   "cell_type": "code",
   "execution_count": 8,
   "metadata": {},
   "outputs": [],
   "source": []
  },
  {
   "cell_type": "markdown",
   "metadata": {},
   "source": [
    "Ahora, ejecuta el siguiente comando reemplazando `${USER}`, por el nombre del directorio de usuario:"
   ]
  },
  {
   "cell_type": "code",
   "execution_count": 8,
   "metadata": {},
   "outputs": [],
   "source": [
    "cp -R /home/${USER}/directorios-importantes /home/${USER}/informacion-personal"
   ]
  },
  {
   "cell_type": "markdown",
   "metadata": {},
   "source": [
    "La anterior ejecución copia el directorio `directorios-importantes` y todos sus subdirectorios de manera recursiva gracias a la flag `-R` a un nuevo directorio llamado `informacion-personal`."
   ]
  },
  {
   "cell_type": "markdown",
   "metadata": {},
   "source": [
    "Valida a continación que el directorio se copió correctamente, te dejaremos un ls erroneo, corrigelo de acuerdo a lo aprendido:"
   ]
  },
  {
   "cell_type": "code",
   "execution_count": 7,
   "metadata": {},
   "outputs": [],
   "source": [
    "ls .\\${USER}/informacion-personal"
   ]
  },
  {
   "cell_type": "markdown",
   "metadata": {},
   "source": [
    "# <font color=\"#47bbca\"><left>¿Te gustó la actividad?</left></font>"
   ]
  },
  {
   "cell_type": "markdown",
   "metadata": {},
   "source": [
    "Acabas de aprender algunos de los comandos más importantes para iniciar en el mundo de Linux y Unix, solo para que los recuerdes son:\n",
    "\n",
    "  * ___`pwd`:___ Identifica en que directorio estás\n",
    "  * ___`mkdir`:___ Crea uno o múltiples directorios o subdirectorios\n",
    "  * ___`ls`:___ Lista el contenido de los directorios o información sobre los archivos\n",
    "  * ___`touch`:___ Crea un archivo en blanco\n",
    "  * ___`mv`:___ Mueve directorios, subdirectorios o archivos o renombralos\n",
    "  * ___`cp`:___ Copia directorios, subdirectorios y archivos\n",
    "  \n",
    "Ahora volvamos a campus donde podremos ver un video de algunos de estos comandos en acción, [presiona click en este enlace para continuar con la siguiente actividad](https://campus.s4n.co/courses/course-v1:S4N+LIN02+2020_01/course/)"
   ]
  }
 ],
 "metadata": {
  "kernelspec": {
   "display_name": "Python 3 (ipykernel)",
   "language": "python",
   "name": "python3"
  },
  "language_info": {
   "codemirror_mode": {
    "name": "ipython",
    "version": 3
   },
   "file_extension": ".py",
   "mimetype": "text/x-python",
   "name": "python",
   "nbconvert_exporter": "python",
   "pygments_lexer": "ipython3",
   "version": "3.9.10"
  }
 },
 "nbformat": 4,
 "nbformat_minor": 2
}
