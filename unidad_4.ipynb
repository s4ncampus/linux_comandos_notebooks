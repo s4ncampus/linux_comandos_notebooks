{
 "cells": [
  {
   "cell_type": "markdown",
   "metadata": {},
   "source": [
    "# Operadores de redirección"
   ]
  },
  {
   "cell_type": "markdown",
   "metadata": {},
   "source": [
    "Durante esta actividad practicaremos algunos de los operadores de redirección en Linux."
   ]
  },
  {
   "cell_type": "markdown",
   "metadata": {},
   "source": [
    "# Redirección simple `>`"
   ]
  },
  {
   "cell_type": "markdown",
   "metadata": {},
   "source": [
    "* `>` Redirecciona stdout hacía un archivo. Lo crea si no existe, si existe lo sobreescribe."
   ]
  },
  {
   "cell_type": "markdown",
   "metadata": {},
   "source": [
    "La siguiente ejecución enviará la salida del comando `date` (la fecha actual) a un archivo llamado fechaactual.txt (ya que el archivo no existe se creará)"
   ]
  },
  {
   "cell_type": "code",
   "execution_count": 5,
   "metadata": {},
   "outputs": [],
   "source": [
    "date > fechaactual.txt"
   ]
  },
  {
   "cell_type": "markdown",
   "metadata": {},
   "source": [
    "Para validar que el archivo fue creado listaremos con el comando `ls`"
   ]
  },
  {
   "cell_type": "code",
   "execution_count": 5,
   "metadata": {},
   "outputs": [],
   "source": [
    "ls "
   ]
  },
  {
   "cell_type": "markdown",
   "metadata": {},
   "source": [
    "Para validar que el archivo cuenta con la fecha actual imprimiremos su contenido con un `cat`"
   ]
  },
  {
   "cell_type": "code",
   "execution_count": 5,
   "metadata": {},
   "outputs": [],
   "source": [
    "cat fechaactual.txt"
   ]
  },
  {
   "cell_type": "markdown",
   "metadata": {},
   "source": [
    "Cómo puedes ver, se creó un archivo con la fecha actual en su interior. La siguiente ejecución enviará la palabra `fecha` al mismo archivo, sobreescribiendo todo el contenido en él."
   ]
  },
  {
   "cell_type": "code",
   "execution_count": 5,
   "metadata": {},
   "outputs": [],
   "source": [
    "echo \"fecha\" > fechaactual.txt"
   ]
  },
  {
   "cell_type": "markdown",
   "metadata": {},
   "source": [
    "Para validar el contenido del archivo lo imprimiremos con un `cat`"
   ]
  },
  {
   "cell_type": "code",
   "execution_count": 5,
   "metadata": {},
   "outputs": [],
   "source": [
    "cat fechaactual.txt"
   ]
  },
  {
   "cell_type": "markdown",
   "metadata": {},
   "source": [
    "Con la redirección simple se sobreescribe el contenido del archivo sin importar lo que haya en su interior."
   ]
  },
  {
   "cell_type": "markdown",
   "metadata": {},
   "source": [
    "# Redirección doble `>>`"
   ]
  },
  {
   "cell_type": "markdown",
   "metadata": {},
   "source": [
    "* `>>` Redirecciona stdout hacía un archivo. Lo crea si no existe, si existe concatena la salida al final de este."
   ]
  },
  {
   "cell_type": "markdown",
   "metadata": {},
   "source": [
    "La siguiente ejecución enviará la salida del comando `date -d \"7 days ago\" +%Y-%m-%d` (la fecha de hace una semana) a un archivo llamado fechaantigua.txt (ya que el archivo no existe se creará)."
   ]
  },
  {
   "cell_type": "code",
   "execution_count": 5,
   "metadata": {},
   "outputs": [],
   "source": [
    "date -d \"7 days ago\" +%Y-%m-%d >> fechaantigua.txt"
   ]
  },
  {
   "cell_type": "markdown",
   "metadata": {},
   "source": [
    "Para validar que el archivo fue creado listaremos con el comando `ls`"
   ]
  },
  {
   "cell_type": "code",
   "execution_count": 5,
   "metadata": {},
   "outputs": [],
   "source": [
    "ls "
   ]
  },
  {
   "cell_type": "markdown",
   "metadata": {},
   "source": [
    "Para validar que el archivo cuenta con la fecha de hace 7 días imprimiremos su contenido con un `cat`"
   ]
  },
  {
   "cell_type": "code",
   "execution_count": 5,
   "metadata": {},
   "outputs": [],
   "source": [
    "cat fechaantigua.txt"
   ]
  },
  {
   "cell_type": "markdown",
   "metadata": {},
   "source": [
    "Cómo puedes ver se ha creado una línea nueva en él archivo con la fecha de hace 7 días. Ahora la siguiente ejecución enviará la salida del comando `date -d \"20 days ago\" +%Y-%m-%d` (la fecha de hace 20 días) al mismo archivo"
   ]
  },
  {
   "cell_type": "code",
   "execution_count": 5,
   "metadata": {},
   "outputs": [],
   "source": [
    "date -d \"20 days ago\" +%Y-%m-%d >> fechaantigua.txt"
   ]
  },
  {
   "cell_type": "markdown",
   "metadata": {},
   "source": [
    "Para validar el contenido del archivo lo imprimiremos con un `cat`"
   ]
  },
  {
   "cell_type": "code",
   "execution_count": 5,
   "metadata": {},
   "outputs": [],
   "source": [
    "cat fechaantigua.txt"
   ]
  },
  {
   "cell_type": "markdown",
   "metadata": {},
   "source": [
    "Con la redirección doble se concatena el nuevo contenido de la salida del comando al contenido existente en el archivo."
   ]
  },
  {
   "cell_type": "markdown",
   "metadata": {},
   "source": [
    "# Subshells o ejecuciones simultaneas con punto y coma `;`"
   ]
  },
  {
   "cell_type": "markdown",
   "metadata": {},
   "source": [
    "* `;` Te permitirá ejecutar múltiples comandos en una sola línea"
   ]
  },
  {
   "cell_type": "markdown",
   "metadata": {},
   "source": [
    "La siguiente ejecución enviará la salida del comando `date -d \"7 days ago\" +%Y-%m-%d` (la fecha de hace una semana) y la salida del comando `date -d \"20 days ago\" +%Y-%m-%d` (la fecha de hace 20 días) al mismo archivo (subshells.txt) en una única ejecución."
   ]
  },
  {
   "cell_type": "code",
   "execution_count": 5,
   "metadata": {},
   "outputs": [],
   "source": [
    "date -d \"7 days ago\" +%Y-%m-%d > subshells.txt ; date -d \"20 days ago\" +%Y-%m-%d >> subshells.txt"
   ]
  },
  {
   "cell_type": "markdown",
   "metadata": {},
   "source": [
    "Para validar que el archivo fue creado listaremos con el comando `ls`"
   ]
  },
  {
   "cell_type": "code",
   "execution_count": 5,
   "metadata": {},
   "outputs": [],
   "source": [
    "ls "
   ]
  },
  {
   "cell_type": "markdown",
   "metadata": {},
   "source": [
    "Para validar que el archivo cuenta con el contenido esperado lo imprimiremos con un `cat`"
   ]
  },
  {
   "cell_type": "code",
   "execution_count": 5,
   "metadata": {},
   "outputs": [],
   "source": [
    "cat subshells.txt"
   ]
  },
  {
   "cell_type": "markdown",
   "metadata": {},
   "source": [
    "Borraremos dicho archivo con `rm -rf`"
   ]
  },
  {
   "cell_type": "code",
   "execution_count": 5,
   "metadata": {},
   "outputs": [],
   "source": [
    "rm -rf subshells.txt"
   ]
  },
  {
   "cell_type": "markdown",
   "metadata": {},
   "source": [
    "Otra forma de hacer dicha ejecución es agrupando las dos ejecuciones y enviando la salida de ambas al mismo archivo de la siguiente forma:"
   ]
  },
  {
   "cell_type": "code",
   "execution_count": 5,
   "metadata": {},
   "outputs": [],
   "source": [
    "(date -d \"7 days ago\" +%Y-%m-%d ; date -d \"20 days ago\" +%Y-%m-%d) >> subshells.txt"
   ]
  },
  {
   "cell_type": "markdown",
   "metadata": {},
   "source": [
    "Puedes validarlo corriendo de nuevo ls o cat con las ejecuciones anteriores."
   ]
  },
  {
   "cell_type": "markdown",
   "metadata": {},
   "source": [
    "# Ampersand `&` y doble ampersand `&&`"
   ]
  },
  {
   "cell_type": "markdown",
   "metadata": {},
   "source": [
    "* `&` Al igual que el punto y coma te permitirá ejecutar múltiples comandos en una sola línea.\n",
    "* `&&` Además de permitirte ejecutar múltiples comandos en una sola línea, te permite condicionar la ejecución del segundo comando al éxito del primer comando."
   ]
  },
  {
   "cell_type": "markdown",
   "metadata": {},
   "source": [
    "La siguiente ejecución ejecutará el comando `pwd` para ver en que directorio estoy y después el comando `ls` para listar el contenido del mismo directorio, observa que utilizamos ampersand simple."
   ]
  },
  {
   "cell_type": "code",
   "execution_count": 5,
   "metadata": {},
   "outputs": [],
   "source": [
    "pwd & ls"
   ]
  },
  {
   "cell_type": "markdown",
   "metadata": {},
   "source": [
    "Cómo se puede observar todo funciona satisfactoriamente. Ahora ejecutaremos un comando erroneo, en lugar de `pwd` ejecutaremos `comandoerrado` y luego `ls` con ampersand simple."
   ]
  },
  {
   "cell_type": "code",
   "execution_count": 5,
   "metadata": {},
   "outputs": [],
   "source": [
    "comandoerrado & ls"
   ]
  },
  {
   "cell_type": "markdown",
   "metadata": {},
   "source": [
    "Cómo se puede observar la primera ejecución fue errada ya que `comandoerrado` no existe, sin embargo el segundo comando `ls` se ejecutó sin problema. Miremos la misma ejecución pero con ampersand doble."
   ]
  },
  {
   "cell_type": "code",
   "execution_count": 5,
   "metadata": {},
   "outputs": [],
   "source": [
    "comandoerrado && ls"
   ]
  },
  {
   "cell_type": "markdown",
   "metadata": {},
   "source": [
    "Al haber recibido una salida errada en el comando `comandoerrado`, el comando `ls` no se ejecuta"
   ]
  },
  {
   "cell_type": "markdown",
   "metadata": {},
   "source": [
    "# Tuberías o pipes `|`"
   ]
  },
  {
   "cell_type": "markdown",
   "metadata": {},
   "source": [
    "* `|` La salida del primer comando | se convierte en la entrada del siguiente comando."
   ]
  },
  {
   "cell_type": "markdown",
   "metadata": {},
   "source": [
    "La siguiente ejecución listará todos los archivos del directorio actual con `ls`, y luego de eso, buscará en esa salida, todos los que terminen en la extensión `.txt` utilizando el comando `grep`"
   ]
  },
  {
   "cell_type": "code",
   "execution_count": null,
   "metadata": {},
   "outputs": [],
   "source": [
    "ls | grep \".txt\""
   ]
  },
  {
   "cell_type": "markdown",
   "metadata": {},
   "source": [
    "# Ejemplo práctico de todo lo aprendido"
   ]
  },
  {
   "cell_type": "markdown",
   "metadata": {},
   "source": [
    "La siguiente ejecución enviará un listado de palabras al archivo `ejemplo.txt`\n"
   ]
  },
  {
   "cell_type": "code",
   "execution_count": null,
   "metadata": {},
   "outputs": [],
   "source": [
    "(echo \"Uno,Ana,Matemáticas\"; echo \"Dos,Natalia,Lenguaje\"; echo \"Tres,Gabriel,Ciencias\"; echo \"Cuatro,Alejandro,Física\"; echo \"Cinco,Juliana,Sociales\") > ejemplo.txt"
   ]
  },
  {
   "cell_type": "markdown",
   "metadata": {},
   "source": [
    "Ejecutaremos `ls` y luego `cat` en una única línea para validar que el archivo existe y ver su contenido."
   ]
  },
  {
   "cell_type": "code",
   "execution_count": null,
   "metadata": {},
   "outputs": [],
   "source": [
    "ls & cat ejemplo.txt"
   ]
  },
  {
   "cell_type": "markdown",
   "metadata": {},
   "source": [
    "Olvidamos una cadena de texto, la añadiremos en la siguiente ejecución:"
   ]
  },
  {
   "cell_type": "code",
   "execution_count": null,
   "metadata": {},
   "outputs": [],
   "source": [
    "echo \"Seis,Dante,Geografía\" >> ejemplo.txt"
   ]
  },
  {
   "cell_type": "markdown",
   "metadata": {},
   "source": [
    "Validaremos de nuevo con `ls` y `cat`"
   ]
  },
  {
   "cell_type": "code",
   "execution_count": null,
   "metadata": {},
   "outputs": [],
   "source": [
    "ls & cat ejemplo.txt"
   ]
  },
  {
   "cell_type": "markdown",
   "metadata": {},
   "source": [
    "Imprimiremos en pantalla el contenido del archivo con `cat` y luego filtraremos la palabra `Tres`"
   ]
  },
  {
   "cell_type": "code",
   "execution_count": null,
   "metadata": {},
   "outputs": [],
   "source": [
    "cat ejemplo.txt | grep Tres"
   ]
  },
  {
   "cell_type": "markdown",
   "metadata": {},
   "source": [
    "Ahora eliminaremos el contenido de la palabra `Tres` utilizando el comando `awk` que nos permitirá imprimir solo el contenido del tercer valor después de la coma. (Verás algunos ejemplos de este comando en el contenido del curso)"
   ]
  },
  {
   "cell_type": "code",
   "execution_count": null,
   "metadata": {},
   "outputs": [],
   "source": [
    "cat ejemplo.txt | grep Tres | awk -F, '{print $3}'"
   ]
  },
  {
   "cell_type": "markdown",
   "metadata": {},
   "source": [
    "Si todo salió bien, solo verás el nombre `Ciencias`"
   ]
  },
  {
   "cell_type": "markdown",
   "metadata": {},
   "source": [
    "Ahora borremos el archivo"
   ]
  },
  {
   "cell_type": "code",
   "execution_count": null,
   "metadata": {},
   "outputs": [],
   "source": [
    "rm -rf ejemplo.txt"
   ]
  },
  {
   "cell_type": "markdown",
   "metadata": {},
   "source": [
    "Y hagamos todo en una única línea."
   ]
  },
  {
   "cell_type": "code",
   "execution_count": null,
   "metadata": {},
   "outputs": [],
   "source": [
    "(echo \"Uno,Ana,Matemáticas\"; echo \"Dos,Natalia,Lenguaje\"; echo \"Tres,Gabriel,Ciencias\"; echo \"Cuatro,Alejandro,Física\"; echo \"Cinco,Juliana,Sociales\") > ejemplo.txt && cat ejemplo.txt | grep Tres | awk -F, '{print $3}' "
   ]
  }
 ],
 "metadata": {
  "kernelspec": {
   "display_name": "Bash",
   "language": "bash",
   "name": "bash"
  },
  "language_info": {
   "codemirror_mode": "shell",
   "file_extension": ".sh",
   "mimetype": "text/x-sh",
   "name": "bash"
  }
 },
 "nbformat": 4,
 "nbformat_minor": 2
}
