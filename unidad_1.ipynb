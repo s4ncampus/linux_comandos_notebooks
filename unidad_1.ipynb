{
 "cells": [
  {
   "cell_type": "markdown",
   "metadata": {},
   "source": [
    "# Los comandos básicos de Linux"
   ]
  },
  {
   "cell_type": "markdown",
   "metadata": {},
   "source": [
    "Durante esta actividad practicaremos algunos de los comandos básicos de Linux que nos permiten gestionar un sistema, actividades como listar, copiar, mover, crear directorios y archivos harán parte de esta práctica."
   ]
  },
  {
   "cell_type": "markdown",
   "metadata": {},
   "source": [
    "# El Comando pwd"
   ]
  },
  {
   "cell_type": "markdown",
   "metadata": {},
   "source": [
    "`pwd` es un comando que permite identificar en que lugar del sistema te encuentras ubicado, es decir, en que carpeta estás actualmente\n",
    "  * Se ejecuta simplemente `pwd` para que te imprima en pantalla una ruta de donde te encuentras por ejemplo `/home/${USER}/directorio1/`"
   ]
  },
  {
   "cell_type": "markdown",
   "metadata": {},
   "source": [
    "La siguiente ejecución te permitirá confirmar que estás en el directorio `/home/${USER}/`, por favor ubicate sobre la proxima ejecución y presiona en el botón \"Run\" para validarlo."
   ]
  },
  {
   "cell_type": "code",
   "execution_count": null,
   "metadata": {},
   "outputs": [],
   "source": [
    "pwd"
   ]
  },
  {
   "cell_type": "markdown",
   "metadata": {},
   "source": [
    "Al ejecutarlo podrás ver en pantalla una salida \"Out\" que te mostrará en que directorio realizaremos nuestra ejecución, por ejemplo `/home/jovyan/`, desde este directorio comenzaremos nuestra práctica."
   ]
  },
  {
   "cell_type": "markdown",
   "metadata": {},
   "source": [
    "# El Comando mkdir"
   ]
  },
  {
   "cell_type": "markdown",
   "metadata": {},
   "source": [
    "`mkdir` (abreviación de \"make directory\") es un comando que permite crear directorios en Linux\n",
    "  * Puedes crear directorios en la ruta actual con `mkdir directorioacrear` o en otras rutas `mkdir /ruta/al/directorio/directorioacrear`\n",
    "  * Puedes añadir flags como `-p` para crear varios directorios al tiempo `mkdir -p directorio1 directorio2 directorio3`\n",
    "  * Puedes anidar directorios utilizando corchetes `mkdir -p directorio1/{subdirectorio1,subdirectorio2}`"
   ]
  },
  {
   "cell_type": "markdown",
   "metadata": {},
   "source": [
    "La siguiente ejecución creará el directorio `directorio1` y el directorio `directorio2` en la ruta absoluta `/home/${USER}/` (reemplaza ${USER}, por el nombre del directorio de usuario que viste en la ejecución anterior para que quede algo como `/home/jovyan/)`. Es posible que no veas nada en pantalla pero con el comando ls validaremos luego que todo salió bien."
   ]
  },
  {
   "cell_type": "code",
   "execution_count": 5,
   "metadata": {},
   "outputs": [],
   "source": [
    "mkdir -p /home/${USER}/directorio1 /home/${USER}/directorio2"
   ]
  },
  {
   "cell_type": "markdown",
   "metadata": {},
   "source": [
    "La siguiente ejecución creará el directorio `documentos` y dentro de él los subdirectorios `universidad`, `trabajo` y `personales`, además dentro del directorio `universidad` crearemos los directorios `SEM1` y `SEM2`. Esta vez asumiremos que estamos en la ruta /home/${USER}/ por lo que utilizaremos una ruta relativa y no una ruta absoluta.  Es posible que no veas nada en pantalla pero con el comando ls validaremos luego que todo salió bien."
   ]
  },
  {
   "cell_type": "code",
   "execution_count": null,
   "metadata": {},
   "outputs": [],
   "source": [
    "mkdir -p documentos/{trabajo,personales,universidad/{SEM1,SEM2}}"
   ]
  },
  {
   "cell_type": "markdown",
   "metadata": {},
   "source": [
    "# El Comando ls"
   ]
  },
  {
   "cell_type": "markdown",
   "metadata": {},
   "source": [
    "`ls` (abreviación de \"list\") es un comando que sirve para listar los archivos o directorios de un directorio\n",
    "  * Puedes añadir flags como \"-la\" para ver más información de los archvios por ejemplo `ls -la directorio`.\n",
    "  * Puedes añadir rutas como por ejemplo `ls /directorio/subdirectorio` para ver el contenido de otro directorio diferente al que estás usando actualmente"
   ]
  },
  {
   "cell_type": "markdown",
   "metadata": {},
   "source": [
    "La siguiente ejecución listara el contenido del directorio actual en el que estás ubicado `/home/${USER}/` por lo que se deberán ver los directorios `directorio1`, `directorio2` y `documentos` creados en la anterior ejecución."
   ]
  },
  {
   "cell_type": "code",
   "execution_count": 9,
   "metadata": {},
   "outputs": [],
   "source": [
    "ls"
   ]
  },
  {
   "cell_type": "markdown",
   "metadata": {},
   "source": [
    "Ahora, en esta ejecución deberás listar el contenido del directorio documentos `/home/${USER}/documentos` pero utilizando una ruta absoluta y un flag para ver más información como permisos y propietarios `-la` allí se deberán ver los directorios `trabajo`, `personales` y `universidad` creados en la anterior ejecución. (reemplaza ${USER}, por el nombre del directorio de usuario que hemos estado utilizando en anteriores ejecuciones para que quede algo como `/home/jovyan/)`."
   ]
  },
  {
   "cell_type": "code",
   "execution_count": 7,
   "metadata": {},
   "outputs": [],
   "source": [
    "ls -la /home/${USER}/documentos/"
   ]
  },
  {
   "cell_type": "markdown",
   "metadata": {},
   "source": [
    "# El Comando touch"
   ]
  },
  {
   "cell_type": "markdown",
   "metadata": {},
   "source": [
    "`touch` es un comando que permite crear archivos vacíos en Linux\n",
    "  * Puedes crear archivos en la ruta actual con `touch archivoacrear` o en otras rutas `touch /ruta/al/directorio/archivoacrear`\n",
    "  * Puedes crear multiples archivos al tiempo `touch archivoacrear1 archivoacrear2 archivoacrear3`"
   ]
  },
  {
   "cell_type": "markdown",
   "metadata": {},
   "source": [
    "La siguiente ejecución creara `archivo1.txt` en el `directorio1` y el archivo `archivo2.txt` en el `directorio2` en la ruta `/home/${USER}/`."
   ]
  },
  {
   "cell_type": "code",
   "execution_count": null,
   "metadata": {},
   "outputs": [],
   "source": [
    "touch /home/${USER}/directorio1/archivo1.txt /home/${USER}/directorio2/archivo2.txt"
   ]
  },
  {
   "cell_type": "markdown",
   "metadata": {},
   "source": [
    "Puedes validar que los archivos se crearon correctamente utilizando el comando `ls`."
   ]
  },
  {
   "cell_type": "code",
   "execution_count": 7,
   "metadata": {},
   "outputs": [],
   "source": [
    "ls /home/${USER}/directorio1/"
   ]
  },
  {
   "cell_type": "code",
   "execution_count": 7,
   "metadata": {},
   "outputs": [],
   "source": [
    "ls /home/${USER}/directorio2/"
   ]
  },
  {
   "cell_type": "markdown",
   "metadata": {},
   "source": [
    "# El Comando mv"
   ]
  },
  {
   "cell_type": "markdown",
   "metadata": {},
   "source": [
    "`mv` (abreviación de \"move\") es un comando que sirve para mover archivos y/o directorios de un lugar a otro\n",
    "  * Permite mover directorios de forma recursiva.\n",
    "  * Se utiliza el comando `mv /recurso/de/origen /directorio/de/destino`"
   ]
  },
  {
   "cell_type": "markdown",
   "metadata": {},
   "source": [
    "La siguiente ejecución movera el archivo `archivo1.txt` desde el directorio `directorio1` al directorio `directorio2`."
   ]
  },
  {
   "cell_type": "code",
   "execution_count": 8,
   "metadata": {},
   "outputs": [],
   "source": [
    "mv /home/${USER}/directorio1/archivo1.txt /home/${USER}/directorio2/"
   ]
  },
  {
   "cell_type": "markdown",
   "metadata": {},
   "source": [
    "Puedes validar que los archivos se movieron correctamente utilizando el comando `ls`."
   ]
  },
  {
   "cell_type": "code",
   "execution_count": 8,
   "metadata": {},
   "outputs": [],
   "source": [
    "ls /home/${USER}/directorio1/"
   ]
  },
  {
   "cell_type": "code",
   "execution_count": 8,
   "metadata": {},
   "outputs": [],
   "source": [
    "ls /home/${USER}/directorio2/"
   ]
  },
  {
   "cell_type": "markdown",
   "metadata": {},
   "source": [
    "La siguiente ejecución movera el directorio `documentos` y todos sus subdirectorios a un nuevo directorio llamado `directorios-importantes`."
   ]
  },
  {
   "cell_type": "code",
   "execution_count": 8,
   "metadata": {},
   "outputs": [],
   "source": [
    "mv /home/${USER}/documentos /home/${USER}/directorios-importantes"
   ]
  },
  {
   "cell_type": "markdown",
   "metadata": {},
   "source": [
    "Puedes validar que el directorio se movió correctamente utilizando el comando `ls`."
   ]
  },
  {
   "cell_type": "code",
   "execution_count": 7,
   "metadata": {},
   "outputs": [],
   "source": [
    "ls /home/${USER}/"
   ]
  },
  {
   "cell_type": "markdown",
   "metadata": {},
   "source": [
    "# El Comando cp"
   ]
  },
  {
   "cell_type": "markdown",
   "metadata": {},
   "source": [
    "`cp` (abreviación de \"copy\") es un comando que sirve para copiar archivos y/o directorios de un lugar a otro\n",
    "  * Permite archivos simples o múltiples archivos.\n",
    "  * Para copiar directorios enteros de forma recursiva se debe utilizar la flag `-R` así `cp -R /directorio/de/origen/con/muchosarchivos/ /directorio/de/destino/`."
   ]
  },
  {
   "cell_type": "markdown",
   "metadata": {},
   "source": [
    "La siguiente ejecución copia el archivo `archivo1.txt` desde el directorio `directorio2` de vuelta al directorio `directorio1`."
   ]
  },
  {
   "cell_type": "code",
   "execution_count": null,
   "metadata": {},
   "outputs": [],
   "source": [
    "cp /home/${USER}/directorio2/archivo1.txt /home/${USER}/directorio1/"
   ]
  },
  {
   "cell_type": "markdown",
   "metadata": {},
   "source": [
    "Puedes validar que los archivos se copiaron correctamente utilizando el comando `ls`."
   ]
  },
  {
   "cell_type": "code",
   "execution_count": 8,
   "metadata": {},
   "outputs": [],
   "source": [
    "ls /home/${USER}/directorio1/"
   ]
  },
  {
   "cell_type": "code",
   "execution_count": 8,
   "metadata": {},
   "outputs": [],
   "source": [
    "ls /home/${USER}/directorio2/"
   ]
  },
  {
   "cell_type": "markdown",
   "metadata": {},
   "source": [
    "La siguiente ejecución copia el directorio `directorios-importantes` y todos sus subdirectorios de manera recursiva `-R` a un nuevo directorio llamado `informacion-personal`."
   ]
  },
  {
   "cell_type": "code",
   "execution_count": 8,
   "metadata": {},
   "outputs": [],
   "source": [
    "cp -R /home/${USER}/directorios-importantes /home/${USER}/informacion-personal"
   ]
  },
  {
   "cell_type": "markdown",
   "metadata": {},
   "source": [
    "Puedes validar que el directorio se copió correctamente utilizando el comando `ls`."
   ]
  },
  {
   "cell_type": "code",
   "execution_count": 7,
   "metadata": {},
   "outputs": [],
   "source": [
    "ls /home/${USER}/"
   ]
  },
  {
   "cell_type": "markdown",
   "metadata": {},
   "source": [
    "# El Comando cd"
   ]
  },
  {
   "cell_type": "markdown",
   "metadata": {},
   "source": [
    "`cd` (abreviación de \"change directory\") es un comando que sirve para moverte entre directorios\n",
    "  * Puedes moverte utilizando rutas absolutas o relativas por ejemplo si estás en `/home/${USER}/` y quieres moverte a `directorio1` puedes utilizar:\n",
    "  * Rutas absolutas: `cd /home/${USER}/directorio1/` (importante que siempre que uses rutas absolutas antepongas la raíz`/`)\n",
    "  * Rutas relativas: `cd directorio1` (esto debido a que ya estás dentro de `/home/${USER}/` asi que solo te moverás un espacio hacia adelante.\n",
    "  * Puedes utilizar atajos, por ejemplo:\n",
    "  * Moverte un directorio hacia atras: `cd ..`\n",
    "  * Moverte dos o más directorios hacia atrás: `cd ../../` (tantos ../ como directorios desees moverte)."
   ]
  },
  {
   "cell_type": "markdown",
   "metadata": {},
   "source": [
    "La siguiente ejecución del comando `pwd` te permitirá determinar en que directorio estás."
   ]
  },
  {
   "cell_type": "code",
   "execution_count": null,
   "metadata": {},
   "outputs": [],
   "source": [
    "pwd"
   ]
  },
  {
   "cell_type": "markdown",
   "metadata": {},
   "source": [
    "Ahora la siguiente ejecución te permitirá moverte al directorio `/home/${USER}/directorio1/` (reemplaza `${USER}` por el nombre del usuario del directorio)"
   ]
  },
  {
   "cell_type": "code",
   "execution_count": null,
   "metadata": {},
   "outputs": [],
   "source": [
    "cd /home/${USER}/directorio1/"
   ]
  },
  {
   "cell_type": "markdown",
   "metadata": {},
   "source": [
    "Puedes validar en que directorio estás ahora ejecutando de nuevo el comando `pwd`."
   ]
  },
  {
   "cell_type": "code",
   "execution_count": null,
   "metadata": {},
   "outputs": [],
   "source": [
    "pwd"
   ]
  },
  {
   "cell_type": "markdown",
   "metadata": {},
   "source": [
    "Ahora la siguiente ejecución te permitirá con el atajo `../` al directorio `/home/${USER}/directorio2/`"
   ]
  },
  {
   "cell_type": "code",
   "execution_count": null,
   "metadata": {},
   "outputs": [],
   "source": [
    "cd ../directorio2/"
   ]
  },
  {
   "cell_type": "markdown",
   "metadata": {},
   "source": [
    "Puedes validar de nuevo en que directorio estás ahora ejecutando de nuevo el comando `pwd`."
   ]
  },
  {
   "cell_type": "code",
   "execution_count": null,
   "metadata": {},
   "outputs": [],
   "source": [
    "pwd"
   ]
  },
  {
   "cell_type": "markdown",
   "metadata": {},
   "source": [
    "# El Comando rm o el Comando rmdir"
   ]
  },
  {
   "cell_type": "markdown",
   "metadata": {},
   "source": [
    "`rm` (abreviación de \"remove\") o `rmdir` (abreviación de \"remove directory\" menos utilizado) son comandos eliminar archivos o directorios.\n",
    "  * Se ejecuta simplemente `rm` borrar un solo archivo `rm /ruta/al/archivo/a/borrar/`\n",
    "  * Se ejecuta `rmdir` para borrar directorios vacíos `rmdir /ruta/al/directorio/vacio/`\n",
    "  * Con `rm` se ejecuta la flag `-f` que permite omitir la confirmación (forzar el borrado)\n",
    "  * Con `rm` se ejecuta la flag `-r` para poder borrar directorios con contenido en su interior (recursivamente)\n",
    "  * Dados los ejemplos anteriores con `rm` podríamos borrar un directorio con contenido de manera recursiva y forzada así `rm -rf /ruta/al/directorio/con/contenido/a/borrar/`"
   ]
  },
  {
   "cell_type": "markdown",
   "metadata": {},
   "source": [
    "La siguiente ejecución de `rmdir` intentará eliminar el contenido del directorio `directorio2` sin embargo fallará debido a que ese directorio no está vacío."
   ]
  },
  {
   "cell_type": "code",
   "execution_count": null,
   "metadata": {},
   "outputs": [],
   "source": [
    "rmdir /home/${USER}/directorio2/"
   ]
  },
  {
   "cell_type": "markdown",
   "metadata": {},
   "source": [
    "La siguiente ejecución de `rm` con el flag `-rf` sí te permitirá eliminar el directorio2 y todo su contenido `/home/${USER}/directorio2/`"
   ]
  },
  {
   "cell_type": "code",
   "execution_count": null,
   "metadata": {},
   "outputs": [],
   "source": [
    "rm -rf /home/${USER}/directorio2/"
   ]
  },
  {
   "cell_type": "markdown",
   "metadata": {},
   "source": [
    "Puedes validar que el directorio fue borrado con el comando `ls`."
   ]
  },
  {
   "cell_type": "code",
   "execution_count": null,
   "metadata": {},
   "outputs": [],
   "source": [
    "ls /home/${USER}/"
   ]
  },
  {
   "cell_type": "markdown",
   "metadata": {},
   "source": [
    "# El Comando curl y el Comando wget"
   ]
  },
  {
   "cell_type": "markdown",
   "metadata": {},
   "source": [
    "`curl` (abreviación de \"client for URL's\") es una poderosa herramienta que te permite transferir datos utilizando diferentes protocolos. \n",
    "`wget` (abreviación de \"world wide web get\") es una herramienta que permite obtener recursos de internet.\n",
    "  * Se ejecuta `curl` y el sitio web objetivo para hacer una consulta simple de GET `curl https://google.com/`\n",
    "  * Se ejecuta `wget` y el recurso en línea objetivo para hacer una descarga de archivo `wget https://sitio.web/archivoadescargar.txt`\n",
    "  * Se puede añadir el flag `-O` a `wget` para definir en donde se almacenará el recurso descargado."
   ]
  },
  {
   "cell_type": "markdown",
   "metadata": {},
   "source": [
    "La siguiente ejecución te permitirá descargar con curl un archivo de mp3 de ejemplo de un sitio web, y guardarlo en la ruta `/home/${USER}/directorio1/` con el nombre `archivodeaudio.mp3`."
   ]
  },
  {
   "cell_type": "code",
   "execution_count": null,
   "metadata": {},
   "outputs": [],
   "source": [
    "wget https://file-examples.com/wp-content/uploads/2017/11/file_example_MP3_700KB.mp3 -O /home/${USER}/directorio1/archivodeaudio.mp3"
   ]
  },
  {
   "cell_type": "markdown",
   "metadata": {},
   "source": [
    "Puedes validar que el archivo fue creado con el comando `ls`."
   ]
  },
  {
   "cell_type": "code",
   "execution_count": null,
   "metadata": {},
   "outputs": [],
   "source": [
    "ls /home/${USER}/directorio1/"
   ]
  },
  {
   "cell_type": "markdown",
   "metadata": {},
   "source": [
    "# El Comando ln"
   ]
  },
  {
   "cell_type": "markdown",
   "metadata": {},
   "source": [
    "`ln` (abreviación de \"link\") crea enlaces simbólicos de archivos en Linux, los enlaces simbólicos son una especie de \"accesos directos\" (aunque no es la definición más acertada) de recursos en Linux, por ejemplo, binarios.\n",
    "\n",
    "* Se utiliza `ln origen destino`\n",
    "* Se utilizan diferentes flags como `-f` para forzar en caso de falla o `-b` para conservar el nombre original.\n",
    "\n",
    " "
   ]
  },
  {
   "cell_type": "markdown",
   "metadata": {},
   "source": [
    "La siguiente ejecución te permitirá crear un enlace simbólico del archivo de audio `archivodeaudio` ubicado en `/home/${USER}/directorio1/` en el directorio `/home/${USER}/`."
   ]
  },
  {
   "cell_type": "code",
   "execution_count": null,
   "metadata": {},
   "outputs": [],
   "source": [
    "ln /home/${USER}/directorio1/archivodeaudio.mp3 /home/${USER}/archivodeaudio.mp3"
   ]
  },
  {
   "cell_type": "markdown",
   "metadata": {},
   "source": [
    "Puedes validar que el enlace simbólico fue creado con el comando `ls`."
   ]
  },
  {
   "cell_type": "code",
   "execution_count": null,
   "metadata": {},
   "outputs": [],
   "source": [
    "ls /home/${USER}"
   ]
  },
  {
   "cell_type": "markdown",
   "metadata": {},
   "source": [
    "También es posible ejecutar el comando para crear dicho archivo con un nombre diferente:"
   ]
  },
  {
   "cell_type": "code",
   "execution_count": null,
   "metadata": {},
   "outputs": [],
   "source": [
    "ln /home/${USER}/directorio1/archivodeaudio.mp3 /home/${USER}/archivodeaudio-nuevo.mp3"
   ]
  },
  {
   "cell_type": "markdown",
   "metadata": {},
   "source": [
    "Validamos el nuevo enlace simbólico."
   ]
  },
  {
   "cell_type": "code",
   "execution_count": null,
   "metadata": {},
   "outputs": [],
   "source": [
    "ls /home/${USER}"
   ]
  },
  {
   "cell_type": "markdown",
   "metadata": {},
   "source": [
    "Si ejecutas de nuevo el anterior comando para tratar de sobreescribir el enlace simbolico va a fallar. Probemos:"
   ]
  },
  {
   "cell_type": "code",
   "execution_count": null,
   "metadata": {},
   "outputs": [],
   "source": [
    "ln /home/${USER}/directorio1/archivodeaudio.mp3 /home/${USER}/archivodeaudio-nuevo.mp3"
   ]
  },
  {
   "cell_type": "markdown",
   "metadata": {},
   "source": [
    "Sin embargo con la opción `-f` se forzará su ejecución."
   ]
  },
  {
   "cell_type": "code",
   "execution_count": null,
   "metadata": {},
   "outputs": [],
   "source": [
    "ln -f /home/${USER}/directorio1/archivodeaudio.mp3 /home/${USER}/archivodeaudio-nuevo.mp3"
   ]
  },
  {
   "cell_type": "markdown",
   "metadata": {},
   "source": [
    "# El Comando find"
   ]
  },
  {
   "cell_type": "markdown",
   "metadata": {},
   "source": [
    "`find` te permitirá buscar archivos y/o directorios.\n",
    "* Se utiliza `find ruta opciones patron`.\n",
    "* Se pueden utilizar wildcards por ejemplo *.txt permitirá buscar todos los archivos.txt\n",
    "* Se pueden utilizar flags como `--name` para buscar el nombre exacto o `-iname` para buscar el nombre exacto sin importar si son mayúsculas o minúsculas."
   ]
  },
  {
   "cell_type": "markdown",
   "metadata": {},
   "source": [
    "La siguiente ejecución te permitira buscar todos los archivos `.mp3` del directorio `/home/${USER}/`"
   ]
  },
  {
   "cell_type": "code",
   "execution_count": 2,
   "metadata": {},
   "outputs": [
    {
     "name": "stdout",
     "output_type": "stream",
     "text": [
      "find: --iname: unknown primary or operator\r\n",
      "\n"
     ]
    }
   ],
   "source": [
    "find /home/${USER}/ --iname \"*.mp3\""
   ]
  },
  {
   "cell_type": "markdown",
   "metadata": {},
   "source": [
    "Con esta deberías poder ver la ubicación de `archivodeaudio.mp3`"
   ]
  },
  {
   "cell_type": "markdown",
   "metadata": {},
   "source": [
    "# El Comando date"
   ]
  },
  {
   "cell_type": "markdown",
   "metadata": {},
   "source": [
    "`date` te dará la hora y fecha del sistema. \n",
    "`wget` (abreviación de \"world wide web get\")es una herramienta que permite obtener recursos de internet.\n",
    "  * Puedes utilizar cientos de formatos diferentes algunos ejemplos son:\n",
    "  * `date +%Y-%m-%d` Te dará la fecha en este formato: 2020-08-02\n",
    "  * `date +%D` Te dará la fecha en este formato:  08/02/20\n",
    "  * `date --date=\"1 day ago\"` Te dará la fecha y hora de un día atrás. "
   ]
  },
  {
   "cell_type": "markdown",
   "metadata": {},
   "source": [
    "La siguiente ejecución te dará una salida simple del formato date"
   ]
  },
  {
   "cell_type": "code",
   "execution_count": null,
   "metadata": {},
   "outputs": [],
   "source": [
    "date"
   ]
  },
  {
   "cell_type": "markdown",
   "metadata": {},
   "source": [
    "# El Comando grep"
   ]
  },
  {
   "cell_type": "markdown",
   "metadata": {},
   "source": [
    "`grep` te permitirá filtrar una palabra dentro de la ejecución de un comando o dentro de un archivo.\n",
    "* Se utiliza `grep` opciones patron archivo.\n",
    "\n",
    "(Veremos ejemplos de este comando en el siguiente ejercicio)"
   ]
  },
  {
   "cell_type": "markdown",
   "metadata": {},
   "source": [
    "# El Comando cat"
   ]
  },
  {
   "cell_type": "markdown",
   "metadata": {},
   "source": [
    "`cat` te permitirá imprimir en pantalla el contenido de un archivo. \n",
    "* Se utiliza `cat archivo.txt`\n",
    "\n",
    "(Veremos ejemplos de este comando en el siguiente ejercicio)"
   ]
  },
  {
   "cell_type": "markdown",
   "metadata": {},
   "source": [
    "# Las redirecciones simples (>) y dobles (>>)"
   ]
  },
  {
   "cell_type": "markdown",
   "metadata": {},
   "source": [
    "* Las redirecciones simples (>) te permitirán, por ejemplo, escribir la salida de un comando a la primera línea de un archivo, sobreescribiendo todo su contenido, incluso si este archivo no existe lo podrá crear, por ejemplo:\n",
    "\n",
    "`comando > archivo.txt`\n",
    "\n",
    "* Las redirecciones dobles harán algo similar, sin embargo, no sobreescribirán el archivo, sino que enviarán la salida del comando a la última línea del mismo.\n",
    "\n",
    "`comando >> archivo.txt`"
   ]
  },
  {
   "cell_type": "markdown",
   "metadata": {},
   "source": [
    "La siguiente ejecución reenviará la salida del comando `ls /home/${USER}/directorio1/` a el archivo `archivodeprueba.txt`"
   ]
  },
  {
   "cell_type": "code",
   "execution_count": null,
   "metadata": {},
   "outputs": [],
   "source": [
    "ls /home/${USER}/directorio1/ > /home/${USER}/archivodeprueba.txt"
   ]
  },
  {
   "cell_type": "code",
   "execution_count": null,
   "metadata": {},
   "outputs": [],
   "source": [
    "cat /home/${USER}/archivodeprueba.txt"
   ]
  },
  {
   "cell_type": "code",
   "execution_count": null,
   "metadata": {},
   "outputs": [],
   "source": [
    "date > /home/${USER}/archivodeprueba.txt"
   ]
  },
  {
   "cell_type": "markdown",
   "metadata": {},
   "source": [
    "Puedes validar el contenido del archivo `archivodeprueba.txt` con el comando `cat`"
   ]
  },
  {
   "cell_type": "code",
   "execution_count": null,
   "metadata": {},
   "outputs": [],
   "source": [
    "cat /home/${USER}/archivodeprueba.txt"
   ]
  },
  {
   "cell_type": "markdown",
   "metadata": {},
   "source": [
    "La siguiente ejecución reenviará la salida del comando `date --date=\"1 month ago\"` (la fecha de hace un mes) a el archivo `archivodeprueba.txt`, pero lo hará en una nueva línea del archivo, sin sobreescribir su contenido."
   ]
  },
  {
   "cell_type": "code",
   "execution_count": null,
   "metadata": {},
   "outputs": [],
   "source": [
    "date --date=\"1 month ago\" >> /home/${USER}/archivodeprueba.txt"
   ]
  },
  {
   "cell_type": "markdown",
   "metadata": {},
   "source": [
    "Puedes validar el contenido del archivo `archivodeprueba.txt` con el comando `cat`"
   ]
  },
  {
   "cell_type": "code",
   "execution_count": null,
   "metadata": {},
   "outputs": [],
   "source": [
    "cat /home/${USER}/archivodeprueba.txt"
   ]
  },
  {
   "cell_type": "markdown",
   "metadata": {},
   "source": [
    "# Las tuberías o pipe (|)"
   ]
  },
  {
   "cell_type": "markdown",
   "metadata": {},
   "source": [
    "* Las tuberías sirven para enviar la salida de un comando a otro comando, por ejemplo, sabemos que con `cat` podemos ver el contenido del archivo `/home/${USER}/archivodeprueba.txt` que ahora tiene en su interior algo como:\n",
    "`dom 09 ago 2020 12:51:56 -05`\n",
    "`jue 09 jul 2020 12:54:58 -05`\n",
    "\n",
    "Con el uso de la tubería `|` y el comando `grep` filtraremos la primera línea de ese archivo con el nombre del mes, por ejemplo:\n",
    "\n",
    "`cat /home/${USER}/archivodeprueba.txt | grep \"ago\"\n",
    "\n",
    "Haremos esta ejecución a continuación."
   ]
  },
  {
   "cell_type": "markdown",
   "metadata": {},
   "source": [
    "Imprimiremos con `cat` el contenido del archivo `/home/${USER}/archivodeprueba.txt`"
   ]
  },
  {
   "cell_type": "code",
   "execution_count": null,
   "metadata": {},
   "outputs": [],
   "source": [
    "cat /home/${USER}/archivodeprueba.txt"
   ]
  },
  {
   "cell_type": "markdown",
   "metadata": {},
   "source": [
    "Queremos filtrar la primera línea de ese archivo, así que filtraremos con `grep` el mes de esa primera línea `/home/${USER}/archivodeprueba.txt` cambia el texto `${MES}` por el mes a filtrar ( por ejemplo `grep \"Oct\"`)."
   ]
  },
  {
   "cell_type": "code",
   "execution_count": null,
   "metadata": {},
   "outputs": [],
   "source": [
    "cat /home/${USER}/archivodeprueba.txt | grep \"${MES}\""
   ]
  },
  {
   "cell_type": "markdown",
   "metadata": {},
   "source": [
    "Deberás ver solo la línea filtrada en lugar de dos líneas."
   ]
  },
  {
   "cell_type": "markdown",
   "metadata": {},
   "source": [
    "# Los ampersand (&)"
   ]
  },
  {
   "cell_type": "markdown",
   "metadata": {},
   "source": [
    "* Los ampersand simples en Linux sirven para ejecutar multiples comandos en una única línea sin importar si alguno de los comandos falla o no.\n",
    "\n",
    "`commando1 & commando2 & commando3`\n",
    "\n",
    "* Los ampersand dobles no permiten continuar la secuencia de ejecución de los comandos, hasta que se ejecuten (uno por uno), de manera correcta.\n",
    "\n",
    "`commando1 && commando2 && commando3`"
   ]
  },
  {
   "cell_type": "markdown",
   "metadata": {},
   "source": [
    "La siguiente ejecución listará el contenido del `directorio1` y luego el contenido del `directorio2`"
   ]
  },
  {
   "cell_type": "code",
   "execution_count": null,
   "metadata": {},
   "outputs": [],
   "source": [
    "ls -la /home/${USER}/directorio1 & ls -la /home/${USER}/"
   ]
  }
 ],
 "metadata": {
  "kernelspec": {
   "display_name": "Calysto Bash",
   "language": "bash",
   "name": "calysto_bash"
  },
  "language_info": {
   "file_extension": ".sh",
   "help_links": [
    {
     "text": "MetaKernel Magics",
     "url": "https://metakernel.readthedocs.io/en/latest/source/README.html"
    }
   ],
   "mimetype": "text/x-sh",
   "name": "bash",
   "version": "0.2.2"
  }
 },
 "nbformat": 4,
 "nbformat_minor": 2
}
